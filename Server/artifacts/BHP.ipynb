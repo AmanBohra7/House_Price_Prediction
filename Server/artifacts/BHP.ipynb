{
 "cells": [
  {
   "cell_type": "code",
   "execution_count": 1,
   "metadata": {},
   "outputs": [],
   "source": [
    "import pandas as pd\n",
    "import numpy as np\n",
    "import seaborn as sns\n",
    "import matplotlib.pyplot as plt"
   ]
  },
  {
   "cell_type": "code",
   "execution_count": 2,
   "metadata": {},
   "outputs": [],
   "source": [
    "%matplotlib inline\n",
    "import warnings\n",
    "warnings.filterwarnings('ignore')"
   ]
  },
  {
   "cell_type": "markdown",
   "metadata": {},
   "source": [
    "# Uploading Data"
   ]
  },
  {
   "cell_type": "code",
   "execution_count": 3,
   "metadata": {},
   "outputs": [
    {
     "data": {
      "text/html": [
       "<div>\n",
       "<style scoped>\n",
       "    .dataframe tbody tr th:only-of-type {\n",
       "        vertical-align: middle;\n",
       "    }\n",
       "\n",
       "    .dataframe tbody tr th {\n",
       "        vertical-align: top;\n",
       "    }\n",
       "\n",
       "    .dataframe thead th {\n",
       "        text-align: right;\n",
       "    }\n",
       "</style>\n",
       "<table border=\"1\" class=\"dataframe\">\n",
       "  <thead>\n",
       "    <tr style=\"text-align: right;\">\n",
       "      <th></th>\n",
       "      <th>area_type</th>\n",
       "      <th>availability</th>\n",
       "      <th>location</th>\n",
       "      <th>size</th>\n",
       "      <th>society</th>\n",
       "      <th>total_sqft</th>\n",
       "      <th>bath</th>\n",
       "      <th>balcony</th>\n",
       "      <th>price</th>\n",
       "    </tr>\n",
       "  </thead>\n",
       "  <tbody>\n",
       "    <tr>\n",
       "      <th>0</th>\n",
       "      <td>Super built-up  Area</td>\n",
       "      <td>19-Dec</td>\n",
       "      <td>Electronic City Phase II</td>\n",
       "      <td>2 BHK</td>\n",
       "      <td>Coomee</td>\n",
       "      <td>1056</td>\n",
       "      <td>2.0</td>\n",
       "      <td>1.0</td>\n",
       "      <td>39.07</td>\n",
       "    </tr>\n",
       "    <tr>\n",
       "      <th>1</th>\n",
       "      <td>Plot  Area</td>\n",
       "      <td>Ready To Move</td>\n",
       "      <td>Chikka Tirupathi</td>\n",
       "      <td>4 Bedroom</td>\n",
       "      <td>Theanmp</td>\n",
       "      <td>2600</td>\n",
       "      <td>5.0</td>\n",
       "      <td>3.0</td>\n",
       "      <td>120.00</td>\n",
       "    </tr>\n",
       "    <tr>\n",
       "      <th>2</th>\n",
       "      <td>Built-up  Area</td>\n",
       "      <td>Ready To Move</td>\n",
       "      <td>Uttarahalli</td>\n",
       "      <td>3 BHK</td>\n",
       "      <td>NaN</td>\n",
       "      <td>1440</td>\n",
       "      <td>2.0</td>\n",
       "      <td>3.0</td>\n",
       "      <td>62.00</td>\n",
       "    </tr>\n",
       "    <tr>\n",
       "      <th>3</th>\n",
       "      <td>Super built-up  Area</td>\n",
       "      <td>Ready To Move</td>\n",
       "      <td>Lingadheeranahalli</td>\n",
       "      <td>3 BHK</td>\n",
       "      <td>Soiewre</td>\n",
       "      <td>1521</td>\n",
       "      <td>3.0</td>\n",
       "      <td>1.0</td>\n",
       "      <td>95.00</td>\n",
       "    </tr>\n",
       "    <tr>\n",
       "      <th>4</th>\n",
       "      <td>Super built-up  Area</td>\n",
       "      <td>Ready To Move</td>\n",
       "      <td>Kothanur</td>\n",
       "      <td>2 BHK</td>\n",
       "      <td>NaN</td>\n",
       "      <td>1200</td>\n",
       "      <td>2.0</td>\n",
       "      <td>1.0</td>\n",
       "      <td>51.00</td>\n",
       "    </tr>\n",
       "  </tbody>\n",
       "</table>\n",
       "</div>"
      ],
      "text/plain": [
       "              area_type   availability                  location       size  \\\n",
       "0  Super built-up  Area         19-Dec  Electronic City Phase II      2 BHK   \n",
       "1            Plot  Area  Ready To Move          Chikka Tirupathi  4 Bedroom   \n",
       "2        Built-up  Area  Ready To Move               Uttarahalli      3 BHK   \n",
       "3  Super built-up  Area  Ready To Move        Lingadheeranahalli      3 BHK   \n",
       "4  Super built-up  Area  Ready To Move                  Kothanur      2 BHK   \n",
       "\n",
       "   society total_sqft  bath  balcony   price  \n",
       "0  Coomee        1056   2.0      1.0   39.07  \n",
       "1  Theanmp       2600   5.0      3.0  120.00  \n",
       "2      NaN       1440   2.0      3.0   62.00  \n",
       "3  Soiewre       1521   3.0      1.0   95.00  \n",
       "4      NaN       1200   2.0      1.0   51.00  "
      ]
     },
     "execution_count": 3,
     "metadata": {},
     "output_type": "execute_result"
    }
   ],
   "source": [
    "df = pd.read_csv('Bengaluru_House_Data.csv')\n",
    "df.head()"
   ]
  },
  {
   "cell_type": "code",
   "execution_count": 4,
   "metadata": {},
   "outputs": [
    {
     "data": {
      "text/plain": [
       "(13320, 9)"
      ]
     },
     "execution_count": 4,
     "metadata": {},
     "output_type": "execute_result"
    }
   ],
   "source": [
    "df.shape"
   ]
  },
  {
   "cell_type": "markdown",
   "metadata": {},
   "source": [
    "# Data Cleaning"
   ]
  },
  {
   "cell_type": "code",
   "execution_count": 5,
   "metadata": {},
   "outputs": [],
   "source": [
    "numerical_features = df.select_dtypes(include='float64')\n",
    "catagorical_features = df.select_dtypes(include='object')"
   ]
  },
  {
   "cell_type": "code",
   "execution_count": 6,
   "metadata": {},
   "outputs": [
    {
     "data": {
      "text/html": [
       "<div>\n",
       "<style scoped>\n",
       "    .dataframe tbody tr th:only-of-type {\n",
       "        vertical-align: middle;\n",
       "    }\n",
       "\n",
       "    .dataframe tbody tr th {\n",
       "        vertical-align: top;\n",
       "    }\n",
       "\n",
       "    .dataframe thead th {\n",
       "        text-align: right;\n",
       "    }\n",
       "</style>\n",
       "<table border=\"1\" class=\"dataframe\">\n",
       "  <thead>\n",
       "    <tr style=\"text-align: right;\">\n",
       "      <th></th>\n",
       "      <th>bath</th>\n",
       "      <th>balcony</th>\n",
       "      <th>price</th>\n",
       "    </tr>\n",
       "  </thead>\n",
       "  <tbody>\n",
       "    <tr>\n",
       "      <th>count</th>\n",
       "      <td>13247.000000</td>\n",
       "      <td>12711.000000</td>\n",
       "      <td>13320.000000</td>\n",
       "    </tr>\n",
       "    <tr>\n",
       "      <th>mean</th>\n",
       "      <td>2.692610</td>\n",
       "      <td>1.584376</td>\n",
       "      <td>112.565627</td>\n",
       "    </tr>\n",
       "    <tr>\n",
       "      <th>std</th>\n",
       "      <td>1.341458</td>\n",
       "      <td>0.817263</td>\n",
       "      <td>148.971674</td>\n",
       "    </tr>\n",
       "    <tr>\n",
       "      <th>min</th>\n",
       "      <td>1.000000</td>\n",
       "      <td>0.000000</td>\n",
       "      <td>8.000000</td>\n",
       "    </tr>\n",
       "    <tr>\n",
       "      <th>25%</th>\n",
       "      <td>2.000000</td>\n",
       "      <td>1.000000</td>\n",
       "      <td>50.000000</td>\n",
       "    </tr>\n",
       "    <tr>\n",
       "      <th>50%</th>\n",
       "      <td>2.000000</td>\n",
       "      <td>2.000000</td>\n",
       "      <td>72.000000</td>\n",
       "    </tr>\n",
       "    <tr>\n",
       "      <th>75%</th>\n",
       "      <td>3.000000</td>\n",
       "      <td>2.000000</td>\n",
       "      <td>120.000000</td>\n",
       "    </tr>\n",
       "    <tr>\n",
       "      <th>max</th>\n",
       "      <td>40.000000</td>\n",
       "      <td>3.000000</td>\n",
       "      <td>3600.000000</td>\n",
       "    </tr>\n",
       "  </tbody>\n",
       "</table>\n",
       "</div>"
      ],
      "text/plain": [
       "               bath       balcony         price\n",
       "count  13247.000000  12711.000000  13320.000000\n",
       "mean       2.692610      1.584376    112.565627\n",
       "std        1.341458      0.817263    148.971674\n",
       "min        1.000000      0.000000      8.000000\n",
       "25%        2.000000      1.000000     50.000000\n",
       "50%        2.000000      2.000000     72.000000\n",
       "75%        3.000000      2.000000    120.000000\n",
       "max       40.000000      3.000000   3600.000000"
      ]
     },
     "execution_count": 6,
     "metadata": {},
     "output_type": "execute_result"
    }
   ],
   "source": [
    "numerical_features.describe()"
   ]
  },
  {
   "cell_type": "code",
   "execution_count": 7,
   "metadata": {},
   "outputs": [
    {
     "data": {
      "text/html": [
       "<div>\n",
       "<style scoped>\n",
       "    .dataframe tbody tr th:only-of-type {\n",
       "        vertical-align: middle;\n",
       "    }\n",
       "\n",
       "    .dataframe tbody tr th {\n",
       "        vertical-align: top;\n",
       "    }\n",
       "\n",
       "    .dataframe thead th {\n",
       "        text-align: right;\n",
       "    }\n",
       "</style>\n",
       "<table border=\"1\" class=\"dataframe\">\n",
       "  <thead>\n",
       "    <tr style=\"text-align: right;\">\n",
       "      <th></th>\n",
       "      <th>area_type</th>\n",
       "      <th>availability</th>\n",
       "      <th>location</th>\n",
       "      <th>size</th>\n",
       "      <th>society</th>\n",
       "      <th>total_sqft</th>\n",
       "    </tr>\n",
       "  </thead>\n",
       "  <tbody>\n",
       "    <tr>\n",
       "      <th>count</th>\n",
       "      <td>13320</td>\n",
       "      <td>13320</td>\n",
       "      <td>13319</td>\n",
       "      <td>13304</td>\n",
       "      <td>7818</td>\n",
       "      <td>13320</td>\n",
       "    </tr>\n",
       "    <tr>\n",
       "      <th>unique</th>\n",
       "      <td>4</td>\n",
       "      <td>81</td>\n",
       "      <td>1305</td>\n",
       "      <td>31</td>\n",
       "      <td>2688</td>\n",
       "      <td>2117</td>\n",
       "    </tr>\n",
       "    <tr>\n",
       "      <th>top</th>\n",
       "      <td>Super built-up  Area</td>\n",
       "      <td>Ready To Move</td>\n",
       "      <td>Whitefield</td>\n",
       "      <td>2 BHK</td>\n",
       "      <td>GrrvaGr</td>\n",
       "      <td>1200</td>\n",
       "    </tr>\n",
       "    <tr>\n",
       "      <th>freq</th>\n",
       "      <td>8790</td>\n",
       "      <td>10581</td>\n",
       "      <td>540</td>\n",
       "      <td>5199</td>\n",
       "      <td>80</td>\n",
       "      <td>843</td>\n",
       "    </tr>\n",
       "  </tbody>\n",
       "</table>\n",
       "</div>"
      ],
      "text/plain": [
       "                   area_type   availability    location   size  society  \\\n",
       "count                  13320          13320       13319  13304     7818   \n",
       "unique                     4             81        1305     31     2688   \n",
       "top     Super built-up  Area  Ready To Move  Whitefield  2 BHK  GrrvaGr   \n",
       "freq                    8790          10581         540   5199       80   \n",
       "\n",
       "       total_sqft  \n",
       "count       13320  \n",
       "unique       2117  \n",
       "top          1200  \n",
       "freq          843  "
      ]
     },
     "execution_count": 7,
     "metadata": {},
     "output_type": "execute_result"
    }
   ],
   "source": [
    "catagorical_features.describe()"
   ]
  },
  {
   "cell_type": "code",
   "execution_count": 8,
   "metadata": {},
   "outputs": [
    {
     "data": {
      "text/html": [
       "<div>\n",
       "<style scoped>\n",
       "    .dataframe tbody tr th:only-of-type {\n",
       "        vertical-align: middle;\n",
       "    }\n",
       "\n",
       "    .dataframe tbody tr th {\n",
       "        vertical-align: top;\n",
       "    }\n",
       "\n",
       "    .dataframe thead th {\n",
       "        text-align: right;\n",
       "    }\n",
       "</style>\n",
       "<table border=\"1\" class=\"dataframe\">\n",
       "  <thead>\n",
       "    <tr style=\"text-align: right;\">\n",
       "      <th></th>\n",
       "      <th>area_type</th>\n",
       "      <th>availability</th>\n",
       "      <th>location</th>\n",
       "      <th>size</th>\n",
       "      <th>society</th>\n",
       "      <th>total_sqft</th>\n",
       "      <th>bath</th>\n",
       "      <th>balcony</th>\n",
       "      <th>price</th>\n",
       "    </tr>\n",
       "  </thead>\n",
       "  <tbody>\n",
       "    <tr>\n",
       "      <th>0</th>\n",
       "      <td>Super built-up  Area</td>\n",
       "      <td>19-Dec</td>\n",
       "      <td>Electronic City Phase II</td>\n",
       "      <td>2 BHK</td>\n",
       "      <td>Coomee</td>\n",
       "      <td>1056</td>\n",
       "      <td>2.0</td>\n",
       "      <td>1.0</td>\n",
       "      <td>39.07</td>\n",
       "    </tr>\n",
       "    <tr>\n",
       "      <th>1</th>\n",
       "      <td>Plot  Area</td>\n",
       "      <td>Ready To Move</td>\n",
       "      <td>Chikka Tirupathi</td>\n",
       "      <td>4 Bedroom</td>\n",
       "      <td>Theanmp</td>\n",
       "      <td>2600</td>\n",
       "      <td>5.0</td>\n",
       "      <td>3.0</td>\n",
       "      <td>120.00</td>\n",
       "    </tr>\n",
       "    <tr>\n",
       "      <th>2</th>\n",
       "      <td>Built-up  Area</td>\n",
       "      <td>Ready To Move</td>\n",
       "      <td>Uttarahalli</td>\n",
       "      <td>3 BHK</td>\n",
       "      <td>NaN</td>\n",
       "      <td>1440</td>\n",
       "      <td>2.0</td>\n",
       "      <td>3.0</td>\n",
       "      <td>62.00</td>\n",
       "    </tr>\n",
       "    <tr>\n",
       "      <th>3</th>\n",
       "      <td>Super built-up  Area</td>\n",
       "      <td>Ready To Move</td>\n",
       "      <td>Lingadheeranahalli</td>\n",
       "      <td>3 BHK</td>\n",
       "      <td>Soiewre</td>\n",
       "      <td>1521</td>\n",
       "      <td>3.0</td>\n",
       "      <td>1.0</td>\n",
       "      <td>95.00</td>\n",
       "    </tr>\n",
       "    <tr>\n",
       "      <th>4</th>\n",
       "      <td>Super built-up  Area</td>\n",
       "      <td>Ready To Move</td>\n",
       "      <td>Kothanur</td>\n",
       "      <td>2 BHK</td>\n",
       "      <td>NaN</td>\n",
       "      <td>1200</td>\n",
       "      <td>2.0</td>\n",
       "      <td>1.0</td>\n",
       "      <td>51.00</td>\n",
       "    </tr>\n",
       "  </tbody>\n",
       "</table>\n",
       "</div>"
      ],
      "text/plain": [
       "              area_type   availability                  location       size  \\\n",
       "0  Super built-up  Area         19-Dec  Electronic City Phase II      2 BHK   \n",
       "1            Plot  Area  Ready To Move          Chikka Tirupathi  4 Bedroom   \n",
       "2        Built-up  Area  Ready To Move               Uttarahalli      3 BHK   \n",
       "3  Super built-up  Area  Ready To Move        Lingadheeranahalli      3 BHK   \n",
       "4  Super built-up  Area  Ready To Move                  Kothanur      2 BHK   \n",
       "\n",
       "   society total_sqft  bath  balcony   price  \n",
       "0  Coomee        1056   2.0      1.0   39.07  \n",
       "1  Theanmp       2600   5.0      3.0  120.00  \n",
       "2      NaN       1440   2.0      3.0   62.00  \n",
       "3  Soiewre       1521   3.0      1.0   95.00  \n",
       "4      NaN       1200   2.0      1.0   51.00  "
      ]
     },
     "execution_count": 8,
     "metadata": {},
     "output_type": "execute_result"
    }
   ],
   "source": [
    "df.head()"
   ]
  },
  {
   "cell_type": "code",
   "execution_count": 9,
   "metadata": {},
   "outputs": [
    {
     "data": {
      "text/plain": [
       "area_type          0\n",
       "availability       0\n",
       "location           1\n",
       "size              16\n",
       "society         5502\n",
       "total_sqft         0\n",
       "bath              73\n",
       "balcony          609\n",
       "price              0\n",
       "dtype: int64"
      ]
     },
     "execution_count": 9,
     "metadata": {},
     "output_type": "execute_result"
    }
   ],
   "source": [
    "df['bath']  = df['bath'].astype(float)\n",
    "df.isnull().sum()"
   ]
  },
  {
   "cell_type": "code",
   "execution_count": 10,
   "metadata": {},
   "outputs": [
    {
     "data": {
      "text/plain": [
       "area_type\n",
       "Built-up  Area          2418\n",
       "Carpet  Area              87\n",
       "Plot  Area              2025\n",
       "Super built-up  Area    8790\n",
       "Name: area_type, dtype: int64"
      ]
     },
     "execution_count": 10,
     "metadata": {},
     "output_type": "execute_result"
    }
   ],
   "source": [
    "df.groupby('area_type')['area_type'].agg('count')"
   ]
  },
  {
   "cell_type": "code",
   "execution_count": 11,
   "metadata": {},
   "outputs": [
    {
     "data": {
      "text/html": [
       "<div>\n",
       "<style scoped>\n",
       "    .dataframe tbody tr th:only-of-type {\n",
       "        vertical-align: middle;\n",
       "    }\n",
       "\n",
       "    .dataframe tbody tr th {\n",
       "        vertical-align: top;\n",
       "    }\n",
       "\n",
       "    .dataframe thead th {\n",
       "        text-align: right;\n",
       "    }\n",
       "</style>\n",
       "<table border=\"1\" class=\"dataframe\">\n",
       "  <thead>\n",
       "    <tr style=\"text-align: right;\">\n",
       "      <th></th>\n",
       "      <th>location</th>\n",
       "      <th>size</th>\n",
       "      <th>total_sqft</th>\n",
       "      <th>bath</th>\n",
       "      <th>price</th>\n",
       "    </tr>\n",
       "  </thead>\n",
       "  <tbody>\n",
       "    <tr>\n",
       "      <th>0</th>\n",
       "      <td>Electronic City Phase II</td>\n",
       "      <td>2 BHK</td>\n",
       "      <td>1056</td>\n",
       "      <td>2.0</td>\n",
       "      <td>39.07</td>\n",
       "    </tr>\n",
       "    <tr>\n",
       "      <th>1</th>\n",
       "      <td>Chikka Tirupathi</td>\n",
       "      <td>4 Bedroom</td>\n",
       "      <td>2600</td>\n",
       "      <td>5.0</td>\n",
       "      <td>120.00</td>\n",
       "    </tr>\n",
       "    <tr>\n",
       "      <th>2</th>\n",
       "      <td>Uttarahalli</td>\n",
       "      <td>3 BHK</td>\n",
       "      <td>1440</td>\n",
       "      <td>2.0</td>\n",
       "      <td>62.00</td>\n",
       "    </tr>\n",
       "    <tr>\n",
       "      <th>3</th>\n",
       "      <td>Lingadheeranahalli</td>\n",
       "      <td>3 BHK</td>\n",
       "      <td>1521</td>\n",
       "      <td>3.0</td>\n",
       "      <td>95.00</td>\n",
       "    </tr>\n",
       "    <tr>\n",
       "      <th>4</th>\n",
       "      <td>Kothanur</td>\n",
       "      <td>2 BHK</td>\n",
       "      <td>1200</td>\n",
       "      <td>2.0</td>\n",
       "      <td>51.00</td>\n",
       "    </tr>\n",
       "  </tbody>\n",
       "</table>\n",
       "</div>"
      ],
      "text/plain": [
       "                   location       size total_sqft  bath   price\n",
       "0  Electronic City Phase II      2 BHK       1056   2.0   39.07\n",
       "1          Chikka Tirupathi  4 Bedroom       2600   5.0  120.00\n",
       "2               Uttarahalli      3 BHK       1440   2.0   62.00\n",
       "3        Lingadheeranahalli      3 BHK       1521   3.0   95.00\n",
       "4                  Kothanur      2 BHK       1200   2.0   51.00"
      ]
     },
     "execution_count": 11,
     "metadata": {},
     "output_type": "execute_result"
    }
   ],
   "source": [
    "df = df.drop(['area_type','availability','society','balcony'],axis='columns')\n",
    "df.head()"
   ]
  },
  {
   "cell_type": "code",
   "execution_count": 12,
   "metadata": {},
   "outputs": [
    {
     "data": {
      "text/plain": [
       "location       1\n",
       "size          16\n",
       "total_sqft     0\n",
       "bath          73\n",
       "price          0\n",
       "dtype: int64"
      ]
     },
     "execution_count": 12,
     "metadata": {},
     "output_type": "execute_result"
    }
   ],
   "source": [
    "df.isnull().sum()"
   ]
  },
  {
   "cell_type": "code",
   "execution_count": 13,
   "metadata": {},
   "outputs": [
    {
     "data": {
      "text/plain": [
       "location      0\n",
       "size          0\n",
       "total_sqft    0\n",
       "bath          0\n",
       "price         0\n",
       "dtype: int64"
      ]
     },
     "execution_count": 13,
     "metadata": {},
     "output_type": "execute_result"
    }
   ],
   "source": [
    "df = df.dropna()\n",
    "df.isnull().sum()"
   ]
  },
  {
   "cell_type": "code",
   "execution_count": 14,
   "metadata": {},
   "outputs": [
    {
     "data": {
      "text/plain": [
       "array(['2 BHK', '4 Bedroom', '3 BHK', '4 BHK', '6 Bedroom', '3 Bedroom',\n",
       "       '1 BHK', '1 RK', '1 Bedroom', '8 Bedroom', '2 Bedroom',\n",
       "       '7 Bedroom', '5 BHK', '7 BHK', '6 BHK', '5 Bedroom', '11 BHK',\n",
       "       '9 BHK', '9 Bedroom', '27 BHK', '10 Bedroom', '11 Bedroom',\n",
       "       '10 BHK', '19 BHK', '16 BHK', '43 Bedroom', '14 BHK', '8 BHK',\n",
       "       '12 Bedroom', '13 BHK', '18 Bedroom'], dtype=object)"
      ]
     },
     "execution_count": 14,
     "metadata": {},
     "output_type": "execute_result"
    }
   ],
   "source": [
    "df['size'].unique()"
   ]
  },
  {
   "cell_type": "code",
   "execution_count": 15,
   "metadata": {},
   "outputs": [],
   "source": [
    "df['bhk'] = df['size'].apply(lambda x: int(x.split(' ')[0]))"
   ]
  },
  {
   "cell_type": "code",
   "execution_count": 16,
   "metadata": {},
   "outputs": [
    {
     "data": {
      "text/html": [
       "<div>\n",
       "<style scoped>\n",
       "    .dataframe tbody tr th:only-of-type {\n",
       "        vertical-align: middle;\n",
       "    }\n",
       "\n",
       "    .dataframe tbody tr th {\n",
       "        vertical-align: top;\n",
       "    }\n",
       "\n",
       "    .dataframe thead th {\n",
       "        text-align: right;\n",
       "    }\n",
       "</style>\n",
       "<table border=\"1\" class=\"dataframe\">\n",
       "  <thead>\n",
       "    <tr style=\"text-align: right;\">\n",
       "      <th></th>\n",
       "      <th>location</th>\n",
       "      <th>size</th>\n",
       "      <th>total_sqft</th>\n",
       "      <th>bath</th>\n",
       "      <th>price</th>\n",
       "      <th>bhk</th>\n",
       "    </tr>\n",
       "  </thead>\n",
       "  <tbody>\n",
       "    <tr>\n",
       "      <th>0</th>\n",
       "      <td>Electronic City Phase II</td>\n",
       "      <td>2 BHK</td>\n",
       "      <td>1056</td>\n",
       "      <td>2.0</td>\n",
       "      <td>39.07</td>\n",
       "      <td>2</td>\n",
       "    </tr>\n",
       "    <tr>\n",
       "      <th>1</th>\n",
       "      <td>Chikka Tirupathi</td>\n",
       "      <td>4 Bedroom</td>\n",
       "      <td>2600</td>\n",
       "      <td>5.0</td>\n",
       "      <td>120.00</td>\n",
       "      <td>4</td>\n",
       "    </tr>\n",
       "    <tr>\n",
       "      <th>2</th>\n",
       "      <td>Uttarahalli</td>\n",
       "      <td>3 BHK</td>\n",
       "      <td>1440</td>\n",
       "      <td>2.0</td>\n",
       "      <td>62.00</td>\n",
       "      <td>3</td>\n",
       "    </tr>\n",
       "    <tr>\n",
       "      <th>3</th>\n",
       "      <td>Lingadheeranahalli</td>\n",
       "      <td>3 BHK</td>\n",
       "      <td>1521</td>\n",
       "      <td>3.0</td>\n",
       "      <td>95.00</td>\n",
       "      <td>3</td>\n",
       "    </tr>\n",
       "    <tr>\n",
       "      <th>4</th>\n",
       "      <td>Kothanur</td>\n",
       "      <td>2 BHK</td>\n",
       "      <td>1200</td>\n",
       "      <td>2.0</td>\n",
       "      <td>51.00</td>\n",
       "      <td>2</td>\n",
       "    </tr>\n",
       "  </tbody>\n",
       "</table>\n",
       "</div>"
      ],
      "text/plain": [
       "                   location       size total_sqft  bath   price  bhk\n",
       "0  Electronic City Phase II      2 BHK       1056   2.0   39.07    2\n",
       "1          Chikka Tirupathi  4 Bedroom       2600   5.0  120.00    4\n",
       "2               Uttarahalli      3 BHK       1440   2.0   62.00    3\n",
       "3        Lingadheeranahalli      3 BHK       1521   3.0   95.00    3\n",
       "4                  Kothanur      2 BHK       1200   2.0   51.00    2"
      ]
     },
     "execution_count": 16,
     "metadata": {},
     "output_type": "execute_result"
    }
   ],
   "source": [
    "df.head(5)"
   ]
  },
  {
   "cell_type": "code",
   "execution_count": 17,
   "metadata": {},
   "outputs": [
    {
     "data": {
      "text/plain": [
       "array([ 2,  4,  3,  6,  1,  8,  7,  5, 11,  9, 27, 10, 19, 16, 43, 14, 12,\n",
       "       13, 18], dtype=int64)"
      ]
     },
     "execution_count": 17,
     "metadata": {},
     "output_type": "execute_result"
    }
   ],
   "source": [
    "df.bhk.unique()"
   ]
  },
  {
   "cell_type": "code",
   "execution_count": 18,
   "metadata": {},
   "outputs": [
    {
     "data": {
      "text/html": [
       "<div>\n",
       "<style scoped>\n",
       "    .dataframe tbody tr th:only-of-type {\n",
       "        vertical-align: middle;\n",
       "    }\n",
       "\n",
       "    .dataframe tbody tr th {\n",
       "        vertical-align: top;\n",
       "    }\n",
       "\n",
       "    .dataframe thead th {\n",
       "        text-align: right;\n",
       "    }\n",
       "</style>\n",
       "<table border=\"1\" class=\"dataframe\">\n",
       "  <thead>\n",
       "    <tr style=\"text-align: right;\">\n",
       "      <th></th>\n",
       "      <th>location</th>\n",
       "      <th>size</th>\n",
       "      <th>total_sqft</th>\n",
       "      <th>bath</th>\n",
       "      <th>price</th>\n",
       "      <th>bhk</th>\n",
       "    </tr>\n",
       "  </thead>\n",
       "  <tbody>\n",
       "    <tr>\n",
       "      <th>1718</th>\n",
       "      <td>2Electronic City Phase II</td>\n",
       "      <td>27 BHK</td>\n",
       "      <td>8000</td>\n",
       "      <td>27.0</td>\n",
       "      <td>230.0</td>\n",
       "      <td>27</td>\n",
       "    </tr>\n",
       "    <tr>\n",
       "      <th>4684</th>\n",
       "      <td>Munnekollal</td>\n",
       "      <td>43 Bedroom</td>\n",
       "      <td>2400</td>\n",
       "      <td>40.0</td>\n",
       "      <td>660.0</td>\n",
       "      <td>43</td>\n",
       "    </tr>\n",
       "  </tbody>\n",
       "</table>\n",
       "</div>"
      ],
      "text/plain": [
       "                       location        size total_sqft  bath  price  bhk\n",
       "1718  2Electronic City Phase II      27 BHK       8000  27.0  230.0   27\n",
       "4684                Munnekollal  43 Bedroom       2400  40.0  660.0   43"
      ]
     },
     "execution_count": 18,
     "metadata": {},
     "output_type": "execute_result"
    }
   ],
   "source": [
    "df[df.bhk > 20]"
   ]
  },
  {
   "cell_type": "code",
   "execution_count": 19,
   "metadata": {},
   "outputs": [
    {
     "data": {
      "text/plain": [
       "array(['1056', '2600', '1440', ..., '1133 - 1384', '774', '4689'],\n",
       "      dtype=object)"
      ]
     },
     "execution_count": 19,
     "metadata": {},
     "output_type": "execute_result"
    }
   ],
   "source": [
    "df.total_sqft.unique()"
   ]
  },
  {
   "cell_type": "code",
   "execution_count": 20,
   "metadata": {},
   "outputs": [],
   "source": [
    "def is_Float(x):\n",
    "    try:\n",
    "        float(x)\n",
    "    except:\n",
    "        return False\n",
    "    return True"
   ]
  },
  {
   "cell_type": "code",
   "execution_count": 21,
   "metadata": {},
   "outputs": [
    {
     "data": {
      "text/plain": [
       "array(['2100 - 2850', '3067 - 8156', '1042 - 1105', '1145 - 1340',\n",
       "       '1015 - 1540', '34.46Sq. Meter', '1195 - 1440', '4125Perch',\n",
       "       '1120 - 1145', '3090 - 5002'], dtype=object)"
      ]
     },
     "execution_count": 21,
     "metadata": {},
     "output_type": "execute_result"
    }
   ],
   "source": [
    "df[~df['total_sqft'].apply(is_Float)]['total_sqft'].unique()[:10]"
   ]
  },
  {
   "cell_type": "code",
   "execution_count": 22,
   "metadata": {},
   "outputs": [],
   "source": [
    "def convert_range_to_avg(x):\n",
    "    tokens = x.split('-')\n",
    "    if len(tokens) == 2:\n",
    "        return str((float(tokens[0])+float(tokens[1]))/2)\n",
    "    else:\n",
    "        return x"
   ]
  },
  {
   "cell_type": "code",
   "execution_count": 23,
   "metadata": {},
   "outputs": [],
   "source": [
    "df.total_sqft = df.total_sqft.apply(convert_range_to_avg)"
   ]
  },
  {
   "cell_type": "code",
   "execution_count": 24,
   "metadata": {},
   "outputs": [
    {
     "data": {
      "text/html": [
       "<div>\n",
       "<style scoped>\n",
       "    .dataframe tbody tr th:only-of-type {\n",
       "        vertical-align: middle;\n",
       "    }\n",
       "\n",
       "    .dataframe tbody tr th {\n",
       "        vertical-align: top;\n",
       "    }\n",
       "\n",
       "    .dataframe thead th {\n",
       "        text-align: right;\n",
       "    }\n",
       "</style>\n",
       "<table border=\"1\" class=\"dataframe\">\n",
       "  <thead>\n",
       "    <tr style=\"text-align: right;\">\n",
       "      <th></th>\n",
       "      <th>location</th>\n",
       "      <th>size</th>\n",
       "      <th>total_sqft</th>\n",
       "      <th>bath</th>\n",
       "      <th>price</th>\n",
       "      <th>bhk</th>\n",
       "    </tr>\n",
       "  </thead>\n",
       "  <tbody>\n",
       "    <tr>\n",
       "      <th>13315</th>\n",
       "      <td>Whitefield</td>\n",
       "      <td>5 Bedroom</td>\n",
       "      <td>3453</td>\n",
       "      <td>4.0</td>\n",
       "      <td>231.0</td>\n",
       "      <td>5</td>\n",
       "    </tr>\n",
       "    <tr>\n",
       "      <th>13316</th>\n",
       "      <td>Richards Town</td>\n",
       "      <td>4 BHK</td>\n",
       "      <td>3600</td>\n",
       "      <td>5.0</td>\n",
       "      <td>400.0</td>\n",
       "      <td>4</td>\n",
       "    </tr>\n",
       "    <tr>\n",
       "      <th>13317</th>\n",
       "      <td>Raja Rajeshwari Nagar</td>\n",
       "      <td>2 BHK</td>\n",
       "      <td>1141</td>\n",
       "      <td>2.0</td>\n",
       "      <td>60.0</td>\n",
       "      <td>2</td>\n",
       "    </tr>\n",
       "    <tr>\n",
       "      <th>13318</th>\n",
       "      <td>Padmanabhanagar</td>\n",
       "      <td>4 BHK</td>\n",
       "      <td>4689</td>\n",
       "      <td>4.0</td>\n",
       "      <td>488.0</td>\n",
       "      <td>4</td>\n",
       "    </tr>\n",
       "    <tr>\n",
       "      <th>13319</th>\n",
       "      <td>Doddathoguru</td>\n",
       "      <td>1 BHK</td>\n",
       "      <td>550</td>\n",
       "      <td>1.0</td>\n",
       "      <td>17.0</td>\n",
       "      <td>1</td>\n",
       "    </tr>\n",
       "  </tbody>\n",
       "</table>\n",
       "</div>"
      ],
      "text/plain": [
       "                    location       size total_sqft  bath  price  bhk\n",
       "13315             Whitefield  5 Bedroom       3453   4.0  231.0    5\n",
       "13316          Richards Town      4 BHK       3600   5.0  400.0    4\n",
       "13317  Raja Rajeshwari Nagar      2 BHK       1141   2.0   60.0    2\n",
       "13318        Padmanabhanagar      4 BHK       4689   4.0  488.0    4\n",
       "13319           Doddathoguru      1 BHK        550   1.0   17.0    1"
      ]
     },
     "execution_count": 24,
     "metadata": {},
     "output_type": "execute_result"
    }
   ],
   "source": [
    "df.tail()"
   ]
  },
  {
   "cell_type": "code",
   "execution_count": 25,
   "metadata": {},
   "outputs": [
    {
     "data": {
      "text/plain": [
       "46"
      ]
     },
     "execution_count": 25,
     "metadata": {},
     "output_type": "execute_result"
    }
   ],
   "source": [
    "df[~df['total_sqft'].apply(is_Float)].shape[0]"
   ]
  },
  {
   "cell_type": "code",
   "execution_count": 26,
   "metadata": {},
   "outputs": [
    {
     "data": {
      "text/plain": [
       "array(['34.46Sq. Meter', '4125Perch', '1000Sq. Meter', '1100Sq. Yards',\n",
       "       '5.31Acres', '30Acres', '716Sq. Meter', '1500Sq. Meter',\n",
       "       '142.61Sq. Meter', '1574Sq. Yards', '361.33Sq. Yards',\n",
       "       '117Sq. Yards', '3040Sq. Meter', '500Sq. Yards', '167Sq. Meter',\n",
       "       '315Sq. Yards', '3Cents', '188.89Sq. Yards', '204Sq. Meter',\n",
       "       '45Sq. Yards', '133.3Sq. Yards', '78.03Sq. Meter', '122Sq. Yards',\n",
       "       '84.53Sq. Meter', '2.09Acres', '24Guntha', '697Sq. Meter',\n",
       "       '1500Cents', '132Sq. Yards', '2Acres', '1100Sq. Meter', '15Acres',\n",
       "       '1.26Acres', '151.11Sq. Yards', '1Grounds', '2940Sq. Yards',\n",
       "       '45.06Sq. Meter', '1.25Acres', '86.72Sq. Meter', '38Guntha',\n",
       "       '6Acres', '120Sq. Yards', '24Sq. Meter', '142.84Sq. Meter',\n",
       "       '300Sq. Yards'], dtype=object)"
      ]
     },
     "execution_count": 26,
     "metadata": {},
     "output_type": "execute_result"
    }
   ],
   "source": [
    "df[~df['total_sqft'].apply(is_Float)]['total_sqft'].unique()"
   ]
  },
  {
   "cell_type": "code",
   "execution_count": 27,
   "metadata": {},
   "outputs": [],
   "source": [
    "def convert_object_to_float(x):\n",
    "    tokens = x.split('-')\n",
    "    if len(tokens) == 2:\n",
    "        return str((float(tokens[0])+float(tokens[1]))/2)\n",
    "    else:\n",
    "        try:\n",
    "            return float(x)\n",
    "        except:\n",
    "            return None"
   ]
  },
  {
   "cell_type": "code",
   "execution_count": 28,
   "metadata": {},
   "outputs": [],
   "source": [
    "df.total_sqft = df.total_sqft.apply(convert_object_to_float)"
   ]
  },
  {
   "cell_type": "code",
   "execution_count": 29,
   "metadata": {},
   "outputs": [
    {
     "name": "stdout",
     "output_type": "stream",
     "text": [
      "<class 'pandas.core.frame.DataFrame'>\n",
      "Int64Index: 13246 entries, 0 to 13319\n",
      "Data columns (total 6 columns):\n",
      "location      13246 non-null object\n",
      "size          13246 non-null object\n",
      "total_sqft    13200 non-null float64\n",
      "bath          13246 non-null float64\n",
      "price         13246 non-null float64\n",
      "bhk           13246 non-null int64\n",
      "dtypes: float64(3), int64(1), object(2)\n",
      "memory usage: 724.4+ KB\n"
     ]
    }
   ],
   "source": [
    "df.info()"
   ]
  },
  {
   "cell_type": "code",
   "execution_count": 30,
   "metadata": {},
   "outputs": [
    {
     "data": {
      "text/plain": [
       "location       0\n",
       "size           0\n",
       "total_sqft    46\n",
       "bath           0\n",
       "price          0\n",
       "bhk            0\n",
       "dtype: int64"
      ]
     },
     "execution_count": 30,
     "metadata": {},
     "output_type": "execute_result"
    }
   ],
   "source": [
    "df.isnull().sum()"
   ]
  },
  {
   "cell_type": "code",
   "execution_count": 31,
   "metadata": {},
   "outputs": [
    {
     "data": {
      "text/plain": [
       "location      0\n",
       "size          0\n",
       "total_sqft    0\n",
       "bath          0\n",
       "price         0\n",
       "bhk           0\n",
       "dtype: int64"
      ]
     },
     "execution_count": 31,
     "metadata": {},
     "output_type": "execute_result"
    }
   ],
   "source": [
    "df = df.dropna()\n",
    "df.isnull().sum()"
   ]
  },
  {
   "cell_type": "code",
   "execution_count": 32,
   "metadata": {},
   "outputs": [
    {
     "data": {
      "text/plain": [
       "(13200, 6)"
      ]
     },
     "execution_count": 32,
     "metadata": {},
     "output_type": "execute_result"
    }
   ],
   "source": [
    "df.shape"
   ]
  },
  {
   "cell_type": "code",
   "execution_count": 33,
   "metadata": {},
   "outputs": [
    {
     "name": "stdout",
     "output_type": "stream",
     "text": [
      "<class 'pandas.core.frame.DataFrame'>\n",
      "Int64Index: 13200 entries, 0 to 13319\n",
      "Data columns (total 6 columns):\n",
      "location      13200 non-null object\n",
      "size          13200 non-null object\n",
      "total_sqft    13200 non-null float64\n",
      "bath          13200 non-null float64\n",
      "price         13200 non-null float64\n",
      "bhk           13200 non-null int64\n",
      "dtypes: float64(3), int64(1), object(2)\n",
      "memory usage: 721.9+ KB\n"
     ]
    }
   ],
   "source": [
    "df.info()"
   ]
  },
  {
   "cell_type": "code",
   "execution_count": 34,
   "metadata": {},
   "outputs": [],
   "source": [
    "df = df.drop('size',axis='columns')"
   ]
  },
  {
   "cell_type": "code",
   "execution_count": 35,
   "metadata": {},
   "outputs": [
    {
     "name": "stdout",
     "output_type": "stream",
     "text": [
      "<class 'pandas.core.frame.DataFrame'>\n",
      "Int64Index: 13200 entries, 0 to 13319\n",
      "Data columns (total 5 columns):\n",
      "location      13200 non-null object\n",
      "total_sqft    13200 non-null float64\n",
      "bath          13200 non-null float64\n",
      "price         13200 non-null float64\n",
      "bhk           13200 non-null int64\n",
      "dtypes: float64(3), int64(1), object(1)\n",
      "memory usage: 618.8+ KB\n"
     ]
    }
   ],
   "source": [
    "df.info()"
   ]
  },
  {
   "cell_type": "markdown",
   "metadata": {},
   "source": [
    "## Feature Enginering"
   ]
  },
  {
   "cell_type": "code",
   "execution_count": 36,
   "metadata": {},
   "outputs": [
    {
     "data": {
      "text/html": [
       "<div>\n",
       "<style scoped>\n",
       "    .dataframe tbody tr th:only-of-type {\n",
       "        vertical-align: middle;\n",
       "    }\n",
       "\n",
       "    .dataframe tbody tr th {\n",
       "        vertical-align: top;\n",
       "    }\n",
       "\n",
       "    .dataframe thead th {\n",
       "        text-align: right;\n",
       "    }\n",
       "</style>\n",
       "<table border=\"1\" class=\"dataframe\">\n",
       "  <thead>\n",
       "    <tr style=\"text-align: right;\">\n",
       "      <th></th>\n",
       "      <th>location</th>\n",
       "      <th>total_sqft</th>\n",
       "      <th>bath</th>\n",
       "      <th>price</th>\n",
       "      <th>bhk</th>\n",
       "      <th>price_per_sqft</th>\n",
       "    </tr>\n",
       "  </thead>\n",
       "  <tbody>\n",
       "    <tr>\n",
       "      <th>0</th>\n",
       "      <td>Electronic City Phase II</td>\n",
       "      <td>1056.0</td>\n",
       "      <td>2.0</td>\n",
       "      <td>39.07</td>\n",
       "      <td>2</td>\n",
       "      <td>3699.810606</td>\n",
       "    </tr>\n",
       "    <tr>\n",
       "      <th>1</th>\n",
       "      <td>Chikka Tirupathi</td>\n",
       "      <td>2600.0</td>\n",
       "      <td>5.0</td>\n",
       "      <td>120.00</td>\n",
       "      <td>4</td>\n",
       "      <td>4615.384615</td>\n",
       "    </tr>\n",
       "    <tr>\n",
       "      <th>2</th>\n",
       "      <td>Uttarahalli</td>\n",
       "      <td>1440.0</td>\n",
       "      <td>2.0</td>\n",
       "      <td>62.00</td>\n",
       "      <td>3</td>\n",
       "      <td>4305.555556</td>\n",
       "    </tr>\n",
       "    <tr>\n",
       "      <th>3</th>\n",
       "      <td>Lingadheeranahalli</td>\n",
       "      <td>1521.0</td>\n",
       "      <td>3.0</td>\n",
       "      <td>95.00</td>\n",
       "      <td>3</td>\n",
       "      <td>6245.890861</td>\n",
       "    </tr>\n",
       "    <tr>\n",
       "      <th>4</th>\n",
       "      <td>Kothanur</td>\n",
       "      <td>1200.0</td>\n",
       "      <td>2.0</td>\n",
       "      <td>51.00</td>\n",
       "      <td>2</td>\n",
       "      <td>4250.000000</td>\n",
       "    </tr>\n",
       "  </tbody>\n",
       "</table>\n",
       "</div>"
      ],
      "text/plain": [
       "                   location  total_sqft  bath   price  bhk  price_per_sqft\n",
       "0  Electronic City Phase II      1056.0   2.0   39.07    2     3699.810606\n",
       "1          Chikka Tirupathi      2600.0   5.0  120.00    4     4615.384615\n",
       "2               Uttarahalli      1440.0   2.0   62.00    3     4305.555556\n",
       "3        Lingadheeranahalli      1521.0   3.0   95.00    3     6245.890861\n",
       "4                  Kothanur      1200.0   2.0   51.00    2     4250.000000"
      ]
     },
     "execution_count": 36,
     "metadata": {},
     "output_type": "execute_result"
    }
   ],
   "source": [
    "df['price_per_sqft'] = df['price']*100000 / df['total_sqft']\n",
    "df.head()"
   ]
  },
  {
   "cell_type": "code",
   "execution_count": 37,
   "metadata": {},
   "outputs": [
    {
     "data": {
      "text/plain": [
       "(13200, 6)"
      ]
     },
     "execution_count": 37,
     "metadata": {},
     "output_type": "execute_result"
    }
   ],
   "source": [
    "df.shape"
   ]
  },
  {
   "cell_type": "code",
   "execution_count": 38,
   "metadata": {},
   "outputs": [
    {
     "data": {
      "text/plain": [
       "1298"
      ]
     },
     "execution_count": 38,
     "metadata": {},
     "output_type": "execute_result"
    }
   ],
   "source": [
    "len(df.location.unique())"
   ]
  },
  {
   "cell_type": "code",
   "execution_count": 39,
   "metadata": {},
   "outputs": [
    {
     "data": {
      "text/plain": [
       "location\n",
       "Whitefield               533\n",
       "Sarjapur  Road           392\n",
       "Electronic City          304\n",
       "Kanakpura Road           264\n",
       "Thanisandra              235\n",
       "Yelahanka                210\n",
       "Uttarahalli              186\n",
       "Hebbal                   176\n",
       "Marathahalli             175\n",
       "Raja Rajeshwari Nagar    171\n",
       "Name: location, dtype: int64"
      ]
     },
     "execution_count": 39,
     "metadata": {},
     "output_type": "execute_result"
    }
   ],
   "source": [
    "df.location = df.location.apply(lambda x: x.strip())\n",
    "location_stats = df.groupby('location')['location'].agg('count').sort_values(ascending=False)\n",
    "location_stats[:10]"
   ]
  },
  {
   "cell_type": "code",
   "execution_count": 40,
   "metadata": {},
   "outputs": [
    {
     "data": {
      "text/plain": [
       "1047"
      ]
     },
     "execution_count": 40,
     "metadata": {},
     "output_type": "execute_result"
    }
   ],
   "source": [
    "len(location_stats[location_stats <= 10])"
   ]
  },
  {
   "cell_type": "code",
   "execution_count": 41,
   "metadata": {},
   "outputs": [
    {
     "data": {
      "text/plain": [
       "location\n",
       "Dodsworth Layout    10\n",
       "BTM 1st Stage       10\n",
       "Sadashiva Nagar     10\n",
       "Thyagaraja Nagar    10\n",
       "Kalkere             10\n",
       "Name: location, dtype: int64"
      ]
     },
     "execution_count": 41,
     "metadata": {},
     "output_type": "execute_result"
    }
   ],
   "source": [
    "location_less_then_10 = location_stats[location_stats <= 10]\n",
    "location_less_then_10.head()"
   ]
  },
  {
   "cell_type": "code",
   "execution_count": 42,
   "metadata": {},
   "outputs": [
    {
     "data": {
      "text/plain": [
       "1287"
      ]
     },
     "execution_count": 42,
     "metadata": {},
     "output_type": "execute_result"
    }
   ],
   "source": [
    "len(df.location.unique())"
   ]
  },
  {
   "cell_type": "code",
   "execution_count": 43,
   "metadata": {},
   "outputs": [
    {
     "data": {
      "text/plain": [
       "241"
      ]
     },
     "execution_count": 43,
     "metadata": {},
     "output_type": "execute_result"
    }
   ],
   "source": [
    "# making all names of location having less then 10 values to 'other' as it will help us the train\n",
    "df.location = df.location.apply(lambda x: 'other' if x in location_less_then_10 else x)\n",
    "len(df.location.unique())"
   ]
  },
  {
   "cell_type": "code",
   "execution_count": 44,
   "metadata": {},
   "outputs": [
    {
     "data": {
      "text/plain": [
       "location\n",
       "other              2872\n",
       "Whitefield          533\n",
       "Sarjapur  Road      392\n",
       "Electronic City     304\n",
       "Kanakpura Road      264\n",
       "Thanisandra         235\n",
       "Yelahanka           210\n",
       "Uttarahalli         186\n",
       "Hebbal              176\n",
       "Marathahalli        175\n",
       "Name: location, dtype: int64"
      ]
     },
     "execution_count": 44,
     "metadata": {},
     "output_type": "execute_result"
    }
   ],
   "source": [
    "new_location_stats = df.groupby('location')['location'].agg('count').sort_values(ascending=False)\n",
    "new_location_stats.head(10)"
   ]
  },
  {
   "cell_type": "code",
   "execution_count": 45,
   "metadata": {},
   "outputs": [
    {
     "data": {
      "text/html": [
       "<div>\n",
       "<style scoped>\n",
       "    .dataframe tbody tr th:only-of-type {\n",
       "        vertical-align: middle;\n",
       "    }\n",
       "\n",
       "    .dataframe tbody tr th {\n",
       "        vertical-align: top;\n",
       "    }\n",
       "\n",
       "    .dataframe thead th {\n",
       "        text-align: right;\n",
       "    }\n",
       "</style>\n",
       "<table border=\"1\" class=\"dataframe\">\n",
       "  <thead>\n",
       "    <tr style=\"text-align: right;\">\n",
       "      <th></th>\n",
       "      <th>location</th>\n",
       "      <th>total_sqft</th>\n",
       "      <th>bath</th>\n",
       "      <th>price</th>\n",
       "      <th>bhk</th>\n",
       "      <th>price_per_sqft</th>\n",
       "    </tr>\n",
       "  </thead>\n",
       "  <tbody>\n",
       "    <tr>\n",
       "      <th>0</th>\n",
       "      <td>Electronic City Phase II</td>\n",
       "      <td>1056.0</td>\n",
       "      <td>2.0</td>\n",
       "      <td>39.07</td>\n",
       "      <td>2</td>\n",
       "      <td>3699.810606</td>\n",
       "    </tr>\n",
       "    <tr>\n",
       "      <th>1</th>\n",
       "      <td>Chikka Tirupathi</td>\n",
       "      <td>2600.0</td>\n",
       "      <td>5.0</td>\n",
       "      <td>120.00</td>\n",
       "      <td>4</td>\n",
       "      <td>4615.384615</td>\n",
       "    </tr>\n",
       "    <tr>\n",
       "      <th>2</th>\n",
       "      <td>Uttarahalli</td>\n",
       "      <td>1440.0</td>\n",
       "      <td>2.0</td>\n",
       "      <td>62.00</td>\n",
       "      <td>3</td>\n",
       "      <td>4305.555556</td>\n",
       "    </tr>\n",
       "    <tr>\n",
       "      <th>3</th>\n",
       "      <td>Lingadheeranahalli</td>\n",
       "      <td>1521.0</td>\n",
       "      <td>3.0</td>\n",
       "      <td>95.00</td>\n",
       "      <td>3</td>\n",
       "      <td>6245.890861</td>\n",
       "    </tr>\n",
       "    <tr>\n",
       "      <th>4</th>\n",
       "      <td>Kothanur</td>\n",
       "      <td>1200.0</td>\n",
       "      <td>2.0</td>\n",
       "      <td>51.00</td>\n",
       "      <td>2</td>\n",
       "      <td>4250.000000</td>\n",
       "    </tr>\n",
       "    <tr>\n",
       "      <th>5</th>\n",
       "      <td>Whitefield</td>\n",
       "      <td>1170.0</td>\n",
       "      <td>2.0</td>\n",
       "      <td>38.00</td>\n",
       "      <td>2</td>\n",
       "      <td>3247.863248</td>\n",
       "    </tr>\n",
       "    <tr>\n",
       "      <th>6</th>\n",
       "      <td>Old Airport Road</td>\n",
       "      <td>2732.0</td>\n",
       "      <td>4.0</td>\n",
       "      <td>204.00</td>\n",
       "      <td>4</td>\n",
       "      <td>7467.057101</td>\n",
       "    </tr>\n",
       "    <tr>\n",
       "      <th>7</th>\n",
       "      <td>Rajaji Nagar</td>\n",
       "      <td>3300.0</td>\n",
       "      <td>4.0</td>\n",
       "      <td>600.00</td>\n",
       "      <td>4</td>\n",
       "      <td>18181.818182</td>\n",
       "    </tr>\n",
       "    <tr>\n",
       "      <th>8</th>\n",
       "      <td>Marathahalli</td>\n",
       "      <td>1310.0</td>\n",
       "      <td>3.0</td>\n",
       "      <td>63.25</td>\n",
       "      <td>3</td>\n",
       "      <td>4828.244275</td>\n",
       "    </tr>\n",
       "    <tr>\n",
       "      <th>9</th>\n",
       "      <td>other</td>\n",
       "      <td>1020.0</td>\n",
       "      <td>6.0</td>\n",
       "      <td>370.00</td>\n",
       "      <td>6</td>\n",
       "      <td>36274.509804</td>\n",
       "    </tr>\n",
       "    <tr>\n",
       "      <th>10</th>\n",
       "      <td>Whitefield</td>\n",
       "      <td>1800.0</td>\n",
       "      <td>2.0</td>\n",
       "      <td>70.00</td>\n",
       "      <td>3</td>\n",
       "      <td>3888.888889</td>\n",
       "    </tr>\n",
       "  </tbody>\n",
       "</table>\n",
       "</div>"
      ],
      "text/plain": [
       "                    location  total_sqft  bath   price  bhk  price_per_sqft\n",
       "0   Electronic City Phase II      1056.0   2.0   39.07    2     3699.810606\n",
       "1           Chikka Tirupathi      2600.0   5.0  120.00    4     4615.384615\n",
       "2                Uttarahalli      1440.0   2.0   62.00    3     4305.555556\n",
       "3         Lingadheeranahalli      1521.0   3.0   95.00    3     6245.890861\n",
       "4                   Kothanur      1200.0   2.0   51.00    2     4250.000000\n",
       "5                 Whitefield      1170.0   2.0   38.00    2     3247.863248\n",
       "6           Old Airport Road      2732.0   4.0  204.00    4     7467.057101\n",
       "7               Rajaji Nagar      3300.0   4.0  600.00    4    18181.818182\n",
       "8               Marathahalli      1310.0   3.0   63.25    3     4828.244275\n",
       "9                      other      1020.0   6.0  370.00    6    36274.509804\n",
       "10                Whitefield      1800.0   2.0   70.00    3     3888.888889"
      ]
     },
     "execution_count": 45,
     "metadata": {},
     "output_type": "execute_result"
    }
   ],
   "source": [
    "# now we can oberserve the location of 9 the row is now 'Other'\n",
    "df.head(11)"
   ]
  },
  {
   "cell_type": "markdown",
   "metadata": {},
   "source": [
    "## Outlier Detection and Removal"
   ]
  },
  {
   "cell_type": "code",
   "execution_count": 46,
   "metadata": {},
   "outputs": [
    {
     "name": "stdout",
     "output_type": "stream",
     "text": [
      "<class 'pandas.core.frame.DataFrame'>\n",
      "Int64Index: 13200 entries, 0 to 13319\n",
      "Data columns (total 6 columns):\n",
      "location          13200 non-null object\n",
      "total_sqft        13200 non-null float64\n",
      "bath              13200 non-null float64\n",
      "price             13200 non-null float64\n",
      "bhk               13200 non-null int64\n",
      "price_per_sqft    13200 non-null float64\n",
      "dtypes: float64(4), int64(1), object(1)\n",
      "memory usage: 721.9+ KB\n"
     ]
    }
   ],
   "source": [
    "df.info()"
   ]
  },
  {
   "cell_type": "code",
   "execution_count": 47,
   "metadata": {},
   "outputs": [
    {
     "data": {
      "text/plain": [
       "(926, 6)"
      ]
     },
     "execution_count": 47,
     "metadata": {},
     "output_type": "execute_result"
    }
   ],
   "source": [
    "df[df.total_sqft/df.bhk <= 300].shape"
   ]
  },
  {
   "cell_type": "code",
   "execution_count": 48,
   "metadata": {},
   "outputs": [
    {
     "data": {
      "text/html": [
       "<div>\n",
       "<style scoped>\n",
       "    .dataframe tbody tr th:only-of-type {\n",
       "        vertical-align: middle;\n",
       "    }\n",
       "\n",
       "    .dataframe tbody tr th {\n",
       "        vertical-align: top;\n",
       "    }\n",
       "\n",
       "    .dataframe thead th {\n",
       "        text-align: right;\n",
       "    }\n",
       "</style>\n",
       "<table border=\"1\" class=\"dataframe\">\n",
       "  <thead>\n",
       "    <tr style=\"text-align: right;\">\n",
       "      <th></th>\n",
       "      <th>location</th>\n",
       "      <th>total_sqft</th>\n",
       "      <th>bath</th>\n",
       "      <th>price</th>\n",
       "      <th>bhk</th>\n",
       "      <th>price_per_sqft</th>\n",
       "    </tr>\n",
       "  </thead>\n",
       "  <tbody>\n",
       "    <tr>\n",
       "      <th>0</th>\n",
       "      <td>Electronic City Phase II</td>\n",
       "      <td>1056.0</td>\n",
       "      <td>2.0</td>\n",
       "      <td>39.07</td>\n",
       "      <td>2</td>\n",
       "      <td>3699.810606</td>\n",
       "    </tr>\n",
       "    <tr>\n",
       "      <th>1</th>\n",
       "      <td>Chikka Tirupathi</td>\n",
       "      <td>2600.0</td>\n",
       "      <td>5.0</td>\n",
       "      <td>120.00</td>\n",
       "      <td>4</td>\n",
       "      <td>4615.384615</td>\n",
       "    </tr>\n",
       "    <tr>\n",
       "      <th>2</th>\n",
       "      <td>Uttarahalli</td>\n",
       "      <td>1440.0</td>\n",
       "      <td>2.0</td>\n",
       "      <td>62.00</td>\n",
       "      <td>3</td>\n",
       "      <td>4305.555556</td>\n",
       "    </tr>\n",
       "    <tr>\n",
       "      <th>3</th>\n",
       "      <td>Lingadheeranahalli</td>\n",
       "      <td>1521.0</td>\n",
       "      <td>3.0</td>\n",
       "      <td>95.00</td>\n",
       "      <td>3</td>\n",
       "      <td>6245.890861</td>\n",
       "    </tr>\n",
       "    <tr>\n",
       "      <th>4</th>\n",
       "      <td>Kothanur</td>\n",
       "      <td>1200.0</td>\n",
       "      <td>2.0</td>\n",
       "      <td>51.00</td>\n",
       "      <td>2</td>\n",
       "      <td>4250.000000</td>\n",
       "    </tr>\n",
       "  </tbody>\n",
       "</table>\n",
       "</div>"
      ],
      "text/plain": [
       "                   location  total_sqft  bath   price  bhk  price_per_sqft\n",
       "0  Electronic City Phase II      1056.0   2.0   39.07    2     3699.810606\n",
       "1          Chikka Tirupathi      2600.0   5.0  120.00    4     4615.384615\n",
       "2               Uttarahalli      1440.0   2.0   62.00    3     4305.555556\n",
       "3        Lingadheeranahalli      1521.0   3.0   95.00    3     6245.890861\n",
       "4                  Kothanur      1200.0   2.0   51.00    2     4250.000000"
      ]
     },
     "execution_count": 48,
     "metadata": {},
     "output_type": "execute_result"
    }
   ],
   "source": [
    "df[df.total_sqft/df.bhk > 300].head()"
   ]
  },
  {
   "cell_type": "code",
   "execution_count": 49,
   "metadata": {},
   "outputs": [
    {
     "data": {
      "text/plain": [
       "(12274, 6)"
      ]
     },
     "execution_count": 49,
     "metadata": {},
     "output_type": "execute_result"
    }
   ],
   "source": [
    "df = df[~(df.total_sqft/df.bhk <= 300)]\n",
    "df.shape"
   ]
  },
  {
   "cell_type": "code",
   "execution_count": 50,
   "metadata": {},
   "outputs": [
    {
     "data": {
      "text/plain": [
       "count     12274.000000\n",
       "mean       6211.880230\n",
       "std        4053.214807\n",
       "min         267.829813\n",
       "25%        4200.000000\n",
       "50%        5263.157895\n",
       "75%        6825.474875\n",
       "max      176470.588235\n",
       "Name: price_per_sqft, dtype: float64"
      ]
     },
     "execution_count": 50,
     "metadata": {},
     "output_type": "execute_result"
    }
   ],
   "source": [
    "df.price_per_sqft.describe()"
   ]
  },
  {
   "cell_type": "code",
   "execution_count": 51,
   "metadata": {},
   "outputs": [
    {
     "data": {
      "text/plain": [
       "<matplotlib.axes._subplots.AxesSubplot at 0x1eee8150160>"
      ]
     },
     "execution_count": 51,
     "metadata": {},
     "output_type": "execute_result"
    },
    {
     "data": {
      "image/png": "[encoded data removed]",
      "text/plain": [
       "<Figure size 432x288 with 1 Axes>"
      ]
     },
     "metadata": {
      "needs_background": "light"
     },
     "output_type": "display_data"
    }
   ],
   "source": [
    "sns.distplot(df['price_per_sqft'],kde=True)"
   ]
  },
  {
   "cell_type": "code",
   "execution_count": 52,
   "metadata": {},
   "outputs": [],
   "source": [
    "def remove_price_outlier(data):\n",
    "    df_out = pd.DataFrame()\n",
    "    for key , subdf in data.groupby('location'):\n",
    "        m  = np.mean(subdf.price_per_sqft)\n",
    "        st = np.std(subdf.price_per_sqft)\n",
    "        reduced_df = subdf[ (subdf.price_per_sqft>(m-st)) & (subdf.price_per_sqft<=(m+st))  ]\n",
    "        df_out = pd.concat([df_out,reduced_df],ignore_index=True)\n",
    "    return df_out"
   ]
  },
  {
   "cell_type": "code",
   "execution_count": 53,
   "metadata": {},
   "outputs": [],
   "source": [
    "test = remove_price_outlier(df)\n",
    "test.head()\n",
    "test = df"
   ]
  },
  {
   "cell_type": "code",
   "execution_count": 54,
   "metadata": {},
   "outputs": [
    {
     "data": {
      "text/plain": [
       "<matplotlib.axes._subplots.AxesSubplot at 0x1eee825da58>"
      ]
     },
     "execution_count": 54,
     "metadata": {},
     "output_type": "execute_result"
    },
    {
     "data": {
      "image/png": "[encoded data removed]",
      "text/plain": [
       "<Figure size 432x288 with 1 Axes>"
      ]
     },
     "metadata": {
      "needs_background": "light"
     },
     "output_type": "display_data"
    }
   ],
   "source": [
    "sns.distplot(test['price_per_sqft'],kde=True)"
   ]
  },
  {
   "cell_type": "code",
   "execution_count": 55,
   "metadata": {},
   "outputs": [
    {
     "data": {
      "text/plain": [
       "(12274, 6)"
      ]
     },
     "execution_count": 55,
     "metadata": {},
     "output_type": "execute_result"
    }
   ],
   "source": [
    "test.shape"
   ]
  },
  {
   "cell_type": "code",
   "execution_count": 56,
   "metadata": {},
   "outputs": [
    {
     "data": {
      "image/png": "[encoded data removed]",
      "text/plain": [
       "<Figure size 720x360 with 1 Axes>"
      ]
     },
     "metadata": {
      "needs_background": "light"
     },
     "output_type": "display_data"
    }
   ],
   "source": [
    "# trying to visualize the problem of having price of 2BHK greater then 3BHK\n",
    "def plot_scatter_plot(df,location):\n",
    "    bhk2 = df[ (df.location==location) & (df.bhk == 2)]\n",
    "    bhk3 = df[ (df.location==location) & (df.bhk == 3)]\n",
    "    plt.rcParams['figure.figsize'] = (10,5)\n",
    "    plt.scatter(bhk2.total_sqft,bhk2.price,color='blue',label='2 BHK')\n",
    "    plt.scatter(bhk3.total_sqft,bhk3.price,marker='+',color='green',label='3 BHK')\n",
    "    plt.xlabel('Total Square foot area!')\n",
    "    plt.ylabel('Price')\n",
    "    plt.title(location)\n",
    "    plt.legend()\n",
    "plot_scatter_plot(df,'Hebbal')"
   ]
  },
  {
   "cell_type": "code",
   "execution_count": 57,
   "metadata": {},
   "outputs": [],
   "source": [
    "# this function is for removing the above problem\n",
    "def remove_bhk_outliers(df):\n",
    "    exclude_indices = np.array([])\n",
    "    for location , location_df in df.groupby('location'):\n",
    "        bhk_stats = {}\n",
    "        print(location)\n",
    "        for bhk , bhk_df in location_df.groupby('bhk'):\n",
    "            bhk_stats[bhk] = {\n",
    "                'mean' : np.mean(bhk_df.price_per_sqft),\n",
    "                'std': np.std(bhk_df.price_per_sqft),\n",
    "                'count' : bhk_df.shape[0]\n",
    "            }\n",
    "        print(bhk_stats)\n",
    "        for bhk , bhk_df in location_df.groupby('bhk'):  \n",
    "            stats = bhk_stats.get(bhk-1)\n",
    "            if stats and stats['count'] > 5:\n",
    "                exclude_indices = np.append(exclude_indices,bhk_df[bhk_df.price_per_sqft<(stats['mean'])].index.values)\n",
    "    return df.drop(exclude_indices,axis='index')\n"
   ]
  },
  {
   "cell_type": "code",
   "execution_count": 58,
   "metadata": {},
   "outputs": [
    {
     "name": "stdout",
     "output_type": "stream",
     "text": [
      "1st Block Jayanagar\n",
      "{2: {'mean': 8991.902834008097, 'std': 2991.9028340080968, 'count': 2}, 3: {'mean': 10450.649516638781, 'std': 2341.442149280999, 'count': 4}, 4: {'mean': 15951.533460274062, 'std': 1615.6957599256682, 'count': 4}}\n",
      "1st Phase JP Nagar\n",
      "{1: {'mean': 5952.380952380952, 'std': 0.0, 'count': 1}, 2: {'mean': 7931.806799837383, 'std': 1534.1422783514054, 'count': 8}, 3: {'mean': 9151.192151725822, 'std': 1054.731726021645, 'count': 7}, 4: {'mean': 10916.59953085162, 'std': 6015.260686226977, 'count': 4}, 5: {'mean': 15909.09090909091, 'std': 0.0, 'count': 1}}\n",
      "2nd Phase Judicial Layout\n",
      "{1: {'mean': 4952.380952380952, 'std': 0.0, 'count': 1}, 2: {'mean': 4138.888888888889, 'std': 657.9288490181673, 'count': 4}, 3: {'mean': 3837.9627511096874, 'std': 533.1504772812877, 'count': 6}}\n",
      "2nd Stage Nagarbhavi\n",
      "{4: {'mean': 12620.37037037037, 'std': 4022.3462739208694, 'count': 4}, 5: {'mean': 6000.0, 'std': 0.0, 'count': 1}, 6: {'mean': 16891.666666666668, 'std': 1858.333333333333, 'count': 2}}\n",
      "5th Block Hbr Layout\n",
      "{2: {'mean': 4755.410708222867, 'std': 374.06419031565235, 'count': 3}, 3: {'mean': 5511.811023622047, 'std': 0.0, 'count': 1}, 5: {'mean': 3611.1111111111113, 'std': 0.0, 'count': 1}, 6: {'mean': 5882.35294117647, 'std': 0.0, 'count': 1}}\n",
      "5th Phase JP Nagar\n",
      "{1: {'mean': 4628.623188405797, 'std': 371.376811594203, 'count': 2}, 2: {'mean': 5050.1545463598995, 'std': 750.1168200212733, 'count': 20}, 3: {'mean': 5243.206144601115, 'std': 618.5549566254314, 'count': 9}, 4: {'mean': 9500.0, 'std': 0.0, 'count': 1}, 5: {'mean': 4325.0, 'std': 75.0, 'count': 2}, 7: {'mean': 3800.0, 'std': 0.0, 'count': 1}}\n",
      "6th Phase JP Nagar\n",
      "{1: {'mean': 13250.0, 'std': 750.0, 'count': 2}, 2: {'mean': 6209.522278289134, 'std': 1548.1138364685442, 'count': 10}, 3: {'mean': 7174.961119532826, 'std': 2328.701283550871, 'count': 7}, 4: {'mean': 7704.160246533128, 'std': 0.0, 'count': 1}}\n",
      "7th Phase JP Nagar\n",
      "{1: {'mean': 8755.555555555557, 'std': 3709.9798675038587, 'count': 3}, 2: {'mean': 5723.0985612513705, 'std': 1997.0625664394033, 'count': 62}, 3: {'mean': 6493.028569222927, 'std': 1636.235337632589, 'count': 71}, 4: {'mean': 10026.768004657039, 'std': 3208.406090905855, 'count': 6}, 5: {'mean': 15000.0, 'std': 0.0, 'count': 1}, 6: {'mean': 8858.267716535433, 'std': 0.0, 'count': 1}, 7: {'mean': 3541.6666666666665, 'std': 0.0, 'count': 1}}\n",
      "8th Phase JP Nagar\n",
      "{1: {'mean': 6357.427937915743, 'std': 267.1694064501245, 'count': 4}, 2: {'mean': 4324.406715739656, 'std': 1131.8308808521078, 'count': 22}, 3: {'mean': 4815.437412280418, 'std': 2262.9724279224115, 'count': 18}, 4: {'mean': 6599.155474155474, 'std': 3571.2388600650593, 'count': 4}, 5: {'mean': 4335.260115606937, 'std': 0.0, 'count': 1}}\n",
      "9th Phase JP Nagar\n",
      "{1: {'mean': 3333.3333333333335, 'std': 0.0, 'count': 1}, 2: {'mean': 4653.051383903641, 'std': 834.4408302683472, 'count': 20}, 3: {'mean': 4518.339436369508, 'std': 790.2476753262926, 'count': 9}, 4: {'mean': 6145.488721804511, 'std': 1562.8334117678646, 'count': 4}}\n",
      "AECS Layout\n",
      "{2: {'mean': 4882.307808099927, 'std': 805.3536968919127, 'count': 9}, 3: {'mean': 4720.164609053499, 'std': 1007.5205361585517, 'count': 3}}\n",
      "Abbigere\n",
      "{1: {'mean': 3310.9205535075066, 'std': 610.6480739434737, 'count': 2}, 2: {'mean': 4058.165803016323, 'std': 62.23518728011486, 'count': 13}, 3: {'mean': 2945.12676865618, 'std': 442.9050575532274, 'count': 3}, 6: {'mean': 3165.4545454545455, 'std': 74.5454545454545, 'count': 2}, 8: {'mean': 5000.0, 'std': 0.0, 'count': 1}}\n",
      "Akshaya Nagar\n",
      "{1: {'mean': 10000.0, 'std': 0.0, 'count': 1}, 2: {'mean': 4675.309117628938, 'std': 528.3203644240244, 'count': 19}, 3: {'mean': 5584.198326552051, 'std': 1336.2802622069908, 'count': 38}, 4: {'mean': 11347.517730496455, 'std': 0.0, 'count': 1}}\n",
      "Ambalipura\n",
      "{1: {'mean': 5690.909090909091, 'std': 0.0, 'count': 1}, 2: {'mean': 5304.4006511714315, 'std': 1243.8443358311445, 'count': 13}, 3: {'mean': 7511.887256431655, 'std': 2072.765313890745, 'count': 10}, 4: {'mean': 6992.156862745098, 'std': 2123.6351195827574, 'count': 3}}\n",
      "Ambedkar Nagar\n",
      "{2: {'mean': 6454.091928430547, 'std': 182.0843219299883, 'count': 5}, 3: {'mean': 6756.178171788374, 'std': 899.2129514228731, 'count': 20}, 4: {'mean': 10429.457185246622, 'std': 2954.9782698589656, 'count': 5}, 5: {'mean': 11338.155515370705, 'std': 0.0, 'count': 1}}\n",
      "Amruthahalli\n",
      "{1: {'mean': 6593.642611683848, 'std': 2573.0240549828172, 'count': 2}, 2: {'mean': 5403.193469308167, 'std': 1746.2318293051212, 'count': 13}, 3: {'mean': 6961.32394935514, 'std': 3804.2102214655993, 'count': 8}}\n",
      "Anandapura\n",
      "{2: {'mean': 4801.822197016499, 'std': 1204.0170745208986, 'count': 17}, 3: {'mean': 4376.900862764794, 'std': 811.4741024839058, 'count': 5}, 4: {'mean': 4267.814053551181, 'std': 877.9835450766054, 'count': 2}}\n",
      "Ananth Nagar\n",
      "{1: {'mean': 2800.0, 'std': 0.0, 'count': 4}, 2: {'mean': 3135.1670138057552, 'std': 708.4901610953046, 'count': 20}, 3: {'mean': 3784.095802839711, 'std': 985.8491451000225, 'count': 4}}\n",
      "Anekal\n",
      "{1: {'mean': 3307.549188983317, 'std': 602.8526665064047, 'count': 6}, 2: {'mean': 3418.531131818201, 'std': 543.1514964904059, 'count': 22}, 3: {'mean': 5048.811897169665, 'std': 1218.0896613487548, 'count': 7}}\n",
      "Anjanapura\n",
      "{1: {'mean': 9166.666666666666, 'std': 0.0, 'count': 1}, 2: {'mean': 3451.5654968214635, 'std': 402.7964034804156, 'count': 7}, 3: {'mean': 7024.853273522156, 'std': 3800.7857669448044, 'count': 6}, 4: {'mean': 3852.102102102102, 'std': 796.5465465465463, 'count': 2}}\n",
      "Ardendale\n",
      "{2: {'mean': 4872.066250742721, 'std': 745.3082945630496, 'count': 4}, 3: {'mean': 5798.349483677633, 'std': 1364.3091092842453, 'count': 11}, 4: {'mean': 6617.149432954402, 'std': 768.4243771426823, 'count': 8}, 5: {'mean': 8036.739380022962, 'std': 0.0, 'count': 1}}\n",
      "Arekere\n",
      "{1: {'mean': 4666.666666666667, 'std': 0.0, 'count': 1}, 2: {'mean': 4712.981746987513, 'std': 543.1724803184048, 'count': 7}, 3: {'mean': 6816.719043558706, 'std': 1187.5383782827084, 'count': 6}, 4: {'mean': 5239.852398523985, 'std': 0.0, 'count': 1}}\n",
      "Attibele\n",
      "{1: {'mean': 2823.051298353896, 'std': 440.885126183788, 'count': 18}, 2: {'mean': 3204.1609520225243, 'std': 617.2070386969107, 'count': 12}, 3: {'mean': 6317.09967984889, 'std': 2341.434936192113, 'count': 8}, 4: {'mean': 6413.382635199978, 'std': 2790.584368179017, 'count': 4}}\n",
      "BEML Layout\n",
      "{2: {'mean': 5944.048212904286, 'std': 1628.8084083258766, 'count': 6}, 3: {'mean': 8816.666666666666, 'std': 9133.333333333332, 'count': 5}, 5: {'mean': 9375.0, 'std': 0.0, 'count': 1}}\n",
      "BTM 2nd Stage\n",
      "{2: {'mean': 6468.546316300546, 'std': 4099.375310934163, 'count': 16}, 3: {'mean': 10282.085985474581, 'std': 3831.770494859885, 'count': 9}, 4: {'mean': 23333.333333333336, 'std': 6666.666666666666, 'count': 2}, 5: {'mean': 13913.04347826087, 'std': 0.0, 'count': 1}}\n",
      "BTM Layout\n",
      "{1: {'mean': 4444.444444444444, 'std': 0.0, 'count': 1}, 2: {'mean': 5073.776447337828, 'std': 424.90705275056126, 'count': 4}, 3: {'mean': 6692.194917653574, 'std': 2097.301370057115, 'count': 9}, 6: {'mean': 5000.0, 'std': 0.0, 'count': 1}}\n",
      "Babusapalaya\n",
      "{2: {'mean': 4376.006611312047, 'std': 1380.5730881393765, 'count': 14}, 3: {'mean': 3669.941030877054, 'std': 601.932707346431, 'count': 10}}\n",
      "Badavala Nagar\n",
      "{2: {'mean': 6364.549985261151, 'std': 761.7910896894498, 'count': 5}, 3: {'mean': 6279.828480978357, 'std': 42.27887875035828, 'count': 7}}\n",
      "Balagere\n",
      "{1: {'mean': 6198.6604849626965, 'std': 1081.3992893037446, 'count': 12}, 2: {'mean': 6114.620125784812, 'std': 867.9245784720614, 'count': 32}, 3: {'mean': 4968.553459119496, 'std': 0.0, 'count': 1}}\n",
      "Banashankari\n",
      "{1: {'mean': 8333.333333333334, 'std': 0.0, 'count': 2}, 2: {'mean': 5056.19504492119, 'std': 1183.623957751772, 'count': 30}, 3: {'mean': 6297.873952682695, 'std': 2181.1409349950086, 'count': 32}, 4: {'mean': 14908.333333333332, 'std': 6719.648841684776, 'count': 4}}\n",
      "Banashankari Stage II\n",
      "{2: {'mean': 8701.636799298034, 'std': 1030.287972433991, 'count': 4}, 3: {'mean': 10723.280423280425, 'std': 4231.90962768462, 'count': 6}, 4: {'mean': 43333.333333333336, 'std': 0.0, 'count': 1}, 5: {'mean': 18214.285714285714, 'std': 3035.7142857142853, 'count': 2}}\n",
      "Banashankari Stage III\n",
      "{1: {'mean': 10740.74074074074, 'std': 0.0, 'count': 1}, 2: {'mean': 7860.683826633234, 'std': 5140.996653346231, 'count': 5}, 3: {'mean': 5936.760321064264, 'std': 2147.3853381257923, 'count': 11}, 4: {'mean': 5926.470588235294, 'std': 3017.3589473745146, 'count': 4}, 6: {'mean': 5000.0, 'std': 0.0, 'count': 1}}\n",
      "Banashankari Stage V\n",
      "{2: {'mean': 3983.4541062801936, 'std': 527.4154589371976, 'count': 2}, 3: {'mean': 5223.414206235063, 'std': 4952.5734557523465, 'count': 10}}\n",
      "Banashankari Stage VI\n",
      "{2: {'mean': 5072.0195454829345, 'std': 22.81429179660186, 'count': 3}, 3: {'mean': 5006.925310122253, 'std': 23.924063833179062, 'count': 3}, 4: {'mean': 5041.801948051948, 'std': 2237.063491984229, 'count': 4}}\n",
      "Banaswadi\n",
      "{1: {'mean': 6641.366223908918, 'std': 0.0, 'count': 1}, 2: {'mean': 5110.715347907356, 'std': 582.5694084547944, 'count': 10}, 3: {'mean': 4656.25, 'std': 0.0, 'count': 1}, 5: {'mean': 9011.735855666491, 'std': 1654.9308110001748, 'count': 2}, 7: {'mean': 13495.934959349594, 'std': 0.0, 'count': 1}}\n",
      "Banjara Layout\n",
      "{2: {'mean': 6635.496110794916, 'std': 905.9365352849989, 'count': 3}, 3: {'mean': 4654.714064914992, 'std': 945.2859350850076, 'count': 2}, 4: {'mean': 3866.6666666666665, 'std': 0.0, 'count': 1}}\n",
      "Bannerghatta\n",
      "{2: {'mean': 5683.778490436267, 'std': 1516.0962607860786, 'count': 6}, 3: {'mean': 6823.448227339539, 'std': 1857.278329729458, 'count': 7}, 4: {'mean': 8598.937583001327, 'std': 298.8047808764941, 'count': 2}}\n",
      "Bannerghatta Road\n",
      "{1: {'mean': 4932.455648926237, 'std': 741.987966876004, 'count': 5}, 2: {'mean': 5156.7223242312, 'std': 951.8519337869209, 'count': 59}, 3: {'mean': 5531.009657450729, 'std': 1729.4485601144015, 'count': 72}, 4: {'mean': 7267.012013789887, 'std': 3139.8294688343017, 'count': 10}, 5: {'mean': 30925.925925925927, 'std': 25074.074074074073, 'count': 2}, 6: {'mean': 8108.108108108108, 'std': 0.0, 'count': 1}}\n",
      "Basavangudi\n",
      "{1: {'mean': 11856.34328358209, 'std': 4393.6567164179105, 'count': 2}, 2: {'mean': 9243.80225871397, 'std': 1277.1307511568882, 'count': 7}, 3: {'mean': 10069.569463565107, 'std': 2005.7752739185528, 'count': 17}, 4: {'mean': 8730.53403995108, 'std': 1932.362966350049, 'count': 3}}\n",
      "Basaveshwara Nagar\n",
      "{2: {'mean': 7385.240112994351, 'std': 2989.692868006848, 'count': 8}, 3: {'mean': 10500.956367684179, 'std': 3770.877824739875, 'count': 3}, 5: {'mean': 13607.638888888889, 'std': 2967.32421902854, 'count': 4}, 7: {'mean': 14227.642276422765, 'std': 0.0, 'count': 1}}\n",
      "Battarahalli\n",
      "{1: {'mean': 7833.333333333333, 'std': 0.0, 'count': 1}, 2: {'mean': 4552.661310158635, 'std': 997.968994901336, 'count': 10}, 3: {'mean': 5015.40017552159, 'std': 337.7428143761158, 'count': 8}, 4: {'mean': 2688.8888888888887, 'std': 88.88888888888891, 'count': 2}}\n",
      "Begur\n",
      "{2: {'mean': 4408.751139150124, 'std': 958.2790977219463, 'count': 4}, 3: {'mean': 4109.589481350384, 'std': 1330.686271987634, 'count': 10}, 4: {'mean': 6146.673387096775, 'std': 2240.4233870967746, 'count': 2}}\n",
      "Begur Road\n",
      "{1: {'mean': 5590.062111801242, 'std': 621.1180124223602, 'count': 2}, 2: {'mean': 3736.974386688529, 'std': 686.1556133826637, 'count': 41}, 3: {'mean': 3972.9234344040055, 'std': 814.6220998826158, 'count': 33}, 4: {'mean': 5430.097213082144, 'std': 648.526938397766, 'count': 5}}\n",
      "Bellandur\n",
      "{1: {'mean': 4210.526315789473, 'std': 0.0, 'count': 1}, 2: {'mean': 5116.644099551324, 'std': 1016.3979870126873, 'count': 52}, 3: {'mean': 6064.632036656986, 'std': 1758.431726209718, 'count': 34}, 4: {'mean': 6656.980206402404, 'std': 2157.0932700921085, 'count': 6}, 5: {'mean': 9978.768577494691, 'std': 0.0, 'count': 1}}\n",
      "Benson Town\n",
      "{2: {'mean': 11770.989601779725, 'std': 3713.5359969180904, 'count': 5}, 3: {'mean': 11888.427486813485, 'std': 3518.498357883436, 'count': 5}, 4: {'mean': 14407.02813380408, 'std': 4237.734877852194, 'count': 5}}\n",
      "Bharathi Nagar\n",
      "{2: {'mean': 4818.184426235499, 'std': 728.3910165487318, 'count': 10}, 3: {'mean': 5119.036519385589, 'std': 918.9163270778963, 'count': 2}}\n",
      "Bhoganhalli\n",
      "{2: {'mean': 6147.195272462901, 'std': 1430.866887361523, 'count': 17}, 3: {'mean': 6217.799757271889, 'std': 1227.9711113745582, 'count': 17}, 4: {'mean': 6506.121830470021, 'std': 1333.3285593181918, 'count': 14}}\n",
      "Billekahalli\n",
      "{2: {'mean': 5889.057606082296, 'std': 1407.9453043649141, 'count': 10}, 3: {'mean': 6179.829109009818, 'std': 1029.8742088847782, 'count': 6}, 4: {'mean': 11363.636363636364, 'std': 0.0, 'count': 1}}\n",
      "Binny Pete\n",
      "{1: {'mean': 8034.164957849169, 'std': 901.878395083154, 'count': 4}, 2: {'mean': 7536.196720132463, 'std': 994.0441268923228, 'count': 3}, 3: {'mean': 10761.8356295159, 'std': 2653.6919813994728, 'count': 11}, 4: {'mean': 8180.272108843537, 'std': 1343.537414965986, 'count': 2}}\n",
      "Bisuvanahalli\n",
      "{2: {'mean': 3863.8012733035357, 'std': 405.2872025065846, 'count': 12}, 3: {'mean': 4091.9307734803656, 'std': 963.0193522355211, 'count': 38}}\n",
      "Bommanahalli\n",
      "{1: {'mean': 4302.184466019417, 'std': 552.1844660194174, 'count': 2}, 2: {'mean': 4417.133954927352, 'std': 950.6385366865159, 'count': 17}, 3: {'mean': 4439.336660958854, 'std': 1072.9995167173447, 'count': 10}, 4: {'mean': 4047.6190476190477, 'std': 0.0, 'count': 1}, 7: {'mean': 2956.521739130435, 'std': 0.0, 'count': 1}, 8: {'mean': 4666.666666666667, 'std': 0.0, 'count': 1}}\n",
      "Bommasandra\n",
      "{2: {'mean': 3718.650231470464, 'std': 604.1420156794771, 'count': 23}, 3: {'mean': 4359.210032294748, 'std': 1506.922654634917, 'count': 13}}\n",
      "Bommasandra Industrial Area\n"
     ]
    },
    {
     "name": "stdout",
     "output_type": "stream",
     "text": [
      "{2: {'mean': 3075.420009891799, 'std': 519.2362152374388, 'count': 16}, 3: {'mean': 3184.8485914885487, 'std': 494.8119448473696, 'count': 10}}\n",
      "Bommenahalli\n",
      "{3: {'mean': 8565.382032363164, 'std': 1314.9620051314946, 'count': 3}, 4: {'mean': 18274.23300656536, 'std': 23792.345401209608, 'count': 7}}\n",
      "Brookefield\n",
      "{2: {'mean': 5728.237706075875, 'std': 1001.2535378653855, 'count': 20}, 3: {'mean': 6800.463995125069, 'std': 2861.203651912975, 'count': 15}, 4: {'mean': 8316.27418236138, 'std': 3910.949936141365, 'count': 9}, 5: {'mean': 11258.01282051282, 'std': 2283.6538461538457, 'count': 2}, 8: {'mean': 10740.74074074074, 'std': 0.0, 'count': 1}}\n",
      "Budigere\n",
      "{1: {'mean': 5018.968689658322, 'std': 741.2376728007406, 'count': 7}, 2: {'mean': 5087.792958881237, 'std': 322.74487526825874, 'count': 24}, 3: {'mean': 4995.78214595029, 'std': 304.7321376982579, 'count': 22}}\n",
      "CV Raman Nagar\n",
      "{1: {'mean': 7588.652482269504, 'std': 496.45390070921985, 'count': 2}, 2: {'mean': 4923.84685993315, 'std': 1072.6040698828963, 'count': 25}, 3: {'mean': 6524.742938704442, 'std': 1826.551380689359, 'count': 14}}\n",
      "Chamrajpet\n",
      "{1: {'mean': 16831.68316831683, 'std': 0.0, 'count': 1}, 2: {'mean': 9792.423102012144, 'std': 3818.3998448404645, 'count': 5}, 3: {'mean': 7141.805995187703, 'std': 751.0857983228121, 'count': 3}, 4: {'mean': 10827.574839290468, 'std': 1880.2064182378372, 'count': 2}, 9: {'mean': 29629.62962962963, 'std': 0.0, 'count': 1}}\n",
      "Chandapura\n",
      "{1: {'mean': 2583.162377505493, 'std': 432.4072524229824, 'count': 21}, 2: {'mean': 3099.624746865978, 'std': 763.8320815554318, 'count': 44}, 3: {'mean': 3012.2991250261966, 'std': 687.7029267215534, 'count': 27}, 4: {'mean': 4649.621212121212, 'std': 558.712121212121, 'count': 2}}\n",
      "Channasandra\n",
      "{2: {'mean': 3532.1264153231627, 'std': 633.5368109251181, 'count': 25}, 3: {'mean': 4500.644242719408, 'std': 1005.213241509808, 'count': 9}, 4: {'mean': 11315.0, 'std': 5351.666666666668, 'count': 2}, 6: {'mean': 4285.714285714285, 'std': 0.0, 'count': 1}, 7: {'mean': 6989.247311827957, 'std': 0.0, 'count': 1}}\n",
      "Chikka Tirupathi\n",
      "{3: {'mean': 4892.151603172194, 'std': 972.4740753449236, 'count': 7}, 4: {'mean': 4287.494131942644, 'std': 659.3046605899074, 'count': 9}, 5: {'mean': 3128.7246722288437, 'std': 0.0, 'count': 1}}\n",
      "Chikkabanavar\n",
      "{1: {'mean': 1666.6666666666667, 'std': 0.0, 'count': 1}, 2: {'mean': 3885.9566911655893, 'std': 324.5696246238838, 'count': 2}, 3: {'mean': 4242.424242424242, 'std': 757.5757575757575, 'count': 2}, 4: {'mean': 5126.016260162602, 'std': 1873.9837398373984, 'count': 2}, 5: {'mean': 3645.833333333333, 'std': 395.83333333333326, 'count': 2}, 8: {'mean': 2750.0, 'std': 0.0, 'count': 1}}\n",
      "Chikkalasandra\n",
      "{2: {'mean': 4680.6659357581775, 'std': 906.7207027292567, 'count': 14}, 3: {'mean': 4209.541795721919, 'std': 468.54274526277595, 'count': 14}}\n",
      "Choodasandra\n",
      "{2: {'mean': 4782.163531612381, 'std': 528.754856051744, 'count': 12}, 3: {'mean': 5660.025055412872, 'std': 2184.8507763447938, 'count': 11}, 4: {'mean': 10182.141570605188, 'std': 1536.6084293948124, 'count': 2}}\n",
      "Cooke Town\n",
      "{1: {'mean': 6194.690265486725, 'std': 0.0, 'count': 1}, 2: {'mean': 9450.335685771604, 'std': 1592.310446826406, 'count': 3}, 3: {'mean': 10906.86580040451, 'std': 3676.049964518797, 'count': 9}, 4: {'mean': 11016.71535215839, 'std': 375.6897111327489, 'count': 2}, 5: {'mean': 18355.359765051395, 'std': 0.0, 'count': 1}}\n",
      "Cox Town\n",
      "{1: {'mean': 4793.388429752066, 'std': 0.0, 'count': 1}, 2: {'mean': 9373.789031978686, 'std': 3187.370248817688, 'count': 6}, 3: {'mean': 7780.757079649942, 'std': 1186.6163940265649, 'count': 4}, 4: {'mean': 20066.889632107024, 'std': 0.0, 'count': 1}}\n",
      "Cunningham Road\n",
      "{3: {'mean': 18780.423516771392, 'std': 2561.2096166784686, 'count': 9}, 4: {'mean': 22399.47110781565, 'std': 2068.0898222124456, 'count': 3}, 5: {'mean': 32000.0, 'std': 0.0, 'count': 1}}\n",
      "Dasanapura\n",
      "{1: {'mean': 4895.4802259887, 'std': 895.4802259887006, 'count': 2}, 2: {'mean': 5264.534894701203, 'std': 687.9740367676269, 'count': 10}, 3: {'mean': 5032.659409020218, 'std': 255.05443234836684, 'count': 2}, 4: {'mean': 4166.666666666667, 'std': 0.0, 'count': 1}}\n",
      "Dasarahalli\n",
      "{2: {'mean': 4819.006333621415, 'std': 934.2885570826273, 'count': 11}, 3: {'mean': 5930.389842814051, 'std': 555.0247412270497, 'count': 5}, 7: {'mean': 6250.0, 'std': 0.0, 'count': 1}}\n",
      "Devanahalli\n",
      "{1: {'mean': 5039.262606860494, 'std': 1254.852282142136, 'count': 7}, 2: {'mean': 4952.787098845229, 'std': 492.9480389583671, 'count': 13}, 3: {'mean': 5932.867068055524, 'std': 2488.583748509821, 'count': 13}, 4: {'mean': 8534.099172152086, 'std': 604.5143109214566, 'count': 6}, 5: {'mean': 4166.666666666667, 'std': 0.0, 'count': 1}}\n",
      "Devarachikkanahalli\n",
      "{1: {'mean': 3902.439024390244, 'std': 0.0, 'count': 1}, 2: {'mean': 4326.739586439992, 'std': 1082.6324000628515, 'count': 9}, 3: {'mean': 5892.246384227782, 'std': 3371.9996743629813, 'count': 6}}\n",
      "Dodda Nekkundi\n",
      "{2: {'mean': 4271.409551033765, 'std': 572.5384233681566, 'count': 19}, 3: {'mean': 6754.943434948685, 'std': 2372.0896210303817, 'count': 8}, 4: {'mean': 15688.854489164087, 'std': 100.61919504643993, 'count': 2}}\n",
      "Doddaballapur\n",
      "{1: {'mean': 7492.354740061162, 'std': 0.0, 'count': 1}, 2: {'mean': 1640.625, 'std': 0.0, 'count': 1}, 3: {'mean': 7000.154511108599, 'std': 2126.729567712019, 'count': 5}, 4: {'mean': 7306.716419287801, 'std': 1508.6011290881638, 'count': 4}}\n",
      "Doddakallasandra\n",
      "{2: {'mean': 3856.2594649974985, 'std': 269.51344819430614, 'count': 8}, 3: {'mean': 4203.951725085835, 'std': 289.181637422933, 'count': 6}}\n",
      "Doddathoguru\n",
      "{1: {'mean': 3193.939393939394, 'std': 145.7068518808643, 'count': 3}, 2: {'mean': 4018.577415048214, 'std': 1101.3896375921506, 'count': 20}, 3: {'mean': 3920.463690699665, 'std': 643.1324346449559, 'count': 7}}\n",
      "Domlur\n",
      "{1: {'mean': 9445.779914529914, 'std': 948.6331997307019, 'count': 3}, 2: {'mean': 9995.648786598147, 'std': 4665.8700957387955, 'count': 4}, 3: {'mean': 8601.445470741792, 'std': 2229.6988314054834, 'count': 14}, 6: {'mean': 25000.0, 'std': 0.0, 'count': 1}}\n",
      "Dommasandra\n",
      "{2: {'mean': 3322.6608898241893, 'std': 544.174150775161, 'count': 8}, 3: {'mean': 3313.5675560999007, 'std': 817.0930121375212, 'count': 3}, 4: {'mean': 2518.5185185185187, 'std': 0.0, 'count': 1}}\n",
      "EPIP Zone\n",
      "{2: {'mean': 6007.343219764925, 'std': 1047.2466677680877, 'count': 8}, 3: {'mean': 7186.636465869771, 'std': 1359.3070139648364, 'count': 11}, 4: {'mean': 6084.319891574076, 'std': 931.0517385720423, 'count': 4}}\n",
      "Electronic City\n",
      "{1: {'mean': 4929.629877701424, 'std': 1762.9353872366246, 'count': 24}, 2: {'mean': 4201.259047479628, 'std': 1236.3415697363002, 'count': 183}, 3: {'mean': 4861.222401275658, 'std': 1659.1269584764552, 'count': 80}, 4: {'mean': 10778.963651095602, 'std': 11650.191213885637, 'count': 7}}\n",
      "Electronic City Phase II\n",
      "{1: {'mean': 8746.039709083187, 'std': 7998.956822295708, 'count': 5}, 2: {'mean': 3603.2627661647193, 'std': 1062.288121558852, 'count': 73}, 3: {'mean': 3562.9676900967884, 'std': 983.7155535026149, 'count': 44}, 4: {'mean': 4670.660358762074, 'std': 304.44720567914965, 'count': 4}}\n",
      "Electronics City Phase 1\n",
      "{1: {'mean': 5228.149841374753, 'std': 1205.3530947675692, 'count': 13}, 2: {'mean': 4550.358640182018, 'std': 1116.7726866559692, 'count': 47}, 3: {'mean': 4655.004274769753, 'std': 1054.9749201731136, 'count': 26}}\n",
      "Frazer Town\n",
      "{1: {'mean': 13616.071428571428, 'std': 2455.357142857142, 'count': 2}, 2: {'mean': 8023.839970449707, 'std': 1948.5559966925257, 'count': 6}, 3: {'mean': 9906.1249311696, 'std': 2332.659851926573, 'count': 18}, 4: {'mean': 10511.151488575511, 'std': 2492.7205776326036, 'count': 7}, 5: {'mean': 17246.31860776439, 'std': 753.6813922356087, 'count': 2}}\n",
      "GM Palaya\n",
      "{1: {'mean': 5185.185185185185, 'std': 0.0, 'count': 1}, 2: {'mean': 4211.167412289392, 'std': 852.2395971489694, 'count': 5}, 3: {'mean': 4628.867942650349, 'std': 354.0596141419346, 'count': 6}}\n",
      "Garudachar Palya\n",
      "{2: {'mean': 4567.292659219588, 'std': 35.16727856616533, 'count': 9}, 3: {'mean': 5380.041038925664, 'std': 1397.5901332561004, 'count': 8}, 4: {'mean': 8888.888888888889, 'std': 0.0, 'count': 1}}\n",
      "Giri Nagar\n",
      "{1: {'mean': 20833.333333333332, 'std': 0.0, 'count': 1}, 2: {'mean': 6461.538461538462, 'std': 0.0, 'count': 1}, 3: {'mean': 15888.888888888889, 'std': 1888.8888888888887, 'count': 2}, 4: {'mean': 17361.111111111113, 'std': 982.092751647982, 'count': 3}, 6: {'mean': 14583.333333333334, 'std': 2083.333333333334, 'count': 2}, 7: {'mean': 5555.555555555556, 'std': 0.0, 'count': 1}}\n",
      "Gollarapalya Hosahalli\n",
      "{2: {'mean': 4211.038212117927, 'std': 394.1579280440275, 'count': 6}, 3: {'mean': 4145.178955385465, 'std': 483.1163500127614, 'count': 6}, 4: {'mean': 4514.435695538058, 'std': 0.0, 'count': 1}}\n",
      "Gottigere\n",
      "{1: {'mean': 4903.196242410356, 'std': 2405.8965976905097, 'count': 3}, 2: {'mean': 4113.900779680365, 'std': 1106.2677668052747, 'count': 23}, 3: {'mean': 4615.095486202717, 'std': 956.358811445689, 'count': 17}, 4: {'mean': 4433.333333333333, 'std': 286.74417556808754, 'count': 3}}\n",
      "Green Glen Layout\n",
      "{2: {'mean': 5548.844277938786, 'std': 592.3873336798655, 'count': 4}, 3: {'mean': 6560.297826599745, 'std': 1030.0429638609078, 'count': 31}, 4: {'mean': 6835.898556082042, 'std': 333.3960060843011, 'count': 4}}\n",
      "Gubbalala\n",
      "{2: {'mean': 4825.169247000949, 'std': 1242.8578350884895, 'count': 7}, 3: {'mean': 5639.898625046471, 'std': 1527.7438274112183, 'count': 13}, 4: {'mean': 5875.0, 'std': 1873.6105963264263, 'count': 3}, 5: {'mean': 5486.381322957199, 'std': 0.0, 'count': 1}, 6: {'mean': 3520.0, 'std': 0.0, 'count': 1}}\n",
      "Gunjur\n",
      "{2: {'mean': 3938.0120307679967, 'std': 369.34106505379697, 'count': 12}, 3: {'mean': 4582.331403008516, 'std': 552.308800975027, 'count': 8}, 4: {'mean': 4750.0, 'std': 0.0, 'count': 1}, 5: {'mean': 14365.643429608348, 'std': 0.0, 'count': 1}}\n",
      "HAL 2nd Stage\n",
      "{2: {'mean': 11011.419249592169, 'std': 0.0, 'count': 1}, 3: {'mean': 14616.311676609495, 'std': 4970.2002218914595, 'count': 4}, 4: {'mean': 27028.508771929824, 'std': 54.82456140350769, 'count': 2}, 5: {'mean': 24509.803921568626, 'std': 0.0, 'count': 1}}\n",
      "HBR Layout\n",
      "{2: {'mean': 7279.022545194704, 'std': 4026.744264423628, 'count': 7}, 3: {'mean': 7583.8753284125405, 'std': 2358.9423170809896, 'count': 7}, 4: {'mean': 13333.333333333334, 'std': 0.0, 'count': 1}}\n",
      "HRBR Layout\n",
      "{2: {'mean': 6827.946263617467, 'std': 966.9691792014793, 'count': 8}, 3: {'mean': 9714.699916863214, 'std': 5250.365022910105, 'count': 5}, 4: {'mean': 9868.421052631578, 'std': 5131.578947368422, 'count': 2}}\n",
      "HSR Layout\n",
      "{2: {'mean': 4739.236148532775, 'std': 918.5716205568192, 'count': 32}, 3: {'mean': 5429.169332592573, 'std': 1568.5658563214597, 'count': 13}, 4: {'mean': 11487.663164597261, 'std': 2760.6386560859196, 'count': 3}, 5: {'mean': 7916.666666666666, 'std': 2083.3333333333335, 'count': 2}}\n",
      "Haralur Road\n",
      "{1: {'mean': 9982.919254658385, 'std': 3807.6499380177706, 'count': 3}, 2: {'mean': 4607.695807613185, 'std': 1245.9715510885294, 'count': 84}, 3: {'mean': 5775.274737395782, 'std': 1338.986672875441, 'count': 42}, 4: {'mean': 6915.886085868474, 'std': 1195.6850195438637, 'count': 10}}\n"
     ]
    },
    {
     "name": "stdout",
     "output_type": "stream",
     "text": [
      "Harlur\n",
      "{2: {'mean': 5905.321437094385, 'std': 965.8883815424059, 'count': 35}, 3: {'mean': 6875.97239444406, 'std': 1144.5205252626406, 'count': 36}, 4: {'mean': 6806.220763959648, 'std': 749.5046631700119, 'count': 6}}\n",
      "Hebbal\n",
      "{2: {'mean': 5950.594020055752, 'std': 1483.4649972459722, 'count': 62}, 3: {'mean': 7550.905316657779, 'std': 1954.3773000272206, 'count': 73}, 4: {'mean': 8922.397508035661, 'std': 1970.2220715238147, 'count': 37}, 7: {'mean': 22916.666666666668, 'std': 0.0, 'count': 1}, 8: {'mean': 3666.6666666666665, 'std': 0.0, 'count': 1}}\n",
      "Hebbal Kempapura\n",
      "{2: {'mean': 6994.817858872716, 'std': 2222.7443176215875, 'count': 7}, 3: {'mean': 8939.347092720993, 'std': 1714.3660575834883, 'count': 15}, 4: {'mean': 10197.617947603585, 'std': 2054.0203993520936, 'count': 6}, 5: {'mean': 8320.802005012532, 'std': 373.56532189325577, 'count': 3}}\n",
      "Hegde Nagar\n",
      "{2: {'mean': 5829.271033728784, 'std': 991.4476409507629, 'count': 6}, 3: {'mean': 6789.773280916624, 'std': 1224.3504041622182, 'count': 35}, 4: {'mean': 9047.952670885143, 'std': 3949.1184450865967, 'count': 5}, 6: {'mean': 7000.0, 'std': 0.0, 'count': 1}}\n",
      "Hennur\n",
      "{2: {'mean': 4442.194358592492, 'std': 329.76870976065265, 'count': 36}, 3: {'mean': 6042.42749860899, 'std': 2261.3357076000484, 'count': 14}, 4: {'mean': 6794.564348521183, 'std': 0.0, 'count': 1}, 5: {'mean': 5000.0, 'std': 0.0, 'count': 1}}\n",
      "Hennur Road\n",
      "{2: {'mean': 5440.051291303567, 'std': 1110.385764094668, 'count': 61}, 3: {'mean': 5992.263375357611, 'std': 1070.3511372746023, 'count': 76}, 4: {'mean': 11599.293792937524, 'std': 5675.960362359083, 'count': 8}, 5: {'mean': 8274.68487394958, 'std': 921.7436974789912, 'count': 2}, 8: {'mean': 5000.0, 'std': 0.0, 'count': 1}}\n",
      "Hoodi\n",
      "{1: {'mean': 5843.393365544693, 'std': 878.1416877495989, 'count': 3}, 2: {'mean': 5919.444009096416, 'std': 1315.3576835763263, 'count': 40}, 3: {'mean': 5895.199369952709, 'std': 1246.8023058154572, 'count': 33}, 4: {'mean': 5126.056307374962, 'std': 740.7013031840972, 'count': 5}, 5: {'mean': 9410.25641025641, 'std': 2743.5897435897436, 'count': 2}}\n",
      "Horamavu Agara\n",
      "{1: {'mean': 4320.0, 'std': 0.0, 'count': 1}, 2: {'mean': 4030.2626420729825, 'std': 644.7185234954027, 'count': 24}, 3: {'mean': 4562.681024022711, 'std': 812.7521127270383, 'count': 13}, 4: {'mean': 8000.0, 'std': 0.0, 'count': 1}, 5: {'mean': 3333.3333333333335, 'std': 0.0, 'count': 1}}\n",
      "Horamavu Banaswadi\n",
      "{2: {'mean': 4195.182184632629, 'std': 472.40961899077587, 'count': 20}, 3: {'mean': 5002.215389718963, 'std': 1835.0437141329887, 'count': 4}, 5: {'mean': 8750.0, 'std': 0.0, 'count': 1}, 6: {'mean': 5263.1578947368425, 'std': 0.0, 'count': 1}}\n",
      "Hormavu\n",
      "{1: {'mean': 5068.8335518230915, 'std': 1036.55040631717, 'count': 3}, 2: {'mean': 4741.062947334007, 'std': 1037.2088805643843, 'count': 47}, 3: {'mean': 4890.660917683883, 'std': 1962.7803166980773, 'count': 18}, 4: {'mean': 6181.140089985372, 'std': 2084.7525836212058, 'count': 4}, 5: {'mean': 8750.0, 'std': 0.0, 'count': 1}}\n",
      "Hosa Road\n",
      "{1: {'mean': 5373.7487676508335, 'std': 1442.7411094161694, 'count': 5}, 2: {'mean': 4634.16160404736, 'std': 1575.5387844928418, 'count': 35}, 3: {'mean': 6084.253307743377, 'std': 1187.3142466039103, 'count': 24}, 4: {'mean': 3750.0, 'std': 0.0, 'count': 1}}\n",
      "Hosakerehalli\n",
      "{1: {'mean': 12500.0, 'std': 0.0, 'count': 1}, 2: {'mean': 4748.856880145223, 'std': 1544.7108383385362, 'count': 6}, 3: {'mean': 8924.823172015233, 'std': 3514.138990142611, 'count': 15}, 4: {'mean': 10286.815076363055, 'std': 3147.9078163245235, 'count': 7}, 5: {'mean': 6819.444444444444, 'std': 3597.2222222222217, 'count': 2}, 8: {'mean': 4027.777777777778, 'std': 0.0, 'count': 1}}\n",
      "Hoskote\n",
      "{1: {'mean': 4518.664047151277, 'std': 0.0, 'count': 1}, 2: {'mean': 3174.4098068983926, 'std': 410.28654938450563, 'count': 7}, 3: {'mean': 3600.5359456638253, 'std': 751.6624895989765, 'count': 8}}\n",
      "Hosur Road\n",
      "{1: {'mean': 3616.688625384277, 'std': 726.6519004462431, 'count': 3}, 2: {'mean': 5717.250921079715, 'std': 1853.987995122965, 'count': 16}, 3: {'mean': 6269.988513321483, 'std': 1704.9758329749968, 'count': 21}, 4: {'mean': 5946.053791887125, 'std': 1833.010748718678, 'count': 4}, 5: {'mean': 6136.363636363636, 'std': 1136.3636363636365, 'count': 2}}\n",
      "Hulimavu\n",
      "{1: {'mean': 15175.820113232554, 'std': 16675.286719567324, 'count': 4}, 2: {'mean': 5327.300781142056, 'std': 1646.506992767097, 'count': 28}, 3: {'mean': 6041.97465739293, 'std': 1516.4558507527224, 'count': 12}, 4: {'mean': 8910.861423220973, 'std': 3184.3737125263374, 'count': 3}}\n",
      "ISRO Layout\n",
      "{2: {'mean': 4969.451170298628, 'std': 935.3712442995347, 'count': 5}, 3: {'mean': 5770.6023290800695, 'std': 579.7626344235805, 'count': 2}, 4: {'mean': 6071.428571428572, 'std': 0.0, 'count': 1}, 6: {'mean': 5681.818181818182, 'std': 0.0, 'count': 1}}\n",
      "ITPL\n",
      "{2: {'mean': 3773.647853297879, 'std': 1349.6829539148487, 'count': 4}, 3: {'mean': 4935.497846683894, 'std': 605.1521192031312, 'count': 6}, 4: {'mean': 5788.913629483023, 'std': 495.5744146616735, 'count': 2}}\n",
      "Iblur Village\n",
      "{2: {'mean': 4857.142857142857, 'std': 0.0, 'count': 1}, 3: {'mean': 7297.193734020493, 'std': 788.9156502678845, 'count': 12}, 4: {'mean': 7620.944056454382, 'std': 755.4497545742579, 'count': 10}, 5: {'mean': 7753.573598412542, 'std': 47.31793204808173, 'count': 2}}\n",
      "Indira Nagar\n",
      "{1: {'mean': 9254.901960784313, 'std': 3358.3833829030023, 'count': 3}, 2: {'mean': 9702.969857242164, 'std': 1533.2274929574173, 'count': 11}, 3: {'mean': 11041.107173918466, 'std': 2774.468606570783, 'count': 15}, 4: {'mean': 20132.12481962482, 'std': 12857.550263763838, 'count': 9}, 5: {'mean': 24305.555555555555, 'std': 4861.111111111111, 'count': 2}, 6: {'mean': 25016.801075268817, 'std': 5225.134408602149, 'count': 2}, 8: {'mean': 18461.53846153846, 'std': 0.0, 'count': 1}}\n",
      "JP Nagar\n",
      "{1: {'mean': 5263.492063492064, 'std': 1239.2261826930576, 'count': 3}, 2: {'mean': 5280.955109814295, 'std': 1887.882654851904, 'count': 27}, 3: {'mean': 5914.456326583414, 'std': 2462.3627524768312, 'count': 24}, 4: {'mean': 7618.581485160558, 'std': 3095.8611703152546, 'count': 8}, 7: {'mean': 5925.925925925926, 'std': 0.0, 'count': 1}}\n",
      "Jakkur\n",
      "{2: {'mean': 5761.561617074409, 'std': 1024.059709085204, 'count': 26}, 3: {'mean': 6476.663195627941, 'std': 1306.5475206959652, 'count': 34}, 4: {'mean': 9385.72895036123, 'std': 2098.91675015324, 'count': 8}}\n",
      "Jalahalli\n",
      "{1: {'mean': 6225.284884685582, 'std': 1153.4003699065136, 'count': 5}, 2: {'mean': 6401.979103932527, 'std': 2087.0797555666154, 'count': 21}, 3: {'mean': 6389.52889665058, 'std': 956.9178110601543, 'count': 21}, 5: {'mean': 8548.387096774193, 'std': 0.0, 'count': 1}}\n",
      "Jalahalli East\n",
      "{1: {'mean': 4866.666666666666, 'std': 466.6666666666665, 'count': 2}, 2: {'mean': 4736.499361786136, 'std': 618.150214477005, 'count': 6}, 3: {'mean': 5372.177728109931, 'std': 804.219030034772, 'count': 3}}\n",
      "Jigani\n",
      "{2: {'mean': 5389.528734778373, 'std': 754.0725256834229, 'count': 21}, 3: {'mean': 5335.342949873343, 'std': 1424.533289053775, 'count': 24}, 4: {'mean': 8706.153368443409, 'std': 1648.3080305763458, 'count': 3}}\n",
      "Judicial Layout\n",
      "{2: {'mean': 4351.406771578446, 'std': 93.03767286599896, 'count': 2}, 3: {'mean': 8801.864470662424, 'std': 4543.008693506546, 'count': 6}, 4: {'mean': 9816.046733428708, 'std': 4350.1703245646395, 'count': 3}, 5: {'mean': 12962.962962962964, 'std': 0.0, 'count': 1}}\n",
      "KR Puram\n",
      "{1: {'mean': 3496.4985994397757, 'std': 425.0700280112044, 'count': 2}, 2: {'mean': 4618.988589370571, 'std': 1895.63536799149, 'count': 53}, 3: {'mean': 4694.331310694868, 'std': 1404.3474692984682, 'count': 11}, 4: {'mean': 8874.537977569016, 'std': 2258.1593575500424, 'count': 3}, 5: {'mean': 9882.105700016386, 'std': 2535.8658496298244, 'count': 3}, 6: {'mean': 3546.589147286822, 'std': 870.4449612831128, 'count': 3}, 7: {'mean': 3928.5714285714284, 'std': 0.0, 'count': 1}, 9: {'mean': 4347.826086956522, 'std': 0.0, 'count': 1}}\n",
      "Kadubeesanahalli\n",
      "{2: {'mean': 5914.793857202116, 'std': 1710.7955808970644, 'count': 6}, 3: {'mean': 5422.047214586422, 'std': 1213.899445999799, 'count': 5}, 4: {'mean': 13149.510867207497, 'std': 243.3462756496465, 'count': 2}}\n",
      "Kadugodi\n",
      "{1: {'mean': 4400.000000000001, 'std': 0.0, 'count': 1}, 2: {'mean': 4621.037925927858, 'std': 1002.738734545823, 'count': 15}, 3: {'mean': 5627.446685918401, 'std': 1203.755964109104, 'count': 18}, 4: {'mean': 8140.973084886127, 'std': 2577.223896876234, 'count': 5}, 7: {'mean': 3250.0, 'std': 0.0, 'count': 1}, 9: {'mean': 3225.8064516129034, 'std': 0.0, 'count': 1}}\n",
      "Kaggadasapura\n",
      "{2: {'mean': 4200.477811404987, 'std': 746.9278420713086, 'count': 36}, 3: {'mean': 4583.783966946162, 'std': 889.0224242447638, 'count': 23}, 4: {'mean': 4390.180878552972, 'std': 194.09107967146167, 'count': 3}, 5: {'mean': 6279.761904761905, 'std': 863.0952380952381, 'count': 2}}\n",
      "Kaggalipura\n",
      "{1: {'mean': 5190.476190476191, 'std': 178.1741612749495, 'count': 3}, 2: {'mean': 5407.894736842106, 'std': 846.9228969344264, 'count': 8}, 3: {'mean': 5576.054873979775, 'std': 834.9433031753329, 'count': 7}, 4: {'mean': 6730.158730158731, 'std': 0.0, 'count': 1}}\n",
      "Kaikondrahalli\n",
      "{2: {'mean': 4802.311372020806, 'std': 1714.9452658099297, 'count': 10}, 3: {'mean': 6016.671751785143, 'std': 868.6732750797345, 'count': 4}, 4: {'mean': 6352.941176470588, 'std': 0.0, 'count': 1}, 6: {'mean': 6654.835847382431, 'std': 0.0, 'count': 1}}\n",
      "Kalena Agrahara\n"
     ]
    },
    {
     "name": "stdout",
     "output_type": "stream",
     "text": [
      "{1: {'mean': 6393.44262295082, 'std': 0.0, 'count': 1}, 2: {'mean': 4607.1537169633775, 'std': 1232.3707147114767, 'count': 20}, 3: {'mean': 6574.978708074438, 'std': 1694.5705229700118, 'count': 12}}\n",
      "Kalyan nagar\n",
      "{2: {'mean': 5331.512234095648, 'std': 1467.506777680515, 'count': 10}, 3: {'mean': 5403.789409758371, 'std': 1008.9411534967034, 'count': 5}, 4: {'mean': 7043.982789343301, 'std': 850.7540527619626, 'count': 2}, 6: {'mean': 13333.333333333334, 'std': 0.0, 'count': 1}}\n",
      "Kambipura\n",
      "{2: {'mean': 4650.41053227633, 'std': 575.2793514872033, 'count': 16}, 3: {'mean': 4701.428820128929, 'std': 474.2304917944777, 'count': 8}}\n",
      "Kammanahalli\n",
      "{1: {'mean': 8428.57142857143, 'std': 0.0, 'count': 1}, 2: {'mean': 6004.127481713689, 'std': 900.0939698288161, 'count': 5}, 4: {'mean': 11650.702426564496, 'std': 3585.6721001144583, 'count': 3}, 5: {'mean': 6962.25766229163, 'std': 2041.3437782846004, 'count': 2}}\n",
      "Kammasandra\n",
      "{1: {'mean': 2916.3934426229507, 'std': 116.39344262295072, 'count': 2}, 2: {'mean': 3395.4105592056208, 'std': 876.8160280327285, 'count': 18}, 3: {'mean': 3654.0359549878194, 'std': 1365.6741112210782, 'count': 8}}\n",
      "Kanakapura\n",
      "{1: {'mean': 5096.602546756389, 'std': 417.85606461579323, 'count': 5}, 2: {'mean': 4300.843797977238, 'std': 870.8199261042107, 'count': 18}, 3: {'mean': 4788.359373843149, 'std': 1289.0209311116173, 'count': 18}, 4: {'mean': 5633.802816901409, 'std': 0.0, 'count': 1}}\n",
      "Kanakpura Road\n",
      "{1: {'mean': 5409.9317648956, 'std': 856.0470748159455, 'count': 23}, 2: {'mean': 5329.180340704431, 'std': 1207.554461251546, 'count': 101}, 3: {'mean': 5105.98585799038, 'std': 1178.4608623715126, 'count': 132}, 4: {'mean': 7073.752575181461, 'std': 1443.405459509482, 'count': 6}}\n",
      "Kannamangala\n",
      "{2: {'mean': 5322.837525877166, 'std': 835.4193808205985, 'count': 8}, 3: {'mean': 6317.0502820589945, 'std': 1033.7873848825739, 'count': 7}, 4: {'mean': 5885.74639875218, 'std': 555.9126968865866, 'count': 3}}\n",
      "Karuna Nagar\n",
      "{2: {'mean': 6149.479659413434, 'std': 0.0, 'count': 1}, 3: {'mean': 8998.216968601848, 'std': 3651.452016588256, 'count': 10}, 4: {'mean': 4655.172413793103, 'std': 0.0, 'count': 1}}\n",
      "Kasavanhalli\n",
      "{1: {'mean': 5690.909090909091, 'std': 0.0, 'count': 1}, 2: {'mean': 5472.590297514636, 'std': 914.0416825026861, 'count': 32}, 3: {'mean': 6090.461216587488, 'std': 1962.5975419167767, 'count': 39}, 4: {'mean': 7188.150786398397, 'std': 888.4937505820675, 'count': 6}, 5: {'mean': 20689.655172413793, 'std': 0.0, 'count': 1}}\n",
      "Kasturi Nagar\n",
      "{2: {'mean': 6041.583372234744, 'std': 653.8682870762742, 'count': 6}, 3: {'mean': 5916.740546308524, 'std': 721.5559950179522, 'count': 5}, 4: {'mean': 6387.757738248516, 'std': 205.06926597089296, 'count': 2}, 5: {'mean': 27272.727272727272, 'std': 0.0, 'count': 1}}\n",
      "Kathriguppe\n",
      "{2: {'mean': 7391.246684350132, 'std': 1891.2466843501325, 'count': 2}, 3: {'mean': 5840.785021045242, 'std': 510.5948065681652, 'count': 20}}\n",
      "Kaval Byrasandra\n",
      "{1: {'mean': 5208.333333333333, 'std': 0.0, 'count': 1}, 2: {'mean': 4915.480427242294, 'std': 1134.4995546227146, 'count': 14}, 3: {'mean': 4688.270004513199, 'std': 1814.7743247003327, 'count': 5}}\n",
      "Kenchenahalli\n",
      "{1: {'mean': 5646.853146853147, 'std': 646.8531468531469, 'count': 2}, 2: {'mean': 5097.9677728203205, 'std': 575.2337970400853, 'count': 8}, 3: {'mean': 5460.627817637033, 'std': 264.58222613843435, 'count': 3}}\n",
      "Kengeri\n",
      "{1: {'mean': 4124.019179677973, 'std': 1363.8083836207018, 'count': 15}, 2: {'mean': 4171.4178827910555, 'std': 824.7299865581733, 'count': 35}, 3: {'mean': 4351.447440147047, 'std': 1230.426341060017, 'count': 12}, 4: {'mean': 8435.556852473606, 'std': 1732.1065635615826, 'count': 3}, 5: {'mean': 5125.0, 'std': 1125.0, 'count': 2}, 8: {'mean': 4333.333333333333, 'std': 0.0, 'count': 1}}\n",
      "Kengeri Satellite Town\n",
      "{1: {'mean': 3416.085803355814, 'std': 180.47203987792676, 'count': 3}, 2: {'mean': 4210.03148765405, 'std': 949.2175780770111, 'count': 24}, 3: {'mean': 3641.2982338087872, 'std': 929.1552067009843, 'count': 5}, 4: {'mean': 7317.073170731707, 'std': 0.0, 'count': 1}}\n",
      "Kereguddadahalli\n",
      "{1: {'mean': 3250.0, 'std': 0.0, 'count': 1}, 2: {'mean': 3291.2201672245615, 'std': 422.18515721028746, 'count': 9}, 3: {'mean': 3203.254608294931, 'std': 173.2774907327058, 'count': 5}}\n",
      "Kodichikkanahalli\n",
      "{1: {'mean': 4923.076923076923, 'std': 923.0769230769229, 'count': 2}, 2: {'mean': 4406.752269971962, 'std': 744.357297940606, 'count': 14}, 3: {'mean': 4663.38431038836, 'std': 430.5214561404485, 'count': 6}, 4: {'mean': 5538.461538461538, 'std': 0.0, 'count': 1}, 5: {'mean': 4753.086419753086, 'std': 174.5942669596414, 'count': 3}}\n",
      "Kodigehaali\n",
      "{2: {'mean': 4568.752583055242, 'std': 504.85018578262014, 'count': 7}, 3: {'mean': 5932.628698743195, 'std': 1418.7220163805841, 'count': 4}, 4: {'mean': 11562.5, 'std': 0.0, 'count': 1}}\n",
      "Kodigehalli\n",
      "{1: {'mean': 8091.603053435115, 'std': 0.0, 'count': 1}, 2: {'mean': 4806.357941445165, 'std': 1745.7395440056555, 'count': 4}, 3: {'mean': 10620.87912087912, 'std': 2379.120879120879, 'count': 2}, 4: {'mean': 18863.636363636364, 'std': 0.0, 'count': 1}}\n",
      "Kodihalli\n",
      "{2: {'mean': 8133.557046979866, 'std': 1933.5570469798658, 'count': 2}, 3: {'mean': 9312.885508970217, 'std': 1843.058536307625, 'count': 6}, 4: {'mean': 17005.877006161958, 'std': 5350.468397010155, 'count': 7}}\n",
      "Kogilu\n",
      "{1: {'mean': 5159.365079365079, 'std': 1065.8231736741996, 'count': 3}, 2: {'mean': 4475.604638481574, 'std': 211.3056933959039, 'count': 12}, 3: {'mean': 7761.363859464481, 'std': 3134.620825328858, 'count': 6}, 7: {'mean': 3460.912052117264, 'std': 0.0, 'count': 1}, 10: {'mean': 13719.512195121952, 'std': 0.0, 'count': 1}}\n",
      "Konanakunte\n",
      "{2: {'mean': 6561.085972850678, 'std': 0.0, 'count': 1}, 3: {'mean': 7090.651193163395, 'std': 2283.9977316036316, 'count': 6}, 4: {'mean': 9818.71170421852, 'std': 3586.495827923363, 'count': 3}}\n",
      "Koramangala\n",
      "{2: {'mean': 9237.599044657663, 'std': 2602.659950114187, 'count': 28}, 3: {'mean': 9445.923606192082, 'std': 2937.41517526942, 'count': 33}, 4: {'mean': 16364.248203523091, 'std': 4832.441015429574, 'count': 9}, 5: {'mean': 20000.0, 'std': 0.0, 'count': 1}, 6: {'mean': 20000.0, 'std': 0.0, 'count': 1}}\n",
      "Kothannur\n",
      "{2: {'mean': 3860.536769031344, 'std': 470.8334401467558, 'count': 10}, 3: {'mean': 3780.8710175656793, 'std': 478.92908864059433, 'count': 10}, 4: {'mean': 3781.25, 'std': 968.75, 'count': 2}}\n",
      "Kothanur\n",
      "{1: {'mean': 4892.344497607655, 'std': 107.65550239234472, 'count': 2}, 2: {'mean': 4854.565077877619, 'std': 214.79334119523998, 'count': 25}, 3: {'mean': 5518.319415235924, 'std': 971.3663444134182, 'count': 29}, 4: {'mean': 8957.663195305238, 'std': 3389.6846949055025, 'count': 5}, 5: {'mean': 5729.166666666667, 'std': 0.0, 'count': 1}, 6: {'mean': 3750.0, 'std': 0.0, 'count': 1}}\n",
      "Kudlu\n",
      "{1: {'mean': 4583.333333333333, 'std': 0.0, 'count': 1}, 2: {'mean': 4526.620567963533, 'std': 693.1538145891866, 'count': 20}, 3: {'mean': 5456.350072397292, 'std': 1159.3950985074243, 'count': 7}, 4: {'mean': 5428.571428571428, 'std': 0.0, 'count': 1}}\n",
      "Kudlu Gate\n",
      "{1: {'mean': 13877.006705954074, 'std': 6480.1361511887835, 'count': 2}, 2: {'mean': 5148.4513864375285, 'std': 1338.7834520110716, 'count': 15}, 3: {'mean': 5146.072400881765, 'std': 968.4512368875262, 'count': 19}, 4: {'mean': 5324.675324675325, 'std': 0.0, 'count': 1}}\n",
      "Kumaraswami Layout\n",
      "{1: {'mean': 9176.470588235294, 'std': 0.0, 'count': 1}, 2: {'mean': 5577.847157981293, 'std': 2788.611517279463, 'count': 6}, 3: {'mean': 5822.598600508905, 'std': 555.2046988018691, 'count': 4}, 4: {'mean': 8869.564364207221, 'std': 3285.200679558469, 'count': 4}, 7: {'mean': 6976.646505376344, 'std': 3676.310518576636, 'count': 4}}\n",
      "Kundalahalli\n",
      "{1: {'mean': 27083.333333333332, 'std': 0.0, 'count': 1}, 2: {'mean': 6537.159239719988, 'std': 1630.548960144929, 'count': 18}, 3: {'mean': 7157.240491620682, 'std': 1440.6840286897968, 'count': 23}, 4: {'mean': 10952.472124684286, 'std': 3309.6209019644953, 'count': 5}}\n",
      "LB Shastri Nagar\n",
      "{1: {'mean': 4812.0300751879695, 'std': 0.0, 'count': 1}, 2: {'mean': 5047.7294422212935, 'std': 827.4528669677713, 'count': 7}, 3: {'mean': 4888.392857142857, 'std': 825.8928571428573, 'count': 2}}\n",
      "Laggere\n",
      "{1: {'mean': 6539.6505376344085, 'std': 2709.999670818098, 'count': 4}, 2: {'mean': 6250.0, 'std': 0.0, 'count': 1}, 3: {'mean': 11666.666666666668, 'std': 833.333333333333, 'count': 2}, 4: {'mean': 11904.761904761905, 'std': 0.0, 'count': 1}, 5: {'mean': 4176.587301587302, 'std': 287.698412698413, 'count': 2}}\n",
      "Lakshminarayana Pura\n",
      "{2: {'mean': 6397.277161662468, 'std': 418.59121534948065, 'count': 24}, 3: {'mean': 8127.559866874111, 'std': 1768.2905743903393, 'count': 12}}\n",
      "Lingadheeranahalli\n",
      "{3: {'mean': 6563.298062162059, 'std': 734.831270571525, 'count': 20}, 4: {'mean': 6948.373789156925, 'std': 137.69782791285036, 'count': 3}}\n",
      "Magadi Road\n",
      "{1: {'mean': 7954.545454545455, 'std': 0.0, 'count': 1}, 2: {'mean': 4982.513826642573, 'std': 990.4451360941063, 'count': 10}, 3: {'mean': 5228.675010491889, 'std': 1315.7079650993878, 'count': 7}, 4: {'mean': 6200.0, 'std': 0.0, 'count': 1}, 5: {'mean': 7200.0, 'std': 0.0, 'count': 1}, 6: {'mean': 3916.6666666666665, 'std': 0.0, 'count': 1}}\n",
      "Mahadevpura\n",
      "{1: {'mean': 4794.520547945205, 'std': 0.0, 'count': 1}, 2: {'mean': 4959.6600816668815, 'std': 1041.567275823793, 'count': 19}, 3: {'mean': 4870.419072507448, 'std': 464.96928202282703, 'count': 9}, 4: {'mean': 6469.760900140647, 'std': 0.0, 'count': 1}, 5: {'mean': 7890.743550834598, 'std': 0.0, 'count': 1}}\n",
      "Mahalakshmi Layout\n",
      "{2: {'mean': 6721.761354114295, 'std': 518.0576504105916, 'count': 2}, 3: {'mean': 8581.201137171287, 'std': 585.46552949538, 'count': 2}, 4: {'mean': 15149.20634920635, 'std': 5117.460317460318, 'count': 2}, 8: {'mean': 19009.37081659973, 'std': 0.0, 'count': 1}, 9: {'mean': 19004.62962962963, 'std': 0.0, 'count': 1}}\n"
     ]
    },
    {
     "name": "stdout",
     "output_type": "stream",
     "text": [
      "Mallasandra\n",
      "{2: {'mean': 5451.438079928411, 'std': 1966.1403739639961, 'count': 9}, 3: {'mean': 5557.259722141612, 'std': 756.1882822123313, 'count': 5}, 4: {'mean': 3149.171270718232, 'std': 0.0, 'count': 1}}\n",
      "Malleshpalya\n",
      "{2: {'mean': 4450.0450218933265, 'std': 715.3637519675409, 'count': 10}, 3: {'mean': 7088.912608141258, 'std': 3832.179322032174, 'count': 6}, 4: {'mean': 9645.061728395061, 'std': 0.0, 'count': 1}}\n",
      "Malleshwaram\n",
      "{1: {'mean': 10574.590792191524, 'std': 2309.1199297340045, 'count': 5}, 2: {'mean': 9321.218966140648, 'std': 1872.5091946574225, 'count': 11}, 3: {'mean': 12594.424116391494, 'std': 2209.476405831672, 'count': 23}, 4: {'mean': 19600.284772698567, 'std': 7561.576027559083, 'count': 7}, 5: {'mean': 26333.333333333336, 'std': 3666.666666666666, 'count': 2}, 7: {'mean': 18035.509736540662, 'std': 9892.793123726453, 'count': 3}}\n",
      "Marathahalli\n",
      "{1: {'mean': 6443.713889143229, 'std': 707.710000973837, 'count': 5}, 2: {'mean': 5520.126609329436, 'std': 1234.8729703185716, 'count': 77}, 3: {'mean': 5792.578329481203, 'std': 1244.739691539575, 'count': 62}, 4: {'mean': 7388.048345181654, 'std': 2764.967664128972, 'count': 25}, 5: {'mean': 8000.0, 'std': 0.0, 'count': 1}}\n",
      "Margondanahalli\n",
      "{2: {'mean': 5420.409209477422, 'std': 752.8341339805003, 'count': 18}, 3: {'mean': 5057.999244463333, 'std': 256.1953829260381, 'count': 3}, 4: {'mean': 3308.823529411765, 'std': 0.0, 'count': 1}}\n",
      "Marsur\n",
      "{3: {'mean': 9150.0, 'std': 2300.5434140654684, 'count': 4}, 4: {'mean': 8055.555555555556, 'std': 0.0, 'count': 1}}\n",
      "Mico Layout\n",
      "{1: {'mean': 3687.5, 'std': 0.0, 'count': 1}, 2: {'mean': 4735.770800771905, 'std': 2385.7936494210453, 'count': 6}, 3: {'mean': 3748.827506277767, 'std': 314.5094797917012, 'count': 3}, 4: {'mean': 9166.666666666666, 'std': 0.0, 'count': 1}, 9: {'mean': 4200.0, 'std': 0.0, 'count': 1}}\n",
      "Munnekollal\n",
      "{2: {'mean': 4662.757751081836, 'std': 745.4252539257636, 'count': 9}, 3: {'mean': 5024.973279279477, 'std': 1115.1476302350993, 'count': 8}, 10: {'mean': 2777.777777777778, 'std': 0.0, 'count': 1}}\n",
      "Murugeshpalya\n",
      "{2: {'mean': 5931.085462733437, 'std': 1214.4226459894464, 'count': 4}, 3: {'mean': 4894.704240288178, 'std': 1069.0984472302289, 'count': 8}, 4: {'mean': 10000.0, 'std': 0.0, 'count': 1}}\n",
      "Mysore Road\n",
      "{1: {'mean': 3500.0, 'std': 0.0, 'count': 1}, 2: {'mean': 5356.239865043456, 'std': 1149.95935631779, 'count': 27}, 3: {'mean': 5635.4664417482445, 'std': 1466.0119698256765, 'count': 17}}\n",
      "NGR Layout\n",
      "{1: {'mean': 4189.636163175303, 'std': 0.0, 'count': 1}, 2: {'mean': 4589.840895924282, 'std': 128.67979146221677, 'count': 13}}\n",
      "NRI Layout\n",
      "{2: {'mean': 6144.615035209375, 'std': 2290.915468440375, 'count': 6}, 3: {'mean': 4229.419325502037, 'std': 445.2318722352784, 'count': 3}, 4: {'mean': 4447.566752799311, 'std': 901.2704565030145, 'count': 2}, 5: {'mean': 5200.0, 'std': 0.0, 'count': 1}}\n",
      "Nagarbhavi\n",
      "{1: {'mean': 9716.881817130366, 'std': 6907.898961982103, 'count': 3}, 2: {'mean': 6395.988878268282, 'std': 3229.6096758102262, 'count': 16}, 3: {'mean': 8953.318986392993, 'std': 6118.66887674401, 'count': 23}, 4: {'mean': 12000.0, 'std': 2000.0, 'count': 2}, 5: {'mean': 7200.0, 'std': 0.0, 'count': 1}}\n",
      "Nagasandra\n",
      "{2: {'mean': 5482.312925170068, 'std': 584.353741496599, 'count': 2}, 3: {'mean': 6620.284477427334, 'std': 862.7087198515769, 'count': 2}, 4: {'mean': 6574.04883072822, 'std': 504.67416374755226, 'count': 3}, 5: {'mean': 3456.7901234567903, 'std': 0.0, 'count': 1}, 8: {'mean': 4000.0, 'std': 0.0, 'count': 1}}\n",
      "Nagavara\n",
      "{1: {'mean': 3500.0, 'std': 0.0, 'count': 1}, 2: {'mean': 4208.823845654803, 'std': 818.0397730305867, 'count': 7}, 3: {'mean': 8938.625402166088, 'std': 3122.652562265747, 'count': 6}, 4: {'mean': 5265.610902466384, 'std': 257.5980819535639, 'count': 2}}\n",
      "Nagavarapalya\n",
      "{1: {'mean': 7083.687943262412, 'std': 1559.6026882652527, 'count': 5}, 2: {'mean': 6703.859886997755, 'std': 2084.2845912835355, 'count': 8}, 3: {'mean': 7663.052830838066, 'std': 1509.206676991912, 'count': 2}}\n",
      "Narayanapura\n",
      "{2: {'mean': 6109.611205458525, 'std': 1143.4903371009952, 'count': 6}, 3: {'mean': 5624.607559361702, 'std': 176.28469731669043, 'count': 4}, 5: {'mean': 3541.6666666666665, 'std': 0.0, 'count': 1}}\n",
      "Neeladri Nagar\n",
      "{1: {'mean': 3750.8127802427566, 'std': 837.10794554603, 'count': 3}, 2: {'mean': 3601.3181568393316, 'std': 896.300794280481, 'count': 5}, 3: {'mean': 4446.286519616966, 'std': 851.8567154201359, 'count': 3}, 5: {'mean': 10625.0, 'std': 0.0, 'count': 1}, 10: {'mean': 4000.0, 'std': 0.0, 'count': 1}}\n",
      "Nehru Nagar\n",
      "{2: {'mean': 4249.975812345671, 'std': 241.37287773537435, 'count': 3}, 3: {'mean': 5743.649578809173, 'std': 1035.6538217730895, 'count': 6}, 4: {'mean': 4994.3116788028365, 'std': 83.97863012649077, 'count': 2}}\n",
      "OMBR Layout\n",
      "{2: {'mean': 6060.732226936822, 'std': 765.1028054888121, 'count': 8}, 3: {'mean': 6395.974418965156, 'std': 1354.455921644706, 'count': 4}, 4: {'mean': 11856.617647058823, 'std': 3768.3823529411766, 'count': 2}, 5: {'mean': 11458.333333333334, 'std': 0.0, 'count': 1}}\n",
      "Old Airport Road\n",
      "{2: {'mean': 6296.303755176813, 'std': 830.3791530424509, 'count': 9}, 3: {'mean': 8401.781966627928, 'std': 1643.6149896287527, 'count': 4}, 4: {'mean': 8124.369655964467, 'std': 3174.7886205666373, 'count': 20}}\n",
      "Old Madras Road\n",
      "{2: {'mean': 5255.168844170988, 'std': 1352.5190335800637, 'count': 29}, 3: {'mean': 5768.508596540505, 'std': 1441.4567257628548, 'count': 26}, 4: {'mean': 6232.493081584049, 'std': 1549.8661884501166, 'count': 12}, 5: {'mean': 6579.784565441936, 'std': 724.0623232544651, 'count': 3}}\n",
      "Padmanabhanagar\n",
      "{2: {'mean': 5908.805683466404, 'std': 1703.1352244893053, 'count': 10}, 3: {'mean': 6705.650207175994, 'std': 2413.593881274012, 'count': 12}, 4: {'mean': 9798.793508694007, 'std': 2138.5509445262874, 'count': 4}, 5: {'mean': 11956.521739130434, 'std': 0.0, 'count': 1}}\n",
      "Pai Layout\n",
      "{2: {'mean': 5464.997276386644, 'std': 3094.2770068376617, 'count': 13}, 3: {'mean': 4565.193665374716, 'std': 692.5145408804893, 'count': 5}, 6: {'mean': 4605.263157894737, 'std': 0.0, 'count': 1}}\n",
      "Panathur\n",
      "{1: {'mean': 6051.437216338881, 'std': 0.0, 'count': 1}, 2: {'mean': 6071.380940321632, 'std': 1019.0582400651101, 'count': 37}, 3: {'mean': 5377.858043145288, 'std': 1233.2702555030792, 'count': 13}}\n",
      "Parappana Agrahara\n",
      "{1: {'mean': 3750.0, 'std': 0.0, 'count': 1}, 2: {'mean': 3894.570971024669, 'std': 52.57420919375578, 'count': 14}}\n",
      "Pattandur Agrahara\n",
      "{2: {'mean': 4587.035724699272, 'std': 462.0516122403732, 'count': 8}, 3: {'mean': 5289.568006036597, 'std': 181.4120396932098, 'count': 3}}\n",
      "Poorna Pragna Layout\n",
      "{2: {'mean': 4413.125572360624, 'std': 495.68839972297116, 'count': 6}, 3: {'mean': 5056.505648165259, 'std': 3490.6865508732576, 'count': 13}, 7: {'mean': 18750.0, 'std': 0.0, 'count': 1}}\n",
      "Prithvi Layout\n",
      "{2: {'mean': 6037.440123978585, 'std': 549.2881072143185, 'count': 6}, 3: {'mean': 8577.941173288647, 'std': 3678.881516325359, 'count': 5}, 4: {'mean': 10182.201652117874, 'std': 2194.0359716445014, 'count': 2}}\n",
      "R.T. Nagar\n",
      "{2: {'mean': 7672.173046170594, 'std': 5023.343670961312, 'count': 14}, 3: {'mean': 8011.908935956849, 'std': 3486.790671933944, 'count': 11}, 4: {'mean': 10790.47619047619, 'std': 4387.324558320863, 'count': 5}, 5: {'mean': 18750.0, 'std': 0.0, 'count': 1}, 9: {'mean': 4583.333333333333, 'std': 0.0, 'count': 1}}\n",
      "Rachenahalli\n",
      "{1: {'mean': 5904.383255278396, 'std': 750.2821818549138, 'count': 7}, 2: {'mean': 4820.606794250465, 'std': 755.7412053709265, 'count': 29}, 3: {'mean': 5228.318654445465, 'std': 1001.8987137037896, 'count': 19}, 4: {'mean': 7095.123457755981, 'std': 1079.263463224945, 'count': 2}}\n",
      "Raja Rajeshwari Nagar\n",
      "{1: {'mean': 4339.6530666138515, 'std': 543.1788208229217, 'count': 5}, 2: {'mean': 4119.938962696688, 'std': 797.0186502026783, 'count': 100}, 3: {'mean': 4274.105644022313, 'std': 895.0597600385997, 'count': 55}, 4: {'mean': 17720.79772079772, 'std': 7464.387464387465, 'count': 2}, 6: {'mean': 5000.0, 'std': 0.0, 'count': 1}, 8: {'mean': 4930.857487922706, 'std': 1211.8785162729496, 'count': 3}, 9: {'mean': 8933.333333333334, 'std': 2266.6666666666665, 'count': 2}}\n",
      "Rajaji Nagar\n",
      "{1: {'mean': 11363.636363636364, 'std': 0.0, 'count': 1}, 2: {'mean': 11768.517474201653, 'std': 3912.8518933290866, 'count': 26}, 3: {'mean': 13797.97481629063, 'std': 4220.373963287839, 'count': 44}, 4: {'mean': 14441.8535693097, 'std': 3940.6285462124397, 'count': 17}, 5: {'mean': 17895.658147239483, 'std': 4809.932014919734, 'count': 8}, 6: {'mean': 7500.0, 'std': 833.3333333333335, 'count': 2}, 7: {'mean': 18333.333333333332, 'std': 0.0, 'count': 1}}\n",
      "Rajiv Nagar\n",
      "{2: {'mean': 5886.2410147620785, 'std': 1228.9925338925855, 'count': 5}, 3: {'mean': 7983.173968300251, 'std': 586.7242641582393, 'count': 2}, 4: {'mean': 6315.890833058215, 'std': 707.5762737250174, 'count': 6}}\n",
      "Ramagondanahalli\n",
      "{1: {'mean': 5555.555555555556, 'std': 0.0, 'count': 1}, 2: {'mean': 4606.370427585701, 'std': 1235.7180227997476, 'count': 22}, 3: {'mean': 5708.567918939573, 'std': 1498.853091063744, 'count': 23}, 4: {'mean': 10825.708647290994, 'std': 5892.93313030739, 'count': 3}, 5: {'mean': 18750.0, 'std': 0.0, 'count': 1}}\n",
      "Ramamurthy Nagar\n",
      "{1: {'mean': 6956.790123456791, 'std': 336.85836171956186, 'count': 3}, 2: {'mean': 4750.718116442984, 'std': 1036.1723289887793, 'count': 30}, 3: {'mean': 5700.295238326586, 'std': 3051.9544764870257, 'count': 17}, 4: {'mean': 6508.84374844231, 'std': 2265.99900924841, 'count': 5}, 5: {'mean': 9769.583172022196, 'std': 4247.36515825375, 'count': 3}}\n"
     ]
    },
    {
     "name": "stdout",
     "output_type": "stream",
     "text": [
      "Rayasandra\n",
      "{1: {'mean': 4045.9019473471503, 'std': 702.8119840003642, 'count': 3}, 2: {'mean': 4746.478354474935, 'std': 569.7266805922895, 'count': 4}, 3: {'mean': 4556.514582536394, 'std': 373.157988966733, 'count': 11}, 4: {'mean': 4449.648711943794, 'std': 0.0, 'count': 1}, 5: {'mean': 4027.777777777778, 'std': 0.0, 'count': 1}}\n",
      "Sahakara Nagar\n",
      "{2: {'mean': 5484.472012300181, 'std': 1617.110518593213, 'count': 20}, 3: {'mean': 8930.586968787802, 'std': 4032.5286048633575, 'count': 13}, 4: {'mean': 7445.229681978799, 'std': 554.7703180212015, 'count': 2}}\n",
      "Sanjay nagar\n",
      "{1: {'mean': 3316.062176165803, 'std': 0.0, 'count': 1}, 2: {'mean': 6408.0027636555515, 'std': 1008.5806527993847, 'count': 9}, 3: {'mean': 8982.68300060496, 'std': 2560.0905752403655, 'count': 6}, 4: {'mean': 12962.962962962964, 'std': 0.0, 'count': 1}, 5: {'mean': 7575.757575757576, 'std': 0.0, 'count': 1}}\n",
      "Sarakki Nagar\n",
      "{2: {'mean': 8250.0, 'std': 0.0, 'count': 1}, 3: {'mean': 11677.772648686641, 'std': 1164.2113099564785, 'count': 7}, 4: {'mean': 12067.827107897781, 'std': 1645.563570964831, 'count': 4}}\n",
      "Sarjapur\n",
      "{1: {'mean': 2874.133538039441, 'std': 174.43064872118748, 'count': 4}, 2: {'mean': 3557.3533621197394, 'std': 757.700831889388, 'count': 34}, 3: {'mean': 5395.586677446044, 'std': 2176.7199364827507, 'count': 22}, 4: {'mean': 7174.402067030899, 'std': 3102.5033039369378, 'count': 16}, 5: {'mean': 2064.2201834862385, 'std': 0.0, 'count': 1}}\n",
      "Sarjapur  Road\n",
      "{1: {'mean': 4994.694704414888, 'std': 1485.913025465236, 'count': 13}, 2: {'mean': 5176.13699760796, 'std': 1257.8056966444667, 'count': 139}, 3: {'mean': 6174.836983388735, 'std': 1846.131488137441, 'count': 179}, 4: {'mean': 8728.762096614239, 'std': 3121.6646213678655, 'count': 50}, 5: {'mean': 7217.4561079001705, 'std': 1913.2374639679733, 'count': 7}}\n",
      "Sarjapura - Attibele Road\n",
      "{1: {'mean': 3195.945945945946, 'std': 0.0, 'count': 1}, 2: {'mean': 2980.300110459942, 'std': 240.74806987622512, 'count': 6}, 3: {'mean': 3677.009046693256, 'std': 568.4897414332066, 'count': 7}, 4: {'mean': 6111.111111111111, 'std': 0.0, 'count': 1}, 5: {'mean': 7866.666666666667, 'std': 0.0, 'count': 2}}\n",
      "Sector 2 HSR Layout\n",
      "{1: {'mean': 7871.5365239294715, 'std': 314.86146095717913, 'count': 2}, 2: {'mean': 6169.534235072752, 'std': 1122.863573022996, 'count': 6}, 3: {'mean': 5960.40202845711, 'std': 1667.8563593678139, 'count': 6}}\n",
      "Sector 7 HSR Layout\n",
      "{2: {'mean': 8517.539849533492, 'std': 29.88399409911783, 'count': 4}, 3: {'mean': 10663.295038295038, 'std': 5078.2995861475765, 'count': 7}, 4: {'mean': 9166.666666666666, 'std': 0.0, 'count': 1}}\n",
      "Seegehalli\n",
      "{2: {'mean': 4329.211790848419, 'std': 1166.1042598803597, 'count': 8}, 3: {'mean': 6169.867963907392, 'std': 2392.5976291966354, 'count': 13}, 4: {'mean': 9007.09219858156, 'std': 5666.884132913465, 'count': 3}}\n",
      "Shampura\n",
      "{1: {'mean': 6933.333333333333, 'std': 0.0, 'count': 1}, 2: {'mean': 4318.33286530001, 'std': 600.7609284027936, 'count': 3}, 3: {'mean': 4899.966766367564, 'std': 364.7021331777603, 'count': 3}, 4: {'mean': 5660.377358490566, 'std': 0.0, 'count': 1}, 7: {'mean': 3392.8571428571427, 'std': 0.0, 'count': 1}}\n",
      "Shivaji Nagar\n",
      "{1: {'mean': 8010.471204188481, 'std': 0.0, 'count': 1}, 2: {'mean': 6719.337094724092, 'std': 1207.4254590332457, 'count': 4}, 3: {'mean': 10031.979452080073, 'std': 4641.086608063006, 'count': 4}}\n",
      "Singasandra\n",
      "{1: {'mean': 7500.0, 'std': 0.0, 'count': 2}, 2: {'mean': 4371.765103237327, 'std': 717.401564410957, 'count': 12}, 3: {'mean': 4522.865156428246, 'std': 498.5677172187002, 'count': 7}, 4: {'mean': 4156.25634887236, 'std': 652.1768364106035, 'count': 3}}\n",
      "Somasundara Palya\n",
      "{2: {'mean': 5630.880676086106, 'std': 795.5337620279263, 'count': 14}, 3: {'mean': 4612.1727369909395, 'std': 1124.8333377119368, 'count': 13}, 4: {'mean': 5833.333333333333, 'std': 0.0, 'count': 1}}\n",
      "Sompura\n",
      "{2: {'mean': 3586.1581966443846, 'std': 546.7727140265418, 'count': 5}, 3: {'mean': 4087.542288821581, 'std': 629.4047090056317, 'count': 6}, 4: {'mean': 3953.4883720930234, 'std': 0.0, 'count': 1}}\n",
      "Sonnenahalli\n",
      "{1: {'mean': 5536.096672023886, 'std': 760.474658584458, 'count': 3}, 2: {'mean': 4778.8217756499425, 'std': 791.9915738660197, 'count': 10}, 3: {'mean': 4368.699496869346, 'std': 912.9494590789124, 'count': 9}}\n",
      "Subramanyapura\n",
      "{2: {'mean': 5463.476592422921, 'std': 1144.8694797528772, 'count': 22}, 3: {'mean': 5012.25319062317, 'std': 941.3475036166542, 'count': 19}}\n",
      "Sultan Palaya\n",
      "{2: {'mean': 5203.333025198563, 'std': 1341.7234128198945, 'count': 6}, 3: {'mean': 6296.180318134044, 'std': 1250.8447106368387, 'count': 3}, 4: {'mean': 5068.181818181818, 'std': 1431.8181818181818, 'count': 2}}\n",
      "TC Palaya\n",
      "{1: {'mean': 4074.074074074074, 'std': 0.0, 'count': 1}, 2: {'mean': 5592.728639394155, 'std': 764.6202491816408, 'count': 21}, 3: {'mean': 5405.308531550646, 'std': 842.8902289989164, 'count': 28}, 4: {'mean': 4336.309523809524, 'std': 1955.3571428571431, 'count': 2}, 6: {'mean': 15416.666666666666, 'std': 0.0, 'count': 1}}\n",
      "Talaghattapura\n",
      "{2: {'mean': 3542.132060940546, 'std': 869.901161128235, 'count': 11}, 3: {'mean': 6401.737569442173, 'std': 1361.78030251892, 'count': 29}}\n",
      "Thanisandra\n",
      "{1: {'mean': 5622.924604890852, 'std': 903.5374773260341, 'count': 25}, 2: {'mean': 4787.0494004999255, 'std': 1262.5641583705224, 'count': 87}, 3: {'mean': 5911.017770790138, 'std': 1229.0224545952676, 'count': 108}, 4: {'mean': 6862.331935911745, 'std': 2500.19578303369, 'count': 11}, 6: {'mean': 4119.065952564288, 'std': 452.36261886428383, 'count': 2}, 8: {'mean': 3472.222222222222, 'std': 0.0, 'count': 1}}\n",
      "Thigalarapalya\n",
      "{2: {'mean': 7217.062585923698, 'std': 920.916959940212, 'count': 22}, 3: {'mean': 7269.862041013776, 'std': 398.607950603152, 'count': 27}, 4: {'mean': 7641.383504466393, 'std': 500.1521983295235, 'count': 13}}\n",
      "Thubarahalli\n",
      "{2: {'mean': 5989.074196357931, 'std': 817.2003013504708, 'count': 12}, 3: {'mean': 5667.298252156965, 'std': 1083.1595333581733, 'count': 8}, 4: {'mean': 5272.084259945639, 'std': 1017.3894242648876, 'count': 2}}\n",
      "Tindlu\n",
      "{2: {'mean': 5437.065903364006, 'std': 1026.3312018036488, 'count': 5}, 3: {'mean': 5283.565257806863, 'std': 516.6873757479673, 'count': 4}, 7: {'mean': 5333.333333333333, 'std': 0.0, 'count': 1}}\n",
      "Tumkur Road\n",
      "{1: {'mean': 4298.565055397588, 'std': 0.006373173840529489, 'count': 2}, 2: {'mean': 5543.185473514953, 'std': 1321.710523113451, 'count': 13}, 3: {'mean': 6311.665977270805, 'std': 695.5297579452787, 'count': 16}, 5: {'mean': 3125.0, 'std': 0.0, 'count': 1}}\n",
      "Ulsoor\n",
      "{1: {'mean': 17857.14285714286, 'std': 0.0, 'count': 1}, 2: {'mean': 8730.998103368149, 'std': 2062.5115260500042, 'count': 5}, 3: {'mean': 10095.343375978842, 'std': 2833.3763036919486, 'count': 8}, 4: {'mean': 8498.214285714286, 'std': 8038.501699093341, 'count': 4}}\n",
      "Uttarahalli\n",
      "{1: {'mean': 5446.293494704993, 'std': 0.0, 'count': 1}, 2: {'mean': 4189.82650603421, 'std': 687.5822962513819, 'count': 80}, 3: {'mean': 4138.575334999946, 'std': 737.0474098736361, 'count': 94}, 4: {'mean': 3333.3333333333335, 'std': 0.0, 'count': 1}, 6: {'mean': 5875.0, 'std': 2541.666666666666, 'count': 2}}\n",
      "Varthur\n",
      "{1: {'mean': 7000.0, 'std': 0.0, 'count': 1}, 2: {'mean': 4245.422556728105, 'std': 1109.035264943066, 'count': 43}, 3: {'mean': 5535.356872342665, 'std': 1630.0073340568624, 'count': 20}, 4: {'mean': 8014.3678160919535, 'std': 1334.2836239000292, 'count': 4}}\n",
      "Varthur Road\n",
      "{1: {'mean': 2400.0, 'std': 0.0, 'count': 1}, 2: {'mean': 3820.6959924286543, 'std': 973.5729948632777, 'count': 9}, 3: {'mean': 4849.821485035834, 'std': 1638.6087234395163, 'count': 3}, 4: {'mean': 5692.586399108139, 'std': 76.64437012263124, 'count': 2}}\n",
      "Vasanthapura\n",
      "{2: {'mean': 3797.4257331471536, 'std': 387.8908455961194, 'count': 10}, 3: {'mean': 4285.714285714285, 'std': 0.0, 'count': 1}}\n",
      "Vidyaranyapura\n",
      "{2: {'mean': 4541.713016983213, 'std': 930.5827603186679, 'count': 17}, 3: {'mean': 5418.695502028836, 'std': 956.0813080374586, 'count': 6}, 4: {'mean': 5625.0, 'std': 0.0, 'count': 1}, 5: {'mean': 8522.727272727272, 'std': 0.0, 'count': 1}, 7: {'mean': 11904.761904761905, 'std': 0.0, 'count': 1}, 9: {'mean': 2765.9574468085107, 'std': 0.0, 'count': 1}}\n",
      "Vijayanagar\n",
      "{1: {'mean': 7513.33715688642, 'std': 1470.1647292081748, 'count': 4}, 2: {'mean': 6800.603597776957, 'std': 2986.5191840482225, 'count': 12}, 3: {'mean': 6997.426690511834, 'std': 1893.0651139487807, 'count': 18}, 4: {'mean': 18000.0, 'std': 6000.0, 'count': 2}, 5: {'mean': 5208.333333333333, 'std': 0.0, 'count': 1}, 6: {'mean': 20487.264673311183, 'std': 0.0, 'count': 1}}\n",
      "Vishveshwarya Layout\n",
      "{1: {'mean': 4000.0, 'std': 0.0, 'count': 1}, 4: {'mean': 3750.0, 'std': 612.3724356957945, 'count': 3}, 6: {'mean': 5065.476190476191, 'std': 684.5238095238096, 'count': 2}, 7: {'mean': 5625.0, 'std': 0.0, 'count': 1}}\n",
      "Vishwapriya Layout\n",
      "{2: {'mean': 4105.257480688384, 'std': 408.74213313910906, 'count': 5}, 3: {'mean': 3040.0, 'std': 0.0, 'count': 1}, 5: {'mean': 4642.857142857143, 'std': 0.0, 'count': 1}}\n",
      "Vittasandra\n",
      "{2: {'mean': 5187.524624076774, 'std': 381.6105066666648, 'count': 35}, 3: {'mean': 5113.14174326139, 'std': 100.56430016629145, 'count': 7}}\n",
      "Whitefield\n",
      "{1: {'mean': 5699.578210206887, 'std': 1211.8243633385373, 'count': 26}, 2: {'mean': 5016.339578005104, 'std': 1294.2186121046072, 'count': 233}, 3: {'mean': 6056.9024493157585, 'std': 3747.45840837161, 'count': 171}, 4: {'mean': 9030.153168071709, 'std': 3303.8053548566645, 'count': 93}, 5: {'mean': 11892.961733720538, 'std': 6743.829016732621, 'count': 7}, 6: {'mean': 13500.0, 'std': 0.0, 'count': 1}}\n",
      "Yelachenahalli\n",
      "{2: {'mean': 6036.959283133872, 'std': 2855.8923840281427, 'count': 11}, 3: {'mean': 5909.760492768157, 'std': 1348.1242403302067, 'count': 5}, 4: {'mean': 12222.222222222223, 'std': 0.0, 'count': 1}}\n",
      "Yelahanka\n",
      "{1: {'mean': 4655.2783216800935, 'std': 1686.725545713804, 'count': 21}, 2: {'mean': 4870.128479962987, 'std': 1005.2233353361372, 'count': 85}, 3: {'mean': 5189.667465416986, 'std': 1300.401562497246, 'count': 77}, 4: {'mean': 7838.769744776137, 'std': 3624.484695166279, 'count': 16}, 5: {'mean': 5761.20218579235, 'std': 910.38612165463, 'count': 3}, 6: {'mean': 4236.66371942234, 'std': 1318.8918361332155, 'count': 2}}\n",
      "Yelahanka New Town\n",
      "{1: {'mean': 3569.834918479307, 'std': 836.1277187624091, 'count': 13}, 2: {'mean': 6598.34072774743, 'std': 2781.3161650702277, 'count': 9}, 3: {'mean': 5838.535174273498, 'std': 2410.2488408047425, 'count': 13}, 4: {'mean': 13838.93198090692, 'std': 8636.068019093078, 'count': 2}}\n",
      "Yelenahalli\n",
      "{2: {'mean': 4040.6324207077087, 'std': 575.8658772551083, 'count': 10}, 3: {'mean': 3918.9457070707067, 'std': 143.76151982471873, 'count': 3}}\n",
      "Yeshwanthpur\n",
      "{1: {'mean': 6238.459084245743, 'std': 2118.301599572979, 'count': 14}, 2: {'mean': 6300.131965694574, 'std': 1339.1794798113688, 'count': 25}, 3: {'mean': 6605.841798869293, 'std': 1527.6827255434396, 'count': 36}, 4: {'mean': 6388.888888888889, 'std': 277.7777777777778, 'count': 2}, 5: {'mean': 17647.058823529413, 'std': 0.0, 'count': 1}, 6: {'mean': 7400.0, 'std': 0.0, 'count': 1}}\n",
      "other\n",
      "{1: {'mean': 7942.864494208257, 'std': 15680.447203539385, 'count': 146}, 2: {'mean': 5558.717286323024, 'std': 2717.740107261414, 'count': 1000}, 3: {'mean': 7096.831574321582, 'std': 4040.5735572855515, 'count': 920}, 4: {'mean': 11932.381842723298, 'std': 8249.218446605333, 'count': 274}, 5: {'mean': 11865.850358035532, 'std': 8004.610699000285, 'count': 62}, 6: {'mean': 11163.510873513076, 'std': 8132.39033498132, 'count': 42}, 7: {'mean': 7802.280564061051, 'std': 7671.1092108852745, 'count': 15}, 8: {'mean': 6902.204145061288, 'std': 4132.5999718179555, 'count': 7}, 9: {'mean': 6281.925230566536, 'std': 5118.0787868841235, 'count': 6}, 10: {'mean': 22787.004662004663, 'std': 19853.090306520036, 'count': 3}, 11: {'mean': 4850.0, 'std': 2350.0, 'count': 2}, 13: {'mean': 5069.124423963133, 'std': 0.0, 'count': 1}, 16: {'mean': 5500.0, 'std': 0.0, 'count': 1}}\n"
     ]
    }
   ],
   "source": [
    "test = remove_bhk_outliers(df)"
   ]
  },
  {
   "cell_type": "code",
   "execution_count": 59,
   "metadata": {},
   "outputs": [],
   "source": [
    "test.shape\n",
    "df = test\n"
   ]
  },
  {
   "cell_type": "code",
   "execution_count": 60,
   "metadata": {},
   "outputs": [
    {
     "data": {
      "image/png": "[encoded data removed]",
      "text/plain": [
       "<Figure size 720x360 with 1 Axes>"
      ]
     },
     "metadata": {
      "needs_background": "light"
     },
     "output_type": "display_data"
    }
   ],
   "source": [
    "plot_scatter_plot(test,'8th Phase JP Nagar')"
   ]
  },
  {
   "cell_type": "code",
   "execution_count": 61,
   "metadata": {},
   "outputs": [
    {
     "data": {
      "image/png": "[encoded data removed]",
      "text/plain": [
       "<Figure size 720x360 with 1 Axes>"
      ]
     },
     "metadata": {
      "needs_background": "light"
     },
     "output_type": "display_data"
    }
   ],
   "source": [
    "plt.hist(df.price_per_sqft,rwidth=0.8)\n",
    "plt.show()"
   ]
  },
  {
   "cell_type": "raw",
   "metadata": {},
   "source": [
    "plt.hist(df.price_per_sqft,)\n",
    "plt.show()"
   ]
  },
  {
   "cell_type": "code",
   "execution_count": 62,
   "metadata": {},
   "outputs": [
    {
     "data": {
      "text/plain": [
       "<seaborn.axisgrid.PairGrid at 0x1eee83f5b00>"
      ]
     },
     "execution_count": 62,
     "metadata": {},
     "output_type": "execute_result"
    },
    {
     "data": {
      "image/png": "[encoded data removed]",
      "text/plain": [
       "<Figure size 900x900 with 30 Axes>"
      ]
     },
     "metadata": {
      "needs_background": "light"
     },
     "output_type": "display_data"
    }
   ],
   "source": [
    "sns.pairplot(df)"
   ]
  },
  {
   "cell_type": "code",
   "execution_count": 63,
   "metadata": {},
   "outputs": [
    {
     "data": {
      "text/plain": [
       "array([ 2.,  3.,  4.,  5.,  1.,  8.,  6.,  7.,  9., 14., 16., 10., 12.,\n",
       "       13.])"
      ]
     },
     "execution_count": 63,
     "metadata": {},
     "output_type": "execute_result"
    }
   ],
   "source": [
    "df.bath.unique()"
   ]
  },
  {
   "cell_type": "code",
   "execution_count": 64,
   "metadata": {},
   "outputs": [],
   "source": [
    "df = df[df.bath < 10]"
   ]
  },
  {
   "cell_type": "code",
   "execution_count": 65,
   "metadata": {},
   "outputs": [
    {
     "data": {
      "text/plain": [
       "(8484, 6)"
      ]
     },
     "execution_count": 65,
     "metadata": {},
     "output_type": "execute_result"
    }
   ],
   "source": [
    "df.shape"
   ]
  },
  {
   "cell_type": "code",
   "execution_count": 66,
   "metadata": {},
   "outputs": [
    {
     "data": {
      "text/plain": [
       "(array([ 682., 4500., 2113.,  716.,    0.,  286.,  122.,   34.,   20.,\n",
       "          11.]),\n",
       " array([1. , 1.8, 2.6, 3.4, 4.2, 5. , 5.8, 6.6, 7.4, 8.2, 9. ]),\n",
       " <a list of 10 Patch objects>)"
      ]
     },
     "execution_count": 66,
     "metadata": {},
     "output_type": "execute_result"
    },
    {
     "data": {
      "image/png": "[encoded data removed]",
      "text/plain": [
       "<Figure size 720x360 with 1 Axes>"
      ]
     },
     "metadata": {
      "needs_background": "light"
     },
     "output_type": "display_data"
    }
   ],
   "source": [
    "plt.hist(df.bath)"
   ]
  },
  {
   "cell_type": "code",
   "execution_count": 67,
   "metadata": {},
   "outputs": [
    {
     "data": {
      "text/html": [
       "<div>\n",
       "<style scoped>\n",
       "    .dataframe tbody tr th:only-of-type {\n",
       "        vertical-align: middle;\n",
       "    }\n",
       "\n",
       "    .dataframe tbody tr th {\n",
       "        vertical-align: top;\n",
       "    }\n",
       "\n",
       "    .dataframe thead th {\n",
       "        text-align: right;\n",
       "    }\n",
       "</style>\n",
       "<table border=\"1\" class=\"dataframe\">\n",
       "  <thead>\n",
       "    <tr style=\"text-align: right;\">\n",
       "      <th></th>\n",
       "      <th>location</th>\n",
       "      <th>total_sqft</th>\n",
       "      <th>bath</th>\n",
       "      <th>price</th>\n",
       "      <th>bhk</th>\n",
       "      <th>price_per_sqft</th>\n",
       "    </tr>\n",
       "  </thead>\n",
       "  <tbody>\n",
       "    <tr>\n",
       "      <th>6838</th>\n",
       "      <td>Rajaji Nagar</td>\n",
       "      <td>7500.0</td>\n",
       "      <td>8.0</td>\n",
       "      <td>1700.0</td>\n",
       "      <td>5</td>\n",
       "      <td>22666.666667</td>\n",
       "    </tr>\n",
       "    <tr>\n",
       "      <th>7709</th>\n",
       "      <td>Chikkabanavar</td>\n",
       "      <td>2460.0</td>\n",
       "      <td>7.0</td>\n",
       "      <td>80.0</td>\n",
       "      <td>4</td>\n",
       "      <td>3252.032520</td>\n",
       "    </tr>\n",
       "    <tr>\n",
       "      <th>9974</th>\n",
       "      <td>other</td>\n",
       "      <td>2400.0</td>\n",
       "      <td>6.0</td>\n",
       "      <td>775.0</td>\n",
       "      <td>3</td>\n",
       "      <td>32291.666667</td>\n",
       "    </tr>\n",
       "    <tr>\n",
       "      <th>11366</th>\n",
       "      <td>Nagasandra</td>\n",
       "      <td>7000.0</td>\n",
       "      <td>8.0</td>\n",
       "      <td>450.0</td>\n",
       "      <td>4</td>\n",
       "      <td>6428.571429</td>\n",
       "    </tr>\n",
       "    <tr>\n",
       "      <th>12103</th>\n",
       "      <td>Thanisandra</td>\n",
       "      <td>1806.0</td>\n",
       "      <td>6.0</td>\n",
       "      <td>116.0</td>\n",
       "      <td>3</td>\n",
       "      <td>6423.034330</td>\n",
       "    </tr>\n",
       "    <tr>\n",
       "      <th>12443</th>\n",
       "      <td>other</td>\n",
       "      <td>4350.0</td>\n",
       "      <td>8.0</td>\n",
       "      <td>2600.0</td>\n",
       "      <td>4</td>\n",
       "      <td>59770.114943</td>\n",
       "    </tr>\n",
       "  </tbody>\n",
       "</table>\n",
       "</div>"
      ],
      "text/plain": [
       "            location  total_sqft  bath   price  bhk  price_per_sqft\n",
       "6838    Rajaji Nagar      7500.0   8.0  1700.0    5    22666.666667\n",
       "7709   Chikkabanavar      2460.0   7.0    80.0    4     3252.032520\n",
       "9974           other      2400.0   6.0   775.0    3    32291.666667\n",
       "11366     Nagasandra      7000.0   8.0   450.0    4     6428.571429\n",
       "12103    Thanisandra      1806.0   6.0   116.0    3     6423.034330\n",
       "12443          other      4350.0   8.0  2600.0    4    59770.114943"
      ]
     },
     "execution_count": 67,
     "metadata": {},
     "output_type": "execute_result"
    }
   ],
   "source": [
    "df[df.bath > df.bhk+2]"
   ]
  },
  {
   "cell_type": "code",
   "execution_count": 68,
   "metadata": {},
   "outputs": [
    {
     "data": {
      "text/plain": [
       "(8362, 6)"
      ]
     },
     "execution_count": 68,
     "metadata": {},
     "output_type": "execute_result"
    }
   ],
   "source": [
    "df = df[df.bath < df.bhk+2]\n",
    "df.shape"
   ]
  },
  {
   "cell_type": "code",
   "execution_count": 69,
   "metadata": {},
   "outputs": [
    {
     "data": {
      "text/plain": [
       "{'whiskers': [<matplotlib.lines.Line2D at 0x1eeea38fda0>,\n",
       "  <matplotlib.lines.Line2D at 0x1eeea38fe80>],\n",
       " 'caps': [<matplotlib.lines.Line2D at 0x1eeea39a470>,\n",
       "  <matplotlib.lines.Line2D at 0x1eeea39a7b8>],\n",
       " 'boxes': [<matplotlib.lines.Line2D at 0x1eeea38f9b0>],\n",
       " 'medians': [<matplotlib.lines.Line2D at 0x1eeea39ab00>],\n",
       " 'fliers': [<matplotlib.lines.Line2D at 0x1eeea39ae48>],\n",
       " 'means': []}"
      ]
     },
     "execution_count": 69,
     "metadata": {},
     "output_type": "execute_result"
    },
    {
     "data": {
      "image/png": "[encoded data removed]",
      "text/plain": [
       "<Figure size 720x360 with 1 Axes>"
      ]
     },
     "metadata": {
      "needs_background": "light"
     },
     "output_type": "display_data"
    }
   ],
   "source": [
    "plt.boxplot(x='total_sqft',data=df)"
   ]
  },
  {
   "cell_type": "code",
   "execution_count": 70,
   "metadata": {},
   "outputs": [
    {
     "data": {
      "text/html": [
       "<div>\n",
       "<style scoped>\n",
       "    .dataframe tbody tr th:only-of-type {\n",
       "        vertical-align: middle;\n",
       "    }\n",
       "\n",
       "    .dataframe tbody tr th {\n",
       "        vertical-align: top;\n",
       "    }\n",
       "\n",
       "    .dataframe thead th {\n",
       "        text-align: right;\n",
       "    }\n",
       "</style>\n",
       "<table border=\"1\" class=\"dataframe\">\n",
       "  <thead>\n",
       "    <tr style=\"text-align: right;\">\n",
       "      <th></th>\n",
       "      <th>total_sqft</th>\n",
       "      <th>bath</th>\n",
       "      <th>price</th>\n",
       "      <th>bhk</th>\n",
       "      <th>price_per_sqft</th>\n",
       "    </tr>\n",
       "  </thead>\n",
       "  <tbody>\n",
       "    <tr>\n",
       "      <th>count</th>\n",
       "      <td>8362.000000</td>\n",
       "      <td>8362.000000</td>\n",
       "      <td>8362.000000</td>\n",
       "      <td>8362.000000</td>\n",
       "      <td>8362.000000</td>\n",
       "    </tr>\n",
       "    <tr>\n",
       "      <th>mean</th>\n",
       "      <td>1559.917797</td>\n",
       "      <td>2.490074</td>\n",
       "      <td>121.550798</td>\n",
       "      <td>2.551064</td>\n",
       "      <td>6860.681221</td>\n",
       "    </tr>\n",
       "    <tr>\n",
       "      <th>std</th>\n",
       "      <td>942.365295</td>\n",
       "      <td>0.998005</td>\n",
       "      <td>158.799224</td>\n",
       "      <td>0.962936</td>\n",
       "      <td>4487.631862</td>\n",
       "    </tr>\n",
       "    <tr>\n",
       "      <th>min</th>\n",
       "      <td>340.000000</td>\n",
       "      <td>1.000000</td>\n",
       "      <td>9.000000</td>\n",
       "      <td>1.000000</td>\n",
       "      <td>500.000000</td>\n",
       "    </tr>\n",
       "    <tr>\n",
       "      <th>25%</th>\n",
       "      <td>1100.000000</td>\n",
       "      <td>2.000000</td>\n",
       "      <td>50.000000</td>\n",
       "      <td>2.000000</td>\n",
       "      <td>4576.463587</td>\n",
       "    </tr>\n",
       "    <tr>\n",
       "      <th>50%</th>\n",
       "      <td>1289.500000</td>\n",
       "      <td>2.000000</td>\n",
       "      <td>77.000000</td>\n",
       "      <td>2.000000</td>\n",
       "      <td>5865.921788</td>\n",
       "    </tr>\n",
       "    <tr>\n",
       "      <th>75%</th>\n",
       "      <td>1730.000000</td>\n",
       "      <td>3.000000</td>\n",
       "      <td>127.000000</td>\n",
       "      <td>3.000000</td>\n",
       "      <td>7500.000000</td>\n",
       "    </tr>\n",
       "    <tr>\n",
       "      <th>max</th>\n",
       "      <td>26136.000000</td>\n",
       "      <td>9.000000</td>\n",
       "      <td>2912.000000</td>\n",
       "      <td>11.000000</td>\n",
       "      <td>176470.588235</td>\n",
       "    </tr>\n",
       "  </tbody>\n",
       "</table>\n",
       "</div>"
      ],
      "text/plain": [
       "         total_sqft         bath        price          bhk  price_per_sqft\n",
       "count   8362.000000  8362.000000  8362.000000  8362.000000     8362.000000\n",
       "mean    1559.917797     2.490074   121.550798     2.551064     6860.681221\n",
       "std      942.365295     0.998005   158.799224     0.962936     4487.631862\n",
       "min      340.000000     1.000000     9.000000     1.000000      500.000000\n",
       "25%     1100.000000     2.000000    50.000000     2.000000     4576.463587\n",
       "50%     1289.500000     2.000000    77.000000     2.000000     5865.921788\n",
       "75%     1730.000000     3.000000   127.000000     3.000000     7500.000000\n",
       "max    26136.000000     9.000000  2912.000000    11.000000   176470.588235"
      ]
     },
     "execution_count": 70,
     "metadata": {},
     "output_type": "execute_result"
    }
   ],
   "source": [
    "df.describe()"
   ]
  },
  {
   "cell_type": "code",
   "execution_count": 71,
   "metadata": {},
   "outputs": [
    {
     "name": "stdout",
     "output_type": "stream",
     "text": [
      "<class 'pandas.core.frame.DataFrame'>\n",
      "Int64Index: 8362 entries, 0 to 13319\n",
      "Data columns (total 6 columns):\n",
      "location          8362 non-null object\n",
      "total_sqft        8362 non-null float64\n",
      "bath              8362 non-null float64\n",
      "price             8362 non-null float64\n",
      "bhk               8362 non-null int64\n",
      "price_per_sqft    8362 non-null float64\n",
      "dtypes: float64(4), int64(1), object(1)\n",
      "memory usage: 457.3+ KB\n"
     ]
    }
   ],
   "source": [
    "df.info()"
   ]
  },
  {
   "cell_type": "code",
   "execution_count": 72,
   "metadata": {},
   "outputs": [
    {
     "data": {
      "text/plain": [
       "<bound method Series.unique of 0        1056.00\n",
       "2        1440.00\n",
       "3        1521.00\n",
       "4        1200.00\n",
       "6        2732.00\n",
       "7        3300.00\n",
       "11       2785.00\n",
       "12       1000.00\n",
       "13       1100.00\n",
       "14       2250.00\n",
       "15       1175.00\n",
       "16       1180.00\n",
       "18       2770.00\n",
       "20        600.00\n",
       "21       1755.00\n",
       "22       2800.00\n",
       "23       1767.00\n",
       "24        510.00\n",
       "27       1610.00\n",
       "28       1151.00\n",
       "29       1025.00\n",
       "30       2475.00\n",
       "32       1760.00\n",
       "34       1925.00\n",
       "37       1724.00\n",
       "39       1143.00\n",
       "40       1296.00\n",
       "42        600.00\n",
       "43        660.00\n",
       "44       1330.74\n",
       "          ...   \n",
       "13273     510.00\n",
       "13274    1153.00\n",
       "13276    1000.00\n",
       "13280    1425.00\n",
       "13282    1919.00\n",
       "13283    2111.00\n",
       "13284     970.00\n",
       "13285    1353.00\n",
       "13287    1285.00\n",
       "13288    1050.00\n",
       "13289    1349.00\n",
       "13290    4050.00\n",
       "13291     812.00\n",
       "13293    2425.00\n",
       "13294    2200.00\n",
       "13295    1810.00\n",
       "13296    1200.00\n",
       "13298    1015.00\n",
       "13301    1454.00\n",
       "13304    1187.00\n",
       "13305     500.00\n",
       "13307    1805.00\n",
       "13308    1527.00\n",
       "13312    1262.00\n",
       "13313    1345.00\n",
       "13314    1715.00\n",
       "13316    3600.00\n",
       "13317    1141.00\n",
       "13318    4689.00\n",
       "13319     550.00\n",
       "Name: total_sqft, Length: 8362, dtype: float64>"
      ]
     },
     "execution_count": 72,
     "metadata": {},
     "output_type": "execute_result"
    }
   ],
   "source": [
    "df.total_sqft.unique"
   ]
  },
  {
   "cell_type": "code",
   "execution_count": 73,
   "metadata": {},
   "outputs": [],
   "source": [
    "df = df[df.total_sqft < 15000]"
   ]
  },
  {
   "cell_type": "code",
   "execution_count": 74,
   "metadata": {},
   "outputs": [
    {
     "data": {
      "text/plain": [
       "{'whiskers': [<matplotlib.lines.Line2D at 0x1eeea3eff28>,\n",
       "  <matplotlib.lines.Line2D at 0x1eeea3f72b0>],\n",
       " 'caps': [<matplotlib.lines.Line2D at 0x1eeea3f75f8>,\n",
       "  <matplotlib.lines.Line2D at 0x1eeea3f7940>],\n",
       " 'boxes': [<matplotlib.lines.Line2D at 0x1eeea3efb38>],\n",
       " 'medians': [<matplotlib.lines.Line2D at 0x1eeea3f7c88>],\n",
       " 'fliers': [<matplotlib.lines.Line2D at 0x1eeea3f7fd0>],\n",
       " 'means': []}"
      ]
     },
     "execution_count": 74,
     "metadata": {},
     "output_type": "execute_result"
    },
    {
     "data": {
      "image/png": "[encoded data removed]",
      "text/plain": [
       "<Figure size 720x360 with 1 Axes>"
      ]
     },
     "metadata": {
      "needs_background": "light"
     },
     "output_type": "display_data"
    }
   ],
   "source": [
    "plt.boxplot(x='bath',data=df)"
   ]
  },
  {
   "cell_type": "code",
   "execution_count": 75,
   "metadata": {},
   "outputs": [
    {
     "data": {
      "text/plain": [
       "<matplotlib.axes._subplots.AxesSubplot at 0x1eeea42deb8>"
      ]
     },
     "execution_count": 75,
     "metadata": {},
     "output_type": "execute_result"
    },
    {
     "data": {
      "image/png": "[encoded data removed]",
      "text/plain": [
       "<Figure size 720x360 with 1 Axes>"
      ]
     },
     "metadata": {
      "needs_background": "light"
     },
     "output_type": "display_data"
    }
   ],
   "source": [
    "sns.distplot(df['price'],kde=True)"
   ]
  },
  {
   "cell_type": "code",
   "execution_count": 76,
   "metadata": {},
   "outputs": [
    {
     "data": {
      "text/plain": [
       "<matplotlib.axes._subplots.AxesSubplot at 0x1eeea4f5828>"
      ]
     },
     "execution_count": 76,
     "metadata": {},
     "output_type": "execute_result"
    },
    {
     "data": {
      "image/png": "[encoded data removed]",
      "text/plain": [
       "<Figure size 720x360 with 1 Axes>"
      ]
     },
     "metadata": {
      "needs_background": "light"
     },
     "output_type": "display_data"
    }
   ],
   "source": [
    "sns.scatterplot(x='total_sqft',y='price',data=df)"
   ]
  },
  {
   "cell_type": "code",
   "execution_count": 77,
   "metadata": {},
   "outputs": [
    {
     "data": {
      "text/html": [
       "<div>\n",
       "<style scoped>\n",
       "    .dataframe tbody tr th:only-of-type {\n",
       "        vertical-align: middle;\n",
       "    }\n",
       "\n",
       "    .dataframe tbody tr th {\n",
       "        vertical-align: top;\n",
       "    }\n",
       "\n",
       "    .dataframe thead th {\n",
       "        text-align: right;\n",
       "    }\n",
       "</style>\n",
       "<table border=\"1\" class=\"dataframe\">\n",
       "  <thead>\n",
       "    <tr style=\"text-align: right;\">\n",
       "      <th></th>\n",
       "      <th>location</th>\n",
       "      <th>total_sqft</th>\n",
       "      <th>bath</th>\n",
       "      <th>price</th>\n",
       "      <th>bhk</th>\n",
       "      <th>price_per_sqft</th>\n",
       "    </tr>\n",
       "  </thead>\n",
       "  <tbody>\n",
       "    <tr>\n",
       "      <th>408</th>\n",
       "      <td>Rajaji Nagar</td>\n",
       "      <td>12000.0</td>\n",
       "      <td>6.0</td>\n",
       "      <td>2200.0</td>\n",
       "      <td>7</td>\n",
       "      <td>18333.333333</td>\n",
       "    </tr>\n",
       "    <tr>\n",
       "      <th>605</th>\n",
       "      <td>Malleshwaram</td>\n",
       "      <td>12000.0</td>\n",
       "      <td>7.0</td>\n",
       "      <td>2200.0</td>\n",
       "      <td>7</td>\n",
       "      <td>18333.333333</td>\n",
       "    </tr>\n",
       "    <tr>\n",
       "      <th>3180</th>\n",
       "      <td>other</td>\n",
       "      <td>8321.0</td>\n",
       "      <td>5.0</td>\n",
       "      <td>2700.0</td>\n",
       "      <td>5</td>\n",
       "      <td>32448.023074</td>\n",
       "    </tr>\n",
       "    <tr>\n",
       "      <th>4162</th>\n",
       "      <td>other</td>\n",
       "      <td>7000.0</td>\n",
       "      <td>5.0</td>\n",
       "      <td>2050.0</td>\n",
       "      <td>4</td>\n",
       "      <td>29285.714286</td>\n",
       "    </tr>\n",
       "    <tr>\n",
       "      <th>6421</th>\n",
       "      <td>Bommenahalli</td>\n",
       "      <td>2940.0</td>\n",
       "      <td>3.0</td>\n",
       "      <td>2250.0</td>\n",
       "      <td>4</td>\n",
       "      <td>76530.612245</td>\n",
       "    </tr>\n",
       "    <tr>\n",
       "      <th>10304</th>\n",
       "      <td>other</td>\n",
       "      <td>10624.0</td>\n",
       "      <td>4.0</td>\n",
       "      <td>2340.0</td>\n",
       "      <td>4</td>\n",
       "      <td>22025.602410</td>\n",
       "    </tr>\n",
       "    <tr>\n",
       "      <th>11080</th>\n",
       "      <td>other</td>\n",
       "      <td>8321.0</td>\n",
       "      <td>5.0</td>\n",
       "      <td>2912.0</td>\n",
       "      <td>4</td>\n",
       "      <td>34995.793775</td>\n",
       "    </tr>\n",
       "    <tr>\n",
       "      <th>13197</th>\n",
       "      <td>other</td>\n",
       "      <td>9200.0</td>\n",
       "      <td>4.0</td>\n",
       "      <td>2600.0</td>\n",
       "      <td>4</td>\n",
       "      <td>28260.869565</td>\n",
       "    </tr>\n",
       "    <tr>\n",
       "      <th>13200</th>\n",
       "      <td>other</td>\n",
       "      <td>8000.0</td>\n",
       "      <td>6.0</td>\n",
       "      <td>2800.0</td>\n",
       "      <td>6</td>\n",
       "      <td>35000.000000</td>\n",
       "    </tr>\n",
       "  </tbody>\n",
       "</table>\n",
       "</div>"
      ],
      "text/plain": [
       "           location  total_sqft  bath   price  bhk  price_per_sqft\n",
       "408    Rajaji Nagar     12000.0   6.0  2200.0    7    18333.333333\n",
       "605    Malleshwaram     12000.0   7.0  2200.0    7    18333.333333\n",
       "3180          other      8321.0   5.0  2700.0    5    32448.023074\n",
       "4162          other      7000.0   5.0  2050.0    4    29285.714286\n",
       "6421   Bommenahalli      2940.0   3.0  2250.0    4    76530.612245\n",
       "10304         other     10624.0   4.0  2340.0    4    22025.602410\n",
       "11080         other      8321.0   5.0  2912.0    4    34995.793775\n",
       "13197         other      9200.0   4.0  2600.0    4    28260.869565\n",
       "13200         other      8000.0   6.0  2800.0    6    35000.000000"
      ]
     },
     "execution_count": 77,
     "metadata": {},
     "output_type": "execute_result"
    }
   ],
   "source": [
    "df[df.price > 2000]"
   ]
  },
  {
   "cell_type": "code",
   "execution_count": 78,
   "metadata": {},
   "outputs": [],
   "source": [
    "df = df.drop(index=6421,axis='index')"
   ]
  },
  {
   "cell_type": "code",
   "execution_count": 79,
   "metadata": {},
   "outputs": [
    {
     "data": {
      "text/html": [
       "<div>\n",
       "<style scoped>\n",
       "    .dataframe tbody tr th:only-of-type {\n",
       "        vertical-align: middle;\n",
       "    }\n",
       "\n",
       "    .dataframe tbody tr th {\n",
       "        vertical-align: top;\n",
       "    }\n",
       "\n",
       "    .dataframe thead th {\n",
       "        text-align: right;\n",
       "    }\n",
       "</style>\n",
       "<table border=\"1\" class=\"dataframe\">\n",
       "  <thead>\n",
       "    <tr style=\"text-align: right;\">\n",
       "      <th></th>\n",
       "      <th>location</th>\n",
       "      <th>total_sqft</th>\n",
       "      <th>bath</th>\n",
       "      <th>price</th>\n",
       "      <th>bhk</th>\n",
       "      <th>price_per_sqft</th>\n",
       "    </tr>\n",
       "  </thead>\n",
       "  <tbody>\n",
       "    <tr>\n",
       "      <th>408</th>\n",
       "      <td>Rajaji Nagar</td>\n",
       "      <td>12000.0</td>\n",
       "      <td>6.0</td>\n",
       "      <td>2200.0</td>\n",
       "      <td>7</td>\n",
       "      <td>18333.333333</td>\n",
       "    </tr>\n",
       "    <tr>\n",
       "      <th>605</th>\n",
       "      <td>Malleshwaram</td>\n",
       "      <td>12000.0</td>\n",
       "      <td>7.0</td>\n",
       "      <td>2200.0</td>\n",
       "      <td>7</td>\n",
       "      <td>18333.333333</td>\n",
       "    </tr>\n",
       "    <tr>\n",
       "      <th>3180</th>\n",
       "      <td>other</td>\n",
       "      <td>8321.0</td>\n",
       "      <td>5.0</td>\n",
       "      <td>2700.0</td>\n",
       "      <td>5</td>\n",
       "      <td>32448.023074</td>\n",
       "    </tr>\n",
       "    <tr>\n",
       "      <th>4162</th>\n",
       "      <td>other</td>\n",
       "      <td>7000.0</td>\n",
       "      <td>5.0</td>\n",
       "      <td>2050.0</td>\n",
       "      <td>4</td>\n",
       "      <td>29285.714286</td>\n",
       "    </tr>\n",
       "    <tr>\n",
       "      <th>10304</th>\n",
       "      <td>other</td>\n",
       "      <td>10624.0</td>\n",
       "      <td>4.0</td>\n",
       "      <td>2340.0</td>\n",
       "      <td>4</td>\n",
       "      <td>22025.602410</td>\n",
       "    </tr>\n",
       "    <tr>\n",
       "      <th>11080</th>\n",
       "      <td>other</td>\n",
       "      <td>8321.0</td>\n",
       "      <td>5.0</td>\n",
       "      <td>2912.0</td>\n",
       "      <td>4</td>\n",
       "      <td>34995.793775</td>\n",
       "    </tr>\n",
       "    <tr>\n",
       "      <th>13197</th>\n",
       "      <td>other</td>\n",
       "      <td>9200.0</td>\n",
       "      <td>4.0</td>\n",
       "      <td>2600.0</td>\n",
       "      <td>4</td>\n",
       "      <td>28260.869565</td>\n",
       "    </tr>\n",
       "    <tr>\n",
       "      <th>13200</th>\n",
       "      <td>other</td>\n",
       "      <td>8000.0</td>\n",
       "      <td>6.0</td>\n",
       "      <td>2800.0</td>\n",
       "      <td>6</td>\n",
       "      <td>35000.000000</td>\n",
       "    </tr>\n",
       "  </tbody>\n",
       "</table>\n",
       "</div>"
      ],
      "text/plain": [
       "           location  total_sqft  bath   price  bhk  price_per_sqft\n",
       "408    Rajaji Nagar     12000.0   6.0  2200.0    7    18333.333333\n",
       "605    Malleshwaram     12000.0   7.0  2200.0    7    18333.333333\n",
       "3180          other      8321.0   5.0  2700.0    5    32448.023074\n",
       "4162          other      7000.0   5.0  2050.0    4    29285.714286\n",
       "10304         other     10624.0   4.0  2340.0    4    22025.602410\n",
       "11080         other      8321.0   5.0  2912.0    4    34995.793775\n",
       "13197         other      9200.0   4.0  2600.0    4    28260.869565\n",
       "13200         other      8000.0   6.0  2800.0    6    35000.000000"
      ]
     },
     "execution_count": 79,
     "metadata": {},
     "output_type": "execute_result"
    }
   ],
   "source": [
    "df[df.price > 2000]"
   ]
  },
  {
   "cell_type": "code",
   "execution_count": 80,
   "metadata": {},
   "outputs": [
    {
     "data": {
      "text/plain": [
       "<matplotlib.axes._subplots.AxesSubplot at 0x1eeea557ac8>"
      ]
     },
     "execution_count": 80,
     "metadata": {},
     "output_type": "execute_result"
    },
    {
     "data": {
      "image/png": "[encoded data removed]",
      "text/plain": [
       "<Figure size 720x360 with 1 Axes>"
      ]
     },
     "metadata": {
      "needs_background": "light"
     },
     "output_type": "display_data"
    }
   ],
   "source": [
    "sns.scatterplot(x='total_sqft',y='price',data=df)"
   ]
  },
  {
   "cell_type": "code",
   "execution_count": 81,
   "metadata": {},
   "outputs": [
    {
     "data": {
      "text/plain": [
       "count      8360.000000\n",
       "mean       6853.099502\n",
       "std        4422.464591\n",
       "min         500.000000\n",
       "25%        4578.447364\n",
       "50%        5865.921788\n",
       "75%        7500.000000\n",
       "max      176470.588235\n",
       "Name: price_per_sqft, dtype: float64"
      ]
     },
     "execution_count": 81,
     "metadata": {},
     "output_type": "execute_result"
    }
   ],
   "source": [
    "df.price_per_sqft.describe()"
   ]
  },
  {
   "cell_type": "code",
   "execution_count": 82,
   "metadata": {},
   "outputs": [
    {
     "data": {
      "text/plain": [
       "<matplotlib.axes._subplots.AxesSubplot at 0x1eeea59f780>"
      ]
     },
     "execution_count": 82,
     "metadata": {},
     "output_type": "execute_result"
    },
    {
     "data": {
      "image/png": "[encoded data removed]",
      "text/plain": [
       "<Figure size 720x360 with 1 Axes>"
      ]
     },
     "metadata": {
      "needs_background": "light"
     },
     "output_type": "display_data"
    }
   ],
   "source": [
    "sns.distplot(df.price_per_sqft,kde=True)"
   ]
  },
  {
   "cell_type": "code",
   "execution_count": 83,
   "metadata": {},
   "outputs": [
    {
     "data": {
      "text/html": [
       "<div>\n",
       "<style scoped>\n",
       "    .dataframe tbody tr th:only-of-type {\n",
       "        vertical-align: middle;\n",
       "    }\n",
       "\n",
       "    .dataframe tbody tr th {\n",
       "        vertical-align: top;\n",
       "    }\n",
       "\n",
       "    .dataframe thead th {\n",
       "        text-align: right;\n",
       "    }\n",
       "</style>\n",
       "<table border=\"1\" class=\"dataframe\">\n",
       "  <thead>\n",
       "    <tr style=\"text-align: right;\">\n",
       "      <th></th>\n",
       "      <th>location</th>\n",
       "      <th>total_sqft</th>\n",
       "      <th>bath</th>\n",
       "      <th>price</th>\n",
       "      <th>bhk</th>\n",
       "      <th>price_per_sqft</th>\n",
       "    </tr>\n",
       "  </thead>\n",
       "  <tbody>\n",
       "    <tr>\n",
       "      <th>7088</th>\n",
       "      <td>other</td>\n",
       "      <td>650.0</td>\n",
       "      <td>1.0</td>\n",
       "      <td>500.0</td>\n",
       "      <td>1</td>\n",
       "      <td>76923.076923</td>\n",
       "    </tr>\n",
       "    <tr>\n",
       "      <th>7657</th>\n",
       "      <td>other</td>\n",
       "      <td>425.0</td>\n",
       "      <td>1.0</td>\n",
       "      <td>750.0</td>\n",
       "      <td>1</td>\n",
       "      <td>176470.588235</td>\n",
       "    </tr>\n",
       "    <tr>\n",
       "      <th>7883</th>\n",
       "      <td>other</td>\n",
       "      <td>2000.0</td>\n",
       "      <td>3.0</td>\n",
       "      <td>1063.0</td>\n",
       "      <td>4</td>\n",
       "      <td>53150.000000</td>\n",
       "    </tr>\n",
       "    <tr>\n",
       "      <th>8398</th>\n",
       "      <td>Bannerghatta Road</td>\n",
       "      <td>2500.0</td>\n",
       "      <td>4.0</td>\n",
       "      <td>1400.0</td>\n",
       "      <td>5</td>\n",
       "      <td>56000.000000</td>\n",
       "    </tr>\n",
       "    <tr>\n",
       "      <th>9535</th>\n",
       "      <td>Indira Nagar</td>\n",
       "      <td>2400.0</td>\n",
       "      <td>5.0</td>\n",
       "      <td>1250.0</td>\n",
       "      <td>4</td>\n",
       "      <td>52083.333333</td>\n",
       "    </tr>\n",
       "  </tbody>\n",
       "</table>\n",
       "</div>"
      ],
      "text/plain": [
       "               location  total_sqft  bath   price  bhk  price_per_sqft\n",
       "7088              other       650.0   1.0   500.0    1    76923.076923\n",
       "7657              other       425.0   1.0   750.0    1   176470.588235\n",
       "7883              other      2000.0   3.0  1063.0    4    53150.000000\n",
       "8398  Bannerghatta Road      2500.0   4.0  1400.0    5    56000.000000\n",
       "9535       Indira Nagar      2400.0   5.0  1250.0    4    52083.333333"
      ]
     },
     "execution_count": 83,
     "metadata": {},
     "output_type": "execute_result"
    }
   ],
   "source": [
    "df[df.price_per_sqft > 50000]"
   ]
  },
  {
   "cell_type": "code",
   "execution_count": 84,
   "metadata": {},
   "outputs": [],
   "source": [
    "df = df.drop(index=7657,axis='index')"
   ]
  },
  {
   "cell_type": "code",
   "execution_count": 85,
   "metadata": {},
   "outputs": [
    {
     "data": {
      "text/plain": [
       "<matplotlib.axes._subplots.AxesSubplot at 0x1eeea68ad30>"
      ]
     },
     "execution_count": 85,
     "metadata": {},
     "output_type": "execute_result"
    },
    {
     "data": {
      "image/png": "[encoded data removed]",
      "text/plain": [
       "<Figure size 720x360 with 1 Axes>"
      ]
     },
     "metadata": {
      "needs_background": "light"
     },
     "output_type": "display_data"
    }
   ],
   "source": [
    "sns.distplot(df.price_per_sqft,kde=True)"
   ]
  },
  {
   "cell_type": "code",
   "execution_count": 86,
   "metadata": {},
   "outputs": [],
   "source": [
    "df = df[df.price_per_sqft < 40000]"
   ]
  },
  {
   "cell_type": "code",
   "execution_count": 87,
   "metadata": {},
   "outputs": [
    {
     "data": {
      "text/plain": [
       "<matplotlib.axes._subplots.AxesSubplot at 0x1eeea784c88>"
      ]
     },
     "execution_count": 87,
     "metadata": {},
     "output_type": "execute_result"
    },
    {
     "data": {
      "image/png": "[encoded data removed]",
      "text/plain": [
       "<Figure size 720x360 with 1 Axes>"
      ]
     },
     "metadata": {
      "needs_background": "light"
     },
     "output_type": "display_data"
    }
   ],
   "source": [
    "sns.distplot(df.price_per_sqft,kde=True)"
   ]
  },
  {
   "cell_type": "code",
   "execution_count": 88,
   "metadata": {},
   "outputs": [
    {
     "data": {
      "text/plain": [
       "<matplotlib.axes._subplots.AxesSubplot at 0x1eeea36fcc0>"
      ]
     },
     "execution_count": 88,
     "metadata": {},
     "output_type": "execute_result"
    },
    {
     "data": {
      "image/png": "[encoded data removed]",
      "text/plain": [
       "<Figure size 720x360 with 1 Axes>"
      ]
     },
     "metadata": {
      "needs_background": "light"
     },
     "output_type": "display_data"
    }
   ],
   "source": [
    "sns.distplot(df.price,kde=True)"
   ]
  },
  {
   "cell_type": "code",
   "execution_count": 89,
   "metadata": {},
   "outputs": [
    {
     "data": {
      "text/plain": [
       "<matplotlib.axes._subplots.AxesSubplot at 0x1eeea90b9b0>"
      ]
     },
     "execution_count": 89,
     "metadata": {},
     "output_type": "execute_result"
    },
    {
     "data": {
      "image/png": "[encoded data removed]",
      "text/plain": [
       "<Figure size 720x360 with 1 Axes>"
      ]
     },
     "metadata": {
      "needs_background": "light"
     },
     "output_type": "display_data"
    }
   ],
   "source": [
    "sns.scatterplot(x='total_sqft',y='price',data=df)"
   ]
  },
  {
   "cell_type": "code",
   "execution_count": 90,
   "metadata": {},
   "outputs": [],
   "source": [
    "# finding mean and median of price per square feet grouping location\n",
    "def searching(df):\n",
    "    for location , location_df in df.groupby('location'):\n",
    "        mean = location_df.price_per_sqft.mean()\n",
    "        median = location_df.price_per_sqft.median()\n",
    "        if(abs(mean-median) > 3000):\n",
    "            print(location,\" : \",mean,\" - \",median)"
   ]
  },
  {
   "cell_type": "code",
   "execution_count": 91,
   "metadata": {},
   "outputs": [
    {
     "name": "stdout",
     "output_type": "stream",
     "text": [
      "2nd Stage Nagarbhavi  :  11296.296296296296  -  14666.666666666666\n",
      "Chamrajpet  :  11541.999664345936  -  8541.480820695808\n",
      "Poorna Pragna Layout  :  7796.451322127612  -  4636.503153863483\n"
     ]
    }
   ],
   "source": [
    "searching(df)"
   ]
  },
  {
   "cell_type": "code",
   "execution_count": 92,
   "metadata": {},
   "outputs": [
    {
     "data": {
      "text/html": [
       "<div>\n",
       "<style scoped>\n",
       "    .dataframe tbody tr th:only-of-type {\n",
       "        vertical-align: middle;\n",
       "    }\n",
       "\n",
       "    .dataframe tbody tr th {\n",
       "        vertical-align: top;\n",
       "    }\n",
       "\n",
       "    .dataframe thead th {\n",
       "        text-align: right;\n",
       "    }\n",
       "</style>\n",
       "<table border=\"1\" class=\"dataframe\">\n",
       "  <thead>\n",
       "    <tr style=\"text-align: right;\">\n",
       "      <th></th>\n",
       "      <th>location</th>\n",
       "      <th>total_sqft</th>\n",
       "      <th>bath</th>\n",
       "      <th>price</th>\n",
       "      <th>bhk</th>\n",
       "      <th>price_per_sqft</th>\n",
       "    </tr>\n",
       "  </thead>\n",
       "  <tbody>\n",
       "    <tr>\n",
       "      <th>1399</th>\n",
       "      <td>Poorna Pragna Layout</td>\n",
       "      <td>920.0</td>\n",
       "      <td>2.0</td>\n",
       "      <td>39.55</td>\n",
       "      <td>2</td>\n",
       "      <td>4298.913043</td>\n",
       "    </tr>\n",
       "    <tr>\n",
       "      <th>2921</th>\n",
       "      <td>Poorna Pragna Layout</td>\n",
       "      <td>1160.0</td>\n",
       "      <td>2.0</td>\n",
       "      <td>46.39</td>\n",
       "      <td>2</td>\n",
       "      <td>3999.137931</td>\n",
       "    </tr>\n",
       "    <tr>\n",
       "      <th>4272</th>\n",
       "      <td>Poorna Pragna Layout</td>\n",
       "      <td>965.0</td>\n",
       "      <td>2.0</td>\n",
       "      <td>48.00</td>\n",
       "      <td>2</td>\n",
       "      <td>4974.093264</td>\n",
       "    </tr>\n",
       "    <tr>\n",
       "      <th>5304</th>\n",
       "      <td>Poorna Pragna Layout</td>\n",
       "      <td>1400.0</td>\n",
       "      <td>2.0</td>\n",
       "      <td>240.00</td>\n",
       "      <td>3</td>\n",
       "      <td>17142.857143</td>\n",
       "    </tr>\n",
       "    <tr>\n",
       "      <th>7463</th>\n",
       "      <td>Poorna Pragna Layout</td>\n",
       "      <td>1160.0</td>\n",
       "      <td>2.0</td>\n",
       "      <td>46.39</td>\n",
       "      <td>2</td>\n",
       "      <td>3999.137931</td>\n",
       "    </tr>\n",
       "    <tr>\n",
       "      <th>7589</th>\n",
       "      <td>Poorna Pragna Layout</td>\n",
       "      <td>2400.0</td>\n",
       "      <td>6.0</td>\n",
       "      <td>450.00</td>\n",
       "      <td>7</td>\n",
       "      <td>18750.000000</td>\n",
       "    </tr>\n",
       "    <tr>\n",
       "      <th>8365</th>\n",
       "      <td>Poorna Pragna Layout</td>\n",
       "      <td>1160.0</td>\n",
       "      <td>2.0</td>\n",
       "      <td>46.39</td>\n",
       "      <td>2</td>\n",
       "      <td>3999.137931</td>\n",
       "    </tr>\n",
       "    <tr>\n",
       "      <th>11941</th>\n",
       "      <td>Poorna Pragna Layout</td>\n",
       "      <td>960.0</td>\n",
       "      <td>2.0</td>\n",
       "      <td>50.00</td>\n",
       "      <td>2</td>\n",
       "      <td>5208.333333</td>\n",
       "    </tr>\n",
       "  </tbody>\n",
       "</table>\n",
       "</div>"
      ],
      "text/plain": [
       "                   location  total_sqft  bath   price  bhk  price_per_sqft\n",
       "1399   Poorna Pragna Layout       920.0   2.0   39.55    2     4298.913043\n",
       "2921   Poorna Pragna Layout      1160.0   2.0   46.39    2     3999.137931\n",
       "4272   Poorna Pragna Layout       965.0   2.0   48.00    2     4974.093264\n",
       "5304   Poorna Pragna Layout      1400.0   2.0  240.00    3    17142.857143\n",
       "7463   Poorna Pragna Layout      1160.0   2.0   46.39    2     3999.137931\n",
       "7589   Poorna Pragna Layout      2400.0   6.0  450.00    7    18750.000000\n",
       "8365   Poorna Pragna Layout      1160.0   2.0   46.39    2     3999.137931\n",
       "11941  Poorna Pragna Layout       960.0   2.0   50.00    2     5208.333333"
      ]
     },
     "execution_count": 92,
     "metadata": {},
     "output_type": "execute_result"
    }
   ],
   "source": [
    "df[df.location == 'Poorna Pragna Layout']"
   ]
  },
  {
   "cell_type": "code",
   "execution_count": 93,
   "metadata": {},
   "outputs": [],
   "source": [
    "locaiton_with_low_price = ['2nd Stage Nagarbhavi','Chamrajpet','Poorna Pragna Layout']\n",
    "df = df.drop(index=[5304,7589])"
   ]
  },
  {
   "cell_type": "code",
   "execution_count": 94,
   "metadata": {},
   "outputs": [
    {
     "data": {
      "text/plain": [
       "<matplotlib.axes._subplots.AxesSubplot at 0x1eee7e75cc0>"
      ]
     },
     "execution_count": 94,
     "metadata": {},
     "output_type": "execute_result"
    },
    {
     "data": {
      "image/png": "[encoded data removed]",
      "text/plain": [
       "<Figure size 720x360 with 1 Axes>"
      ]
     },
     "metadata": {
      "needs_background": "light"
     },
     "output_type": "display_data"
    }
   ],
   "source": [
    "sns.distplot(df.price_per_sqft,kde=True)"
   ]
  },
  {
   "cell_type": "code",
   "execution_count": 95,
   "metadata": {},
   "outputs": [
    {
     "data": {
      "text/plain": [
       "total_sqft        0.808764\n",
       "bath              0.556367\n",
       "price             1.000000\n",
       "bhk               0.537932\n",
       "price_per_sqft    0.756180\n",
       "Name: price, dtype: float64"
      ]
     },
     "execution_count": 95,
     "metadata": {},
     "output_type": "execute_result"
    }
   ],
   "source": [
    "df.corr()['price']"
   ]
  },
  {
   "cell_type": "code",
   "execution_count": 96,
   "metadata": {},
   "outputs": [],
   "source": [
    "df = df[df.price_per_sqft < 20000]"
   ]
  },
  {
   "cell_type": "code",
   "execution_count": 97,
   "metadata": {},
   "outputs": [
    {
     "data": {
      "text/plain": [
       "<matplotlib.axes._subplots.AxesSubplot at 0x1eeeba09cf8>"
      ]
     },
     "execution_count": 97,
     "metadata": {},
     "output_type": "execute_result"
    },
    {
     "data": {
      "image/png": "[encoded data removed]",
      "text/plain": [
       "<Figure size 720x360 with 1 Axes>"
      ]
     },
     "metadata": {
      "needs_background": "light"
     },
     "output_type": "display_data"
    }
   ],
   "source": [
    "sns.distplot(df.price,kde=True)"
   ]
  },
  {
   "cell_type": "code",
   "execution_count": 98,
   "metadata": {},
   "outputs": [
    {
     "data": {
      "text/plain": [
       "<matplotlib.axes._subplots.AxesSubplot at 0x1eeebb00908>"
      ]
     },
     "execution_count": 98,
     "metadata": {},
     "output_type": "execute_result"
    },
    {
     "data": {
      "image/png": "[encoded data removed]",
      "text/plain": [
       "<Figure size 720x360 with 1 Axes>"
      ]
     },
     "metadata": {
      "needs_background": "light"
     },
     "output_type": "display_data"
    }
   ],
   "source": [
    "df = df[df.total_sqft < 6000]\n",
    "sns.distplot(df.total_sqft,kde=True)"
   ]
  },
  {
   "cell_type": "code",
   "execution_count": null,
   "metadata": {},
   "outputs": [],
   "source": []
  },
  {
   "cell_type": "markdown",
   "metadata": {},
   "source": [
    "## One Hot Coding"
   ]
  },
  {
   "cell_type": "code",
   "execution_count": 99,
   "metadata": {},
   "outputs": [
    {
     "data": {
      "text/html": [
       "<div>\n",
       "<style scoped>\n",
       "    .dataframe tbody tr th:only-of-type {\n",
       "        vertical-align: middle;\n",
       "    }\n",
       "\n",
       "    .dataframe tbody tr th {\n",
       "        vertical-align: top;\n",
       "    }\n",
       "\n",
       "    .dataframe thead th {\n",
       "        text-align: right;\n",
       "    }\n",
       "</style>\n",
       "<table border=\"1\" class=\"dataframe\">\n",
       "  <thead>\n",
       "    <tr style=\"text-align: right;\">\n",
       "      <th></th>\n",
       "      <th>1st Block Jayanagar</th>\n",
       "      <th>1st Phase JP Nagar</th>\n",
       "      <th>2nd Phase Judicial Layout</th>\n",
       "      <th>2nd Stage Nagarbhavi</th>\n",
       "      <th>5th Block Hbr Layout</th>\n",
       "      <th>5th Phase JP Nagar</th>\n",
       "      <th>6th Phase JP Nagar</th>\n",
       "      <th>7th Phase JP Nagar</th>\n",
       "      <th>8th Phase JP Nagar</th>\n",
       "      <th>9th Phase JP Nagar</th>\n",
       "      <th>...</th>\n",
       "      <th>Vishveshwarya Layout</th>\n",
       "      <th>Vishwapriya Layout</th>\n",
       "      <th>Vittasandra</th>\n",
       "      <th>Whitefield</th>\n",
       "      <th>Yelachenahalli</th>\n",
       "      <th>Yelahanka</th>\n",
       "      <th>Yelahanka New Town</th>\n",
       "      <th>Yelenahalli</th>\n",
       "      <th>Yeshwanthpur</th>\n",
       "      <th>other</th>\n",
       "    </tr>\n",
       "  </thead>\n",
       "  <tbody>\n",
       "    <tr>\n",
       "      <th>0</th>\n",
       "      <td>0</td>\n",
       "      <td>0</td>\n",
       "      <td>0</td>\n",
       "      <td>0</td>\n",
       "      <td>0</td>\n",
       "      <td>0</td>\n",
       "      <td>0</td>\n",
       "      <td>0</td>\n",
       "      <td>0</td>\n",
       "      <td>0</td>\n",
       "      <td>...</td>\n",
       "      <td>0</td>\n",
       "      <td>0</td>\n",
       "      <td>0</td>\n",
       "      <td>0</td>\n",
       "      <td>0</td>\n",
       "      <td>0</td>\n",
       "      <td>0</td>\n",
       "      <td>0</td>\n",
       "      <td>0</td>\n",
       "      <td>0</td>\n",
       "    </tr>\n",
       "    <tr>\n",
       "      <th>2</th>\n",
       "      <td>0</td>\n",
       "      <td>0</td>\n",
       "      <td>0</td>\n",
       "      <td>0</td>\n",
       "      <td>0</td>\n",
       "      <td>0</td>\n",
       "      <td>0</td>\n",
       "      <td>0</td>\n",
       "      <td>0</td>\n",
       "      <td>0</td>\n",
       "      <td>...</td>\n",
       "      <td>0</td>\n",
       "      <td>0</td>\n",
       "      <td>0</td>\n",
       "      <td>0</td>\n",
       "      <td>0</td>\n",
       "      <td>0</td>\n",
       "      <td>0</td>\n",
       "      <td>0</td>\n",
       "      <td>0</td>\n",
       "      <td>0</td>\n",
       "    </tr>\n",
       "    <tr>\n",
       "      <th>3</th>\n",
       "      <td>0</td>\n",
       "      <td>0</td>\n",
       "      <td>0</td>\n",
       "      <td>0</td>\n",
       "      <td>0</td>\n",
       "      <td>0</td>\n",
       "      <td>0</td>\n",
       "      <td>0</td>\n",
       "      <td>0</td>\n",
       "      <td>0</td>\n",
       "      <td>...</td>\n",
       "      <td>0</td>\n",
       "      <td>0</td>\n",
       "      <td>0</td>\n",
       "      <td>0</td>\n",
       "      <td>0</td>\n",
       "      <td>0</td>\n",
       "      <td>0</td>\n",
       "      <td>0</td>\n",
       "      <td>0</td>\n",
       "      <td>0</td>\n",
       "    </tr>\n",
       "    <tr>\n",
       "      <th>4</th>\n",
       "      <td>0</td>\n",
       "      <td>0</td>\n",
       "      <td>0</td>\n",
       "      <td>0</td>\n",
       "      <td>0</td>\n",
       "      <td>0</td>\n",
       "      <td>0</td>\n",
       "      <td>0</td>\n",
       "      <td>0</td>\n",
       "      <td>0</td>\n",
       "      <td>...</td>\n",
       "      <td>0</td>\n",
       "      <td>0</td>\n",
       "      <td>0</td>\n",
       "      <td>0</td>\n",
       "      <td>0</td>\n",
       "      <td>0</td>\n",
       "      <td>0</td>\n",
       "      <td>0</td>\n",
       "      <td>0</td>\n",
       "      <td>0</td>\n",
       "    </tr>\n",
       "    <tr>\n",
       "      <th>6</th>\n",
       "      <td>0</td>\n",
       "      <td>0</td>\n",
       "      <td>0</td>\n",
       "      <td>0</td>\n",
       "      <td>0</td>\n",
       "      <td>0</td>\n",
       "      <td>0</td>\n",
       "      <td>0</td>\n",
       "      <td>0</td>\n",
       "      <td>0</td>\n",
       "      <td>...</td>\n",
       "      <td>0</td>\n",
       "      <td>0</td>\n",
       "      <td>0</td>\n",
       "      <td>0</td>\n",
       "      <td>0</td>\n",
       "      <td>0</td>\n",
       "      <td>0</td>\n",
       "      <td>0</td>\n",
       "      <td>0</td>\n",
       "      <td>0</td>\n",
       "    </tr>\n",
       "  </tbody>\n",
       "</table>\n",
       "<p>5 rows × 241 columns</p>\n",
       "</div>"
      ],
      "text/plain": [
       "   1st Block Jayanagar  1st Phase JP Nagar  2nd Phase Judicial Layout  \\\n",
       "0                    0                   0                          0   \n",
       "2                    0                   0                          0   \n",
       "3                    0                   0                          0   \n",
       "4                    0                   0                          0   \n",
       "6                    0                   0                          0   \n",
       "\n",
       "   2nd Stage Nagarbhavi  5th Block Hbr Layout  5th Phase JP Nagar  \\\n",
       "0                     0                     0                   0   \n",
       "2                     0                     0                   0   \n",
       "3                     0                     0                   0   \n",
       "4                     0                     0                   0   \n",
       "6                     0                     0                   0   \n",
       "\n",
       "   6th Phase JP Nagar  7th Phase JP Nagar  8th Phase JP Nagar  \\\n",
       "0                   0                   0                   0   \n",
       "2                   0                   0                   0   \n",
       "3                   0                   0                   0   \n",
       "4                   0                   0                   0   \n",
       "6                   0                   0                   0   \n",
       "\n",
       "   9th Phase JP Nagar  ...    Vishveshwarya Layout  Vishwapriya Layout  \\\n",
       "0                   0  ...                       0                   0   \n",
       "2                   0  ...                       0                   0   \n",
       "3                   0  ...                       0                   0   \n",
       "4                   0  ...                       0                   0   \n",
       "6                   0  ...                       0                   0   \n",
       "\n",
       "   Vittasandra  Whitefield  Yelachenahalli  Yelahanka  Yelahanka New Town  \\\n",
       "0            0           0               0          0                   0   \n",
       "2            0           0               0          0                   0   \n",
       "3            0           0               0          0                   0   \n",
       "4            0           0               0          0                   0   \n",
       "6            0           0               0          0                   0   \n",
       "\n",
       "   Yelenahalli  Yeshwanthpur  other  \n",
       "0            0             0      0  \n",
       "2            0             0      0  \n",
       "3            0             0      0  \n",
       "4            0             0      0  \n",
       "6            0             0      0  \n",
       "\n",
       "[5 rows x 241 columns]"
      ]
     },
     "execution_count": 99,
     "metadata": {},
     "output_type": "execute_result"
    }
   ],
   "source": [
    "dumies = pd.get_dummies(df.location)\n",
    "dumies.head()"
   ]
  },
  {
   "cell_type": "code",
   "execution_count": 100,
   "metadata": {},
   "outputs": [
    {
     "data": {
      "text/html": [
       "<div>\n",
       "<style scoped>\n",
       "    .dataframe tbody tr th:only-of-type {\n",
       "        vertical-align: middle;\n",
       "    }\n",
       "\n",
       "    .dataframe tbody tr th {\n",
       "        vertical-align: top;\n",
       "    }\n",
       "\n",
       "    .dataframe thead th {\n",
       "        text-align: right;\n",
       "    }\n",
       "</style>\n",
       "<table border=\"1\" class=\"dataframe\">\n",
       "  <thead>\n",
       "    <tr style=\"text-align: right;\">\n",
       "      <th></th>\n",
       "      <th>location</th>\n",
       "      <th>total_sqft</th>\n",
       "      <th>bath</th>\n",
       "      <th>price</th>\n",
       "      <th>bhk</th>\n",
       "      <th>price_per_sqft</th>\n",
       "      <th>1st Block Jayanagar</th>\n",
       "      <th>1st Phase JP Nagar</th>\n",
       "      <th>2nd Phase Judicial Layout</th>\n",
       "      <th>2nd Stage Nagarbhavi</th>\n",
       "      <th>...</th>\n",
       "      <th>Vijayanagar</th>\n",
       "      <th>Vishveshwarya Layout</th>\n",
       "      <th>Vishwapriya Layout</th>\n",
       "      <th>Vittasandra</th>\n",
       "      <th>Whitefield</th>\n",
       "      <th>Yelachenahalli</th>\n",
       "      <th>Yelahanka</th>\n",
       "      <th>Yelahanka New Town</th>\n",
       "      <th>Yelenahalli</th>\n",
       "      <th>Yeshwanthpur</th>\n",
       "    </tr>\n",
       "  </thead>\n",
       "  <tbody>\n",
       "    <tr>\n",
       "      <th>0</th>\n",
       "      <td>Electronic City Phase II</td>\n",
       "      <td>1056.0</td>\n",
       "      <td>2.0</td>\n",
       "      <td>39.07</td>\n",
       "      <td>2</td>\n",
       "      <td>3699.810606</td>\n",
       "      <td>0</td>\n",
       "      <td>0</td>\n",
       "      <td>0</td>\n",
       "      <td>0</td>\n",
       "      <td>...</td>\n",
       "      <td>0</td>\n",
       "      <td>0</td>\n",
       "      <td>0</td>\n",
       "      <td>0</td>\n",
       "      <td>0</td>\n",
       "      <td>0</td>\n",
       "      <td>0</td>\n",
       "      <td>0</td>\n",
       "      <td>0</td>\n",
       "      <td>0</td>\n",
       "    </tr>\n",
       "    <tr>\n",
       "      <th>2</th>\n",
       "      <td>Uttarahalli</td>\n",
       "      <td>1440.0</td>\n",
       "      <td>2.0</td>\n",
       "      <td>62.00</td>\n",
       "      <td>3</td>\n",
       "      <td>4305.555556</td>\n",
       "      <td>0</td>\n",
       "      <td>0</td>\n",
       "      <td>0</td>\n",
       "      <td>0</td>\n",
       "      <td>...</td>\n",
       "      <td>0</td>\n",
       "      <td>0</td>\n",
       "      <td>0</td>\n",
       "      <td>0</td>\n",
       "      <td>0</td>\n",
       "      <td>0</td>\n",
       "      <td>0</td>\n",
       "      <td>0</td>\n",
       "      <td>0</td>\n",
       "      <td>0</td>\n",
       "    </tr>\n",
       "    <tr>\n",
       "      <th>3</th>\n",
       "      <td>Lingadheeranahalli</td>\n",
       "      <td>1521.0</td>\n",
       "      <td>3.0</td>\n",
       "      <td>95.00</td>\n",
       "      <td>3</td>\n",
       "      <td>6245.890861</td>\n",
       "      <td>0</td>\n",
       "      <td>0</td>\n",
       "      <td>0</td>\n",
       "      <td>0</td>\n",
       "      <td>...</td>\n",
       "      <td>0</td>\n",
       "      <td>0</td>\n",
       "      <td>0</td>\n",
       "      <td>0</td>\n",
       "      <td>0</td>\n",
       "      <td>0</td>\n",
       "      <td>0</td>\n",
       "      <td>0</td>\n",
       "      <td>0</td>\n",
       "      <td>0</td>\n",
       "    </tr>\n",
       "    <tr>\n",
       "      <th>4</th>\n",
       "      <td>Kothanur</td>\n",
       "      <td>1200.0</td>\n",
       "      <td>2.0</td>\n",
       "      <td>51.00</td>\n",
       "      <td>2</td>\n",
       "      <td>4250.000000</td>\n",
       "      <td>0</td>\n",
       "      <td>0</td>\n",
       "      <td>0</td>\n",
       "      <td>0</td>\n",
       "      <td>...</td>\n",
       "      <td>0</td>\n",
       "      <td>0</td>\n",
       "      <td>0</td>\n",
       "      <td>0</td>\n",
       "      <td>0</td>\n",
       "      <td>0</td>\n",
       "      <td>0</td>\n",
       "      <td>0</td>\n",
       "      <td>0</td>\n",
       "      <td>0</td>\n",
       "    </tr>\n",
       "    <tr>\n",
       "      <th>6</th>\n",
       "      <td>Old Airport Road</td>\n",
       "      <td>2732.0</td>\n",
       "      <td>4.0</td>\n",
       "      <td>204.00</td>\n",
       "      <td>4</td>\n",
       "      <td>7467.057101</td>\n",
       "      <td>0</td>\n",
       "      <td>0</td>\n",
       "      <td>0</td>\n",
       "      <td>0</td>\n",
       "      <td>...</td>\n",
       "      <td>0</td>\n",
       "      <td>0</td>\n",
       "      <td>0</td>\n",
       "      <td>0</td>\n",
       "      <td>0</td>\n",
       "      <td>0</td>\n",
       "      <td>0</td>\n",
       "      <td>0</td>\n",
       "      <td>0</td>\n",
       "      <td>0</td>\n",
       "    </tr>\n",
       "  </tbody>\n",
       "</table>\n",
       "<p>5 rows × 246 columns</p>\n",
       "</div>"
      ],
      "text/plain": [
       "                   location  total_sqft  bath   price  bhk  price_per_sqft  \\\n",
       "0  Electronic City Phase II      1056.0   2.0   39.07    2     3699.810606   \n",
       "2               Uttarahalli      1440.0   2.0   62.00    3     4305.555556   \n",
       "3        Lingadheeranahalli      1521.0   3.0   95.00    3     6245.890861   \n",
       "4                  Kothanur      1200.0   2.0   51.00    2     4250.000000   \n",
       "6          Old Airport Road      2732.0   4.0  204.00    4     7467.057101   \n",
       "\n",
       "   1st Block Jayanagar  1st Phase JP Nagar  2nd Phase Judicial Layout  \\\n",
       "0                    0                   0                          0   \n",
       "2                    0                   0                          0   \n",
       "3                    0                   0                          0   \n",
       "4                    0                   0                          0   \n",
       "6                    0                   0                          0   \n",
       "\n",
       "   2nd Stage Nagarbhavi      ...       Vijayanagar  Vishveshwarya Layout  \\\n",
       "0                     0      ...                 0                     0   \n",
       "2                     0      ...                 0                     0   \n",
       "3                     0      ...                 0                     0   \n",
       "4                     0      ...                 0                     0   \n",
       "6                     0      ...                 0                     0   \n",
       "\n",
       "   Vishwapriya Layout  Vittasandra  Whitefield  Yelachenahalli  Yelahanka  \\\n",
       "0                   0            0           0               0          0   \n",
       "2                   0            0           0               0          0   \n",
       "3                   0            0           0               0          0   \n",
       "4                   0            0           0               0          0   \n",
       "6                   0            0           0               0          0   \n",
       "\n",
       "   Yelahanka New Town  Yelenahalli  Yeshwanthpur  \n",
       "0                   0            0             0  \n",
       "2                   0            0             0  \n",
       "3                   0            0             0  \n",
       "4                   0            0             0  \n",
       "6                   0            0             0  \n",
       "\n",
       "[5 rows x 246 columns]"
      ]
     },
     "execution_count": 100,
     "metadata": {},
     "output_type": "execute_result"
    }
   ],
   "source": [
    "new_df = pd.concat([df,dumies.drop('other',axis='columns')],axis='columns')\n",
    "new_df.head()"
   ]
  },
  {
   "cell_type": "code",
   "execution_count": 101,
   "metadata": {},
   "outputs": [
    {
     "name": "stdout",
     "output_type": "stream",
     "text": [
      "<class 'pandas.core.frame.DataFrame'>\n",
      "Int64Index: 8193 entries, 0 to 13319\n",
      "Columns: 246 entries, location to Yeshwanthpur\n",
      "dtypes: float64(4), int64(1), object(1), uint8(240)\n",
      "memory usage: 2.3+ MB\n"
     ]
    }
   ],
   "source": [
    "new_df.info()"
   ]
  },
  {
   "cell_type": "code",
   "execution_count": 102,
   "metadata": {},
   "outputs": [],
   "source": [
    "new_df  = new_df.drop(['price_per_sqft','location'],axis='columns')"
   ]
  },
  {
   "cell_type": "code",
   "execution_count": 103,
   "metadata": {},
   "outputs": [
    {
     "data": {
      "text/plain": [
       "(8193, 244)"
      ]
     },
     "execution_count": 103,
     "metadata": {},
     "output_type": "execute_result"
    }
   ],
   "source": [
    "new_df.shape"
   ]
  },
  {
   "cell_type": "code",
   "execution_count": 104,
   "metadata": {},
   "outputs": [
    {
     "data": {
      "text/html": [
       "<div>\n",
       "<style scoped>\n",
       "    .dataframe tbody tr th:only-of-type {\n",
       "        vertical-align: middle;\n",
       "    }\n",
       "\n",
       "    .dataframe tbody tr th {\n",
       "        vertical-align: top;\n",
       "    }\n",
       "\n",
       "    .dataframe thead th {\n",
       "        text-align: right;\n",
       "    }\n",
       "</style>\n",
       "<table border=\"1\" class=\"dataframe\">\n",
       "  <thead>\n",
       "    <tr style=\"text-align: right;\">\n",
       "      <th></th>\n",
       "      <th>total_sqft</th>\n",
       "      <th>bath</th>\n",
       "      <th>bhk</th>\n",
       "      <th>1st Block Jayanagar</th>\n",
       "      <th>1st Phase JP Nagar</th>\n",
       "      <th>2nd Phase Judicial Layout</th>\n",
       "      <th>2nd Stage Nagarbhavi</th>\n",
       "      <th>5th Block Hbr Layout</th>\n",
       "      <th>5th Phase JP Nagar</th>\n",
       "      <th>6th Phase JP Nagar</th>\n",
       "      <th>...</th>\n",
       "      <th>Vijayanagar</th>\n",
       "      <th>Vishveshwarya Layout</th>\n",
       "      <th>Vishwapriya Layout</th>\n",
       "      <th>Vittasandra</th>\n",
       "      <th>Whitefield</th>\n",
       "      <th>Yelachenahalli</th>\n",
       "      <th>Yelahanka</th>\n",
       "      <th>Yelahanka New Town</th>\n",
       "      <th>Yelenahalli</th>\n",
       "      <th>Yeshwanthpur</th>\n",
       "    </tr>\n",
       "  </thead>\n",
       "  <tbody>\n",
       "    <tr>\n",
       "      <th>0</th>\n",
       "      <td>1056.0</td>\n",
       "      <td>2.0</td>\n",
       "      <td>2</td>\n",
       "      <td>0</td>\n",
       "      <td>0</td>\n",
       "      <td>0</td>\n",
       "      <td>0</td>\n",
       "      <td>0</td>\n",
       "      <td>0</td>\n",
       "      <td>0</td>\n",
       "      <td>...</td>\n",
       "      <td>0</td>\n",
       "      <td>0</td>\n",
       "      <td>0</td>\n",
       "      <td>0</td>\n",
       "      <td>0</td>\n",
       "      <td>0</td>\n",
       "      <td>0</td>\n",
       "      <td>0</td>\n",
       "      <td>0</td>\n",
       "      <td>0</td>\n",
       "    </tr>\n",
       "    <tr>\n",
       "      <th>2</th>\n",
       "      <td>1440.0</td>\n",
       "      <td>2.0</td>\n",
       "      <td>3</td>\n",
       "      <td>0</td>\n",
       "      <td>0</td>\n",
       "      <td>0</td>\n",
       "      <td>0</td>\n",
       "      <td>0</td>\n",
       "      <td>0</td>\n",
       "      <td>0</td>\n",
       "      <td>...</td>\n",
       "      <td>0</td>\n",
       "      <td>0</td>\n",
       "      <td>0</td>\n",
       "      <td>0</td>\n",
       "      <td>0</td>\n",
       "      <td>0</td>\n",
       "      <td>0</td>\n",
       "      <td>0</td>\n",
       "      <td>0</td>\n",
       "      <td>0</td>\n",
       "    </tr>\n",
       "    <tr>\n",
       "      <th>3</th>\n",
       "      <td>1521.0</td>\n",
       "      <td>3.0</td>\n",
       "      <td>3</td>\n",
       "      <td>0</td>\n",
       "      <td>0</td>\n",
       "      <td>0</td>\n",
       "      <td>0</td>\n",
       "      <td>0</td>\n",
       "      <td>0</td>\n",
       "      <td>0</td>\n",
       "      <td>...</td>\n",
       "      <td>0</td>\n",
       "      <td>0</td>\n",
       "      <td>0</td>\n",
       "      <td>0</td>\n",
       "      <td>0</td>\n",
       "      <td>0</td>\n",
       "      <td>0</td>\n",
       "      <td>0</td>\n",
       "      <td>0</td>\n",
       "      <td>0</td>\n",
       "    </tr>\n",
       "    <tr>\n",
       "      <th>4</th>\n",
       "      <td>1200.0</td>\n",
       "      <td>2.0</td>\n",
       "      <td>2</td>\n",
       "      <td>0</td>\n",
       "      <td>0</td>\n",
       "      <td>0</td>\n",
       "      <td>0</td>\n",
       "      <td>0</td>\n",
       "      <td>0</td>\n",
       "      <td>0</td>\n",
       "      <td>...</td>\n",
       "      <td>0</td>\n",
       "      <td>0</td>\n",
       "      <td>0</td>\n",
       "      <td>0</td>\n",
       "      <td>0</td>\n",
       "      <td>0</td>\n",
       "      <td>0</td>\n",
       "      <td>0</td>\n",
       "      <td>0</td>\n",
       "      <td>0</td>\n",
       "    </tr>\n",
       "    <tr>\n",
       "      <th>6</th>\n",
       "      <td>2732.0</td>\n",
       "      <td>4.0</td>\n",
       "      <td>4</td>\n",
       "      <td>0</td>\n",
       "      <td>0</td>\n",
       "      <td>0</td>\n",
       "      <td>0</td>\n",
       "      <td>0</td>\n",
       "      <td>0</td>\n",
       "      <td>0</td>\n",
       "      <td>...</td>\n",
       "      <td>0</td>\n",
       "      <td>0</td>\n",
       "      <td>0</td>\n",
       "      <td>0</td>\n",
       "      <td>0</td>\n",
       "      <td>0</td>\n",
       "      <td>0</td>\n",
       "      <td>0</td>\n",
       "      <td>0</td>\n",
       "      <td>0</td>\n",
       "    </tr>\n",
       "  </tbody>\n",
       "</table>\n",
       "<p>5 rows × 243 columns</p>\n",
       "</div>"
      ],
      "text/plain": [
       "   total_sqft  bath  bhk  1st Block Jayanagar  1st Phase JP Nagar  \\\n",
       "0      1056.0   2.0    2                    0                   0   \n",
       "2      1440.0   2.0    3                    0                   0   \n",
       "3      1521.0   3.0    3                    0                   0   \n",
       "4      1200.0   2.0    2                    0                   0   \n",
       "6      2732.0   4.0    4                    0                   0   \n",
       "\n",
       "   2nd Phase Judicial Layout  2nd Stage Nagarbhavi  5th Block Hbr Layout  \\\n",
       "0                          0                     0                     0   \n",
       "2                          0                     0                     0   \n",
       "3                          0                     0                     0   \n",
       "4                          0                     0                     0   \n",
       "6                          0                     0                     0   \n",
       "\n",
       "   5th Phase JP Nagar  6th Phase JP Nagar      ...       Vijayanagar  \\\n",
       "0                   0                   0      ...                 0   \n",
       "2                   0                   0      ...                 0   \n",
       "3                   0                   0      ...                 0   \n",
       "4                   0                   0      ...                 0   \n",
       "6                   0                   0      ...                 0   \n",
       "\n",
       "   Vishveshwarya Layout  Vishwapriya Layout  Vittasandra  Whitefield  \\\n",
       "0                     0                   0            0           0   \n",
       "2                     0                   0            0           0   \n",
       "3                     0                   0            0           0   \n",
       "4                     0                   0            0           0   \n",
       "6                     0                   0            0           0   \n",
       "\n",
       "   Yelachenahalli  Yelahanka  Yelahanka New Town  Yelenahalli  Yeshwanthpur  \n",
       "0               0          0                   0            0             0  \n",
       "2               0          0                   0            0             0  \n",
       "3               0          0                   0            0             0  \n",
       "4               0          0                   0            0             0  \n",
       "6               0          0                   0            0             0  \n",
       "\n",
       "[5 rows x 243 columns]"
      ]
     },
     "execution_count": 104,
     "metadata": {},
     "output_type": "execute_result"
    }
   ],
   "source": [
    "X = new_df.drop('price',axis='columns')\n",
    "X.head()"
   ]
  },
  {
   "cell_type": "code",
   "execution_count": 105,
   "metadata": {},
   "outputs": [
    {
     "data": {
      "text/plain": [
       "0     39.07\n",
       "2     62.00\n",
       "3     95.00\n",
       "4     51.00\n",
       "6    204.00\n",
       "Name: price, dtype: float64"
      ]
     },
     "execution_count": 105,
     "metadata": {},
     "output_type": "execute_result"
    }
   ],
   "source": [
    "y = new_df.price\n",
    "y.head()"
   ]
  },
  {
   "cell_type": "code",
   "execution_count": 106,
   "metadata": {},
   "outputs": [],
   "source": [
    "from sklearn.model_selection import train_test_split\n",
    "X_train , X_test , y_train , y_test = train_test_split(X,y,test_size=0.2,random_state=0)"
   ]
  },
  {
   "cell_type": "code",
   "execution_count": 107,
   "metadata": {},
   "outputs": [
    {
     "data": {
      "text/plain": [
       "0.816229579085028"
      ]
     },
     "execution_count": 107,
     "metadata": {},
     "output_type": "execute_result"
    }
   ],
   "source": [
    "from sklearn.linear_model import LinearRegression\n",
    "regressor = LinearRegression()\n",
    "regressor.fit(X_train,y_train)\n",
    "regressor.score(X_test,y_test)"
   ]
  },
  {
   "cell_type": "code",
   "execution_count": 108,
   "metadata": {},
   "outputs": [],
   "source": [
    "def predict_price(location,sqft,bath,bhk):\n",
    "    loc_index = np.where(X.columns == location)[0][0]\n",
    "    x = np.zeros(len(X.columns))\n",
    "    x[0] = sqft\n",
    "    x[1] = bath\n",
    "    x[2] = bhk\n",
    "    if loc_index >= 0:\n",
    "        x[loc_index] = 1\n",
    "    return regressor.predict([x])[0]"
   ]
  },
  {
   "cell_type": "code",
   "execution_count": 109,
   "metadata": {},
   "outputs": [],
   "source": [
    "import pickle\n",
    "with open('banglore_price_model.pickle','wb') as f:\n",
    "    pickle.dump(regressor,f)"
   ]
  },
  {
   "cell_type": "code",
   "execution_count": 110,
   "metadata": {},
   "outputs": [
    {
     "data": {
      "text/plain": [
       "82.98099138588901"
      ]
     },
     "execution_count": 110,
     "metadata": {},
     "output_type": "execute_result"
    }
   ],
   "source": [
    "predict_price('2nd Stage Nagarbhavi',1000,2,2)"
   ]
  },
  {
   "cell_type": "code",
   "execution_count": 111,
   "metadata": {},
   "outputs": [
    {
     "data": {
      "text/html": [
       "<div>\n",
       "<style scoped>\n",
       "    .dataframe tbody tr th:only-of-type {\n",
       "        vertical-align: middle;\n",
       "    }\n",
       "\n",
       "    .dataframe tbody tr th {\n",
       "        vertical-align: top;\n",
       "    }\n",
       "\n",
       "    .dataframe thead th {\n",
       "        text-align: right;\n",
       "    }\n",
       "</style>\n",
       "<table border=\"1\" class=\"dataframe\">\n",
       "  <thead>\n",
       "    <tr style=\"text-align: right;\">\n",
       "      <th></th>\n",
       "      <th>location</th>\n",
       "      <th>total_sqft</th>\n",
       "      <th>bath</th>\n",
       "      <th>price</th>\n",
       "      <th>bhk</th>\n",
       "      <th>price_per_sqft</th>\n",
       "    </tr>\n",
       "  </thead>\n",
       "  <tbody>\n",
       "    <tr>\n",
       "      <th>0</th>\n",
       "      <td>Electronic City Phase II</td>\n",
       "      <td>1056.0</td>\n",
       "      <td>2.0</td>\n",
       "      <td>39.07</td>\n",
       "      <td>2</td>\n",
       "      <td>3699.810606</td>\n",
       "    </tr>\n",
       "    <tr>\n",
       "      <th>2</th>\n",
       "      <td>Uttarahalli</td>\n",
       "      <td>1440.0</td>\n",
       "      <td>2.0</td>\n",
       "      <td>62.00</td>\n",
       "      <td>3</td>\n",
       "      <td>4305.555556</td>\n",
       "    </tr>\n",
       "    <tr>\n",
       "      <th>3</th>\n",
       "      <td>Lingadheeranahalli</td>\n",
       "      <td>1521.0</td>\n",
       "      <td>3.0</td>\n",
       "      <td>95.00</td>\n",
       "      <td>3</td>\n",
       "      <td>6245.890861</td>\n",
       "    </tr>\n",
       "    <tr>\n",
       "      <th>4</th>\n",
       "      <td>Kothanur</td>\n",
       "      <td>1200.0</td>\n",
       "      <td>2.0</td>\n",
       "      <td>51.00</td>\n",
       "      <td>2</td>\n",
       "      <td>4250.000000</td>\n",
       "    </tr>\n",
       "    <tr>\n",
       "      <th>6</th>\n",
       "      <td>Old Airport Road</td>\n",
       "      <td>2732.0</td>\n",
       "      <td>4.0</td>\n",
       "      <td>204.00</td>\n",
       "      <td>4</td>\n",
       "      <td>7467.057101</td>\n",
       "    </tr>\n",
       "  </tbody>\n",
       "</table>\n",
       "</div>"
      ],
      "text/plain": [
       "                   location  total_sqft  bath   price  bhk  price_per_sqft\n",
       "0  Electronic City Phase II      1056.0   2.0   39.07    2     3699.810606\n",
       "2               Uttarahalli      1440.0   2.0   62.00    3     4305.555556\n",
       "3        Lingadheeranahalli      1521.0   3.0   95.00    3     6245.890861\n",
       "4                  Kothanur      1200.0   2.0   51.00    2     4250.000000\n",
       "6          Old Airport Road      2732.0   4.0  204.00    4     7467.057101"
      ]
     },
     "execution_count": 111,
     "metadata": {},
     "output_type": "execute_result"
    }
   ],
   "source": [
    "predict_price('Indira Nagar',1000,2,2)\n",
    "df.head()"
   ]
  },
  {
   "cell_type": "code",
   "execution_count": 112,
   "metadata": {},
   "outputs": [],
   "source": [
    "import json\n",
    "columns = {\n",
    "    'data_columns' : [col.lower() for col in X_train.columns]\n",
    "}\n",
    "with open('columns.json','w') as f:\n",
    "    f.write(json.dumps(columns))"
   ]
  },
  {
   "cell_type": "code",
   "execution_count": 113,
   "metadata": {},
   "outputs": [
    {
     "data": {
      "text/plain": [
       "'4.0'"
      ]
     },
     "execution_count": 113,
     "metadata": {},
     "output_type": "execute_result"
    }
   ],
   "source": [
    "pickle.format_version"
   ]
  },
  {
   "cell_type": "code",
   "execution_count": 114,
   "metadata": {},
   "outputs": [
    {
     "ename": "AttributeError",
     "evalue": "'LinearRegression' object has no attribute '__version__'",
     "output_type": "error",
     "traceback": [
      "\u001b[1;31m---------------------------------------------------------------------------\u001b[0m",
      "\u001b[1;31mAttributeError\u001b[0m                            Traceback (most recent call last)",
      "\u001b[1;32m<ipython-input-114-b927f5307d52>\u001b[0m in \u001b[0;36m<module>\u001b[1;34m\u001b[0m\n\u001b[1;32m----> 1\u001b[1;33m \u001b[0mregressor\u001b[0m\u001b[1;33m.\u001b[0m\u001b[0m__version__\u001b[0m\u001b[1;33m\u001b[0m\u001b[1;33m\u001b[0m\u001b[0m\n\u001b[0m",
      "\u001b[1;31mAttributeError\u001b[0m: 'LinearRegression' object has no attribute '__version__'"
     ]
    }
   ],
   "source": [
    "regressor.__version__"
   ]
  },
  {
   "cell_type": "code",
   "execution_count": 115,
   "metadata": {},
   "outputs": [
    {
     "name": "stdout",
     "output_type": "stream",
     "text": [
      "<class 'pandas.core.frame.DataFrame'>\n",
      "Int64Index: 8193 entries, 0 to 13319\n",
      "Columns: 244 entries, total_sqft to Yeshwanthpur\n",
      "dtypes: float64(3), int64(1), uint8(240)\n",
      "memory usage: 2.2 MB\n"
     ]
    }
   ],
   "source": [
    "new_df.info()"
   ]
  },
  {
   "cell_type": "code",
   "execution_count": 123,
   "metadata": {},
   "outputs": [
    {
     "data": {
      "text/plain": [
       "{'bath': [1, 9], 'bhk': [1, 11]}"
      ]
     },
     "execution_count": 123,
     "metadata": {},
     "output_type": "execute_result"
    }
   ],
   "source": [
    "range_data = {\n",
    "    'bath': [int(new_df.bath.min()) , int(new_df.bath.max()) ],\n",
    "    'bhk' : [int(new_df.bhk.min()) , int(new_df.bhk.max())]\n",
    "}\n",
    "range_data"
   ]
  },
  {
   "cell_type": "code",
   "execution_count": 124,
   "metadata": {},
   "outputs": [],
   "source": [
    "with open('numerical_range.json','w') as f:\n",
    "    f.write(json.dumps(range_data))"
   ]
  },
  {
   "cell_type": "code",
   "execution_count": null,
   "metadata": {},
   "outputs": [],
   "source": []
  }
 ],
 "metadata": {
  "kernelspec": {
   "display_name": "Python 3",
   "language": "python",
   "name": "python3"
  },
  "language_info": {
   "codemirror_mode": {
    "name": "ipython",
    "version": 3
   },
   "file_extension": ".py",
   "mimetype": "text/x-python",
   "name": "python",
   "nbconvert_exporter": "python",
   "pygments_lexer": "ipython3",
   "version": "3.7.1"
  }
 },
 "nbformat": 4,
 "nbformat_minor": 2
}
